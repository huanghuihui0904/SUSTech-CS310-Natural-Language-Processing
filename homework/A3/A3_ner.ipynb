{
 "cells": [
  {
   "cell_type": "markdown",
   "metadata": {},
   "source": [
    "## CS310 Natural Language Processing\n",
    "## Assignment 3 (part 1). Recurrent Neural Networks for Language Modeling\n",
    "\n",
    "**Total points**: 30\n",
    "\n",
    "In this assignment, you will train a vanilla RNN language model on《论语》and evaluate its perplexity."
   ]
  },
  {
   "cell_type": "markdown",
   "metadata": {},
   "source": [
    "### 0. Import Necessary Libraries"
   ]
  },
  {
   "cell_type": "code",
   "execution_count": 15,
   "metadata": {},
   "outputs": [],
   "source": [
    "import torch\n",
    "import torch.nn as nn\n",
    "import torch.nn.functional as F\n",
    "import torch\n",
    "import torch.nn as nn\n",
    "from torch.nn.utils.rnn import pack_padded_sequence, pad_sequence, pad_packed_sequence\n",
    "import itertools\n",
    "import numpy as np\n",
    "from typing import List\n"
   ]
  },
  {
   "cell_type": "markdown",
   "metadata": {},
   "source": [
    "### (1) (5 points) Data preprocessing"
   ]
  },
  {
   "cell_type": "code",
   "execution_count": 16,
   "metadata": {},
   "outputs": [],
   "source": [
    "# Adapted from https://github.com/Andras7/word2vec-pytorch/blob/master/word2vec/data_reader.py\n",
    "\n",
    "import numpy as np\n",
    "\n",
    "class CorpusReader:\n",
    "    NEGATIVE_TABLE_SIZE = 1e8\n",
    "\n",
    "    def __init__(self, inputFileName, min_count:int = 5, lang=\"zh\") :\n",
    "        self.negatives = []\n",
    "        self.discards = []\n",
    "        self.negpos = 0\n",
    "\n",
    "        self.word2id = dict()\n",
    "        self.id2word = dict()\n",
    "        self.token_count = 0\n",
    "        self.word_frequency = dict()\n",
    "\n",
    "        self.lang = lang\n",
    "        self.inputFileName = inputFileName\n",
    "        self.read_words(min_count)\n",
    "        self.initTableNegatives()\n",
    "        self.initTableDiscards()\n",
    "\n",
    "    def read_words(self, min_count):\n",
    "        word_frequency = dict()\n",
    "        for line in open(self.inputFileName, encoding=\"utf8\"):\n",
    "            if self.lang == \"zh\":\n",
    "                words = list(line.strip())\n",
    "            else:\n",
    "                words = line.split()\n",
    "            if len(words) > 0:\n",
    "                for word in words:\n",
    "                    self.token_count += 1\n",
    "                    word_frequency[word] = word_frequency.get(word, 0) + 1\n",
    "                    if self.token_count % 1000000 == 0:\n",
    "                        print(\"Read \" + str(int(self.token_count / 1000000)) + \"M words.\")\n",
    "\n",
    "        wid = 0\n",
    "        for w, c in sorted(word_frequency.items(), key=lambda x: x[1], reverse=True):\n",
    "            if c < min_count: # filter out low frequency words\n",
    "                continue\n",
    "            self.word2id[w] = wid\n",
    "            self.id2word[wid] = w\n",
    "            self.word_frequency[wid] = c\n",
    "            wid += 1\n",
    "        print(\"Total vocabulary: \" + str(len(self.word2id)))\n",
    "\n",
    "    def initTableDiscards(self):\n",
    "        t = 0.0001\n",
    "        f = np.array(list(self.word_frequency.values())) / self.token_count\n",
    "        self.discards = np.sqrt(t / f) + (t / f)\n",
    "\n",
    "    def initTableNegatives(self):\n",
    "        pow_frequency = np.array(list(self.word_frequency.values())) ** (3/4)\n",
    "        words_pow = sum(pow_frequency)\n",
    "        ratio = pow_frequency / words_pow\n",
    "        count = np.round(ratio * CorpusReader.NEGATIVE_TABLE_SIZE)\n",
    "        for wid, c in enumerate(count):\n",
    "            self.negatives += [wid] * int(c)\n",
    "        self.negatives = np.array(self.negatives)\n",
    "        np.random.shuffle(self.negatives)\n",
    "\n",
    "    def getNegatives(self, target, size): \n",
    "        while True:\n",
    "            response = self.negatives[self.negpos:self.negpos + size]\n",
    "            self.negpos = (self.negpos + size) % len(self.negatives)\n",
    "            if len(response) != size:\n",
    "                response = np.concatenate((response, self.negatives[0:self.negpos]))\n",
    "            if target in response: # prevent target word itself from being negative sample\n",
    "                continue\n",
    "            return response"
   ]
  },
  {
   "cell_type": "code",
   "execution_count": 17,
   "metadata": {},
   "outputs": [
    {
     "name": "stdout",
     "output_type": "stream",
     "text": [
      "Total vocabulary: 1352\n"
     ]
    },
    {
     "name": "stdout",
     "output_type": "stream",
     "text": [
      "['子曰：学而时习之，不亦说乎？有朋自远方来，不亦乐乎？人不知而不愠，不亦君子乎？', '有子曰：其为人也孝弟，而好犯上者，鲜矣；不好犯上而好作乱者，未之有也。君子务本，本立而道生。孝弟也者，其为仁之本与！', '子曰：巧言令色，鲜矣仁！', '曾子曰：吾日三省吾身：为人谋而不忠乎？与朋友交而不信乎？传不习乎？', '子曰：道千乘之国，敬事而信，节用而爱人，使民以时。', '子曰：弟子入则孝，出则弟，谨而信，泛爱众，而亲仁，行有余力，则以学文。', '子夏曰：贤贤易色；事父母，能竭其力；事君，能致其身；与朋友交，言而有信。虽曰未学，吾必谓之学矣。', '子曰：君子不重则不威，学则不固。主忠信，无友不如己者，过，则勿惮改。', '曾子曰：慎终追远，民德归厚矣。', '子禽问于子贡曰：夫子至于是邦也，必闻其政，求之与，抑与之与？子贡曰：夫子温、良、恭、俭、让以得之。夫子之求之也，其诸异乎人之求之与？']\n",
      "id2word: [(0, '[PAD]'), (1, '，'), (2, '子'), (3, '。'), (4, '：')]\n",
      "word2id: [('[PAD]', 0), ('，', 1), ('子', 2), ('。', 3), ('：', 4)]\n"
     ]
    }
   ],
   "source": [
    "input_file = 'lunyu_20chapters.txt'\n",
    "\n",
    "corpus = CorpusReader(inputFileName=input_file, min_count=1)\n",
    "word2id = corpus.word2id\n",
    "id2word = corpus.id2word\n",
    "vocab_size = len(word2id)\n",
    "with open('lunyu_20chapters.txt', 'r', encoding='utf-8') as file:\n",
    "    raw_data = [line.strip() for line in file]\n",
    "print(raw_data[:10])\n",
    "pad_token = '[PAD]'\n",
    "pad_index = 0\n",
    "\n",
    "word2id = {word: (index + 1) for word, index in word2id.items()}\n",
    "if isinstance(id2word, dict):\n",
    "    id2word = sorted(id2word.items(), key=lambda x: x[0])\n",
    "    id2word = [word for _, word in id2word]\n",
    "\n",
    "id2word.insert(pad_index, pad_token)\n",
    "id2word = {index: word for index, word in enumerate(id2word)}\n",
    "word2id[pad_token] = pad_index\n",
    "\n",
    "print('id2word:', sorted(list(id2word.items()), key=lambda x: x[0])[:5])\n",
    "print('word2id:', sorted(list(word2id.items()), key=lambda x: x[1])[:5])"
   ]
  },
  {
   "cell_type": "markdown",
   "metadata": {},
   "source": [
    "### 2. Build the Model"
   ]
  },
  {
   "cell_type": "markdown",
   "metadata": {},
   "source": [
    "### (2) (15 points) Model implementation. \n",
    "(a) Use torch.nn.RNN module \n",
    "(b) Do NOT use bidirectional network; multi-layer is fine."
   ]
  },
  {
   "cell_type": "code",
   "execution_count": 18,
   "metadata": {},
   "outputs": [
    {
     "name": "stdout",
     "output_type": "stream",
     "text": [
      "[tensor([23376, 26352, 65306, 20026, 25919, 20197, 24503, 65292, 35692, 22914,\n",
      "        21271, 36784, 65292, 23621, 20854, 25152, 32780, 20247, 26143, 20849,\n",
      "        20043, 12290]), tensor([23376, 26352, 65306, 12298, 35799, 12299, 19977, 30334, 65292, 19968,\n",
      "        35328, 20197, 34109, 20043, 65292, 26352, 65306, 24605, 26080, 37034,\n",
      "        12290]), tensor([23376, 26352, 65306, 36947, 20043, 20197, 25919, 65292, 40784, 20043,\n",
      "        20197, 21009, 65292, 27665, 20813, 32780, 26080, 32827, 12290, 36947,\n",
      "        20043, 20197, 24503, 65292, 40784, 20043, 20197, 31036, 65292, 26377,\n",
      "        32827, 19988, 26684, 12290]), tensor([23376, 26352, 65306, 21566, 21313, 26377, 20116, 32780, 24535, 20110,\n",
      "        23398, 65292, 19977, 21313, 32780, 31435, 65292, 22235, 21313, 32780,\n",
      "        19981, 24785, 65292, 20116, 21313, 32780, 30693, 22825, 21629, 65292,\n",
      "        20845, 21313, 32780, 32819, 39034, 65292, 19971, 21313, 32780, 20174,\n",
      "        24515, 25152, 27442, 65292, 19981, 36926, 30697, 12290]), tensor([23391, 25087, 23376, 38382, 23389, 65292, 23376, 26352, 65306, 26080,\n",
      "        36829, 12290, 27146, 36831, 24481, 65292, 23376, 21578, 20043, 26352,\n",
      "        65306, 23391, 23385, 38382, 23389, 20110, 25105, 65292, 25105, 23545,\n",
      "        26352, 26080, 36829, 12290, 27146, 36831, 26352, 65306, 20309, 35859,\n",
      "        20063, 65311, 23376, 26352, 65306, 29983, 65292, 20107, 20043, 20197,\n",
      "        31036, 65307, 27515, 65292, 33900, 20043, 20197, 31036, 65292, 31085,\n",
      "        20043, 20197, 31036, 12290]), tensor([23391, 27494, 20271, 38382, 23389, 12290, 23376, 26352, 65306, 29238,\n",
      "        27597, 21807, 20854, 30142, 20043, 24551, 12290]), tensor([23376, 28216, 38382, 23389, 12290, 23376, 26352, 65306, 20170, 20043,\n",
      "        23389, 32773, 65292, 26159, 35859, 33021, 20859, 12290, 33267, 20110,\n",
      "        29356, 39532, 65292, 30342, 33021, 26377, 20859, 65307, 19981, 25964,\n",
      "        65292, 20309, 20197, 21035, 20046, 65311]), tensor([23376, 22799, 38382, 23389, 12290, 23376, 26352, 65306, 33394, 38590,\n",
      "        12290, 26377, 20107, 65292, 24351, 23376, 26381, 20854, 21171, 65307,\n",
      "        26377, 37202, 39135, 65292, 20808, 29983, 39316, 65292, 26366, 26159,\n",
      "        20197, 20026, 23389, 20046, 65311]), tensor([23376, 26352, 65306, 21566, 19982, 22238, 35328, 32456, 26085, 65292,\n",
      "        19981, 36829, 65292, 22914, 24858, 12290, 36864, 32780, 30465, 20854,\n",
      "        31169, 65292, 20134, 36275, 20197, 21457, 65292, 22238, 20063, 19981,\n",
      "        24858, 12290]), tensor([23376, 26352, 65306, 35270, 20854, 25152, 20197, 65292, 35266, 20854,\n",
      "        25152, 30001, 65292, 23519, 20854, 25152, 23433, 65292, 20154, 28937,\n",
      "        24267, 21705, 65311, 20154, 28937, 24267, 21705, 65311]), tensor([23376, 26352, 65306, 28201, 25925, 32780, 30693, 26032, 65292, 21487,\n",
      "        20197, 20026, 24072, 30691, 12290]), tensor([23376, 26352, 65306, 21531, 23376, 19981, 22120, 12290]), tensor([23376, 36129, 38382, 21531, 23376, 12290, 23376, 26352, 65306, 20808,\n",
      "        34892, 20854, 35328, 32780, 21518, 20174, 20043, 12290]), tensor([23376, 26352, 65306, 21531, 23376, 21608, 32780, 19981, 27604, 65292,\n",
      "        23567, 20154, 27604, 32780, 19981, 21608, 12290]), tensor([23376, 26352, 65306, 23398, 32780, 19981, 24605, 21017, 32596, 65292,\n",
      "        24605, 32780, 19981, 23398, 21017, 27526, 12290]), tensor([23376, 26352, 65306, 25915, 20046, 24322, 31471, 65292, 26031, 23475,\n",
      "        20063, 24050, 65281])]\n"
     ]
    }
   ],
   "source": [
    "def batchify(data: List, batch_size: int):\n",
    "\n",
    "    assert batch_size < len(data) # data should be long enough\n",
    "    result=[]\n",
    "    for i in range(0, len(data), batch_size):\n",
    "        batch = data[i:i + batch_size]\n",
    "        if i > len(data) - batch_size: # if the last batch is smaller than batch_size, pad it with the first few data\n",
    "            batch = batch + data[:i + batch_size - len(data)]\n",
    "        \n",
    "        ## YOUR CODE HERE ###\n",
    "        \n",
    "        sequences = [torch.LongTensor([ord(c) for c in line]) for line in batch]\n",
    "        result.append(sequences)\n",
    "    return result\n",
    "\n",
    "batch_size=16\n",
    "dataloader=batchify(raw_data,batch_size)\n",
    "print(dataloader[1])"
   ]
  },
  {
   "cell_type": "code",
   "execution_count": 19,
   "metadata": {},
   "outputs": [],
   "source": [
    "import torch\n",
    "from torch import nn\n",
    "from torch.nn.utils.rnn import pack_padded_sequence, pad_packed_sequence, pad_sequence\n",
    "\n",
    "class RNNLanguageModel(nn.Module):\n",
    "    def __init__(self, vocab_size, embedding_dim, hidden_dim, n_layers, dropout=0.5):\n",
    "        super(RNNLanguageModel, self).__init__()\n",
    "        \n",
    "        self.embedding = nn.Embedding(vocab_size, embedding_dim)\n",
    "        self.rnn = nn.RNN(embedding_dim, hidden_dim, num_layers=n_layers, batch_first=True, dropout=dropout)\n",
    "        self.fc = nn.Linear(hidden_dim, vocab_size)\n",
    "    \n",
    "    def forward(self, sequences):\n",
    "        seq_ids = [torch.tensor(seq, dtype=torch.long) for seq in sequences]\n",
    "        seq_lens = torch.tensor([len(seq) for seq in seq_ids], dtype=torch.long)\n",
    "\n",
    "        seq_ids_padded = pad_sequence(seq_ids, batch_first=True, padding_value=0)\n",
    "        # print(seq_ids_padded.size())\n",
    "        seq_ids_padded = torch.clamp(seq_ids_padded, 0, self.embedding.num_embeddings - 1)\n",
    "\n",
    "        seq_embs = self.embedding(seq_ids_padded)\n",
    "        seq_embs_packed = pack_padded_sequence(seq_embs, seq_lens, batch_first=True, enforce_sorted=False)\n",
    "\n",
    "\n",
    "        out_packed, _ = self.rnn(seq_embs_packed)\n",
    "        out_unpacked, _ = pad_packed_sequence(out_packed, batch_first=True)\n",
    "\n",
    "        logits = self.fc(out_unpacked)\n",
    "        log_probs = F.log_softmax(logits, dim=-1)\n",
    "\n",
    "        targets_padded = torch.cat((seq_ids_padded[:, 1:], torch.zeros(seq_ids_padded.shape[0], 1, dtype=torch.long)), dim=1)\n",
    "\n",
    "        \n",
    "        return log_probs,targets_padded\n"
   ]
  },
  {
   "cell_type": "markdown",
   "metadata": {},
   "source": [
    "### 3. Train and Evaluate"
   ]
  },
  {
   "cell_type": "markdown",
   "metadata": {},
   "source": [
    "#### (3) (10 points) Evaluation and extended experiment.\n",
    "#### (3) (a) Report perplexity on training set,"
   ]
  },
  {
   "cell_type": "code",
   "execution_count": 20,
   "metadata": {},
   "outputs": [
    {
     "name": "stderr",
     "output_type": "stream",
     "text": [
      "/var/folders/qd/pr_ybl6s7c7d3nbyj6yt9g0w0000gn/T/ipykernel_33934/4218599966.py:14: UserWarning: To copy construct from a tensor, it is recommended to use sourceTensor.clone().detach() or sourceTensor.clone().detach().requires_grad_(True), rather than torch.tensor(sourceTensor).\n",
      "  seq_ids = [torch.tensor(seq, dtype=torch.long) for seq in sequences]\n"
     ]
    },
    {
     "name": "stdout",
     "output_type": "stream",
     "text": [
      "Epoch 1, Perplexity: 6.993050575256348\n",
      "Epoch 2, Perplexity: 1.0415560007095337\n",
      "Epoch 3, Perplexity: 1.0183625221252441\n",
      "Epoch 4, Perplexity: 1.0150909423828125\n",
      "Epoch 5, Perplexity: 1.0140013694763184\n",
      "Training completed.\n"
     ]
    }
   ],
   "source": [
    "\n",
    "num_epochs = 5  \n",
    "embedding_dim = 50  \n",
    "hidden_dim = 100  \n",
    "output_dim = vocab_size  \n",
    "num_layers = 2  \n",
    "model = RNNLanguageModel(vocab_size, embedding_dim, hidden_dim, num_layers)\n",
    "\n",
    "loss_function = nn.NLLLoss(ignore_index=0, reduction='none')\n",
    "\n",
    "n_epochs = 5\n",
    "optimizer = torch.optim.Adam(model.parameters(), lr=0.001)\n",
    "scheduler = torch.optim.lr_scheduler.CosineAnnealingLR(optimizer, T_max=n_epochs) # or torch.optim.lr_scheduler.StepLR()\n",
    "\n",
    "\n",
    "for epoch in range(n_epochs):\n",
    "    model.train()\n",
    "    total_perplexity = 0\n",
    "    total_loss = 0.0\n",
    "    total_words = 0  \n",
    "    for inputs in dataloader:\n",
    "        model.zero_grad()\n",
    "\n",
    "\n",
    "        output,targets = model(inputs)\n",
    "\n",
    "        targets_flat = targets.view(-1)\n",
    "        log_probs_flat = output.view(-1, output.size(-1))\n",
    "        loss = loss_function(log_probs_flat, targets_flat)\n",
    "\n",
    "\n",
    "        batch_loss = loss.sum()\n",
    "        total_loss += batch_loss.item()  \n",
    "        non_ignored_targets = targets_flat[targets_flat != 0]\n",
    "        total_words += non_ignored_targets.size(0)\n",
    "        batch_loss.backward()\n",
    "\n",
    "        optimizer.step()\n",
    "    \n",
    "    average_loss = total_loss / total_words \n",
    "    perplexity = torch.exp(torch.tensor(average_loss))  \n",
    "    scheduler.step()\n",
    "    print(f'Epoch {epoch+1}, Perplexity: {perplexity.item()}')\n",
    "\n",
    "print('Training completed.')"
   ]
  },
  {
   "cell_type": "markdown",
   "metadata": {},
   "source": [
    "### 4. Experiments"
   ]
  },
  {
   "cell_type": "markdown",
   "metadata": {},
   "source": [
    "#### (3) (b) Generate some sentences"
   ]
  },
  {
   "cell_type": "code",
   "execution_count": 72,
   "metadata": {},
   "outputs": [],
   "source": [
    "def generate_sentence(model, start_words, end_word, max_length, word2id, id2word, temperature=1.0):\n",
    "\n",
    "    model.eval() \n",
    "    sentence_indices = [word2id[word] for word in start_words] \n",
    "    \n",
    "    for _ in range(max_length):\n",
    "        \n",
    "        with torch.no_grad():\n",
    "            log_probs, _ = model([sentence_indices])\n",
    "        \n",
    "        probabilities = F.softmax(log_probs[:, -1, :] / temperature, dim=-1).squeeze()\n",
    "        \n",
    "        next_token_idx = torch.multinomial(probabilities, 1).item()\n",
    "        sentence_indices.append(next_token_idx)\n",
    "        \n",
    "        if next_token_idx == word2id[end_word]:\n",
    "            break\n",
    "    \n",
    "    generated_sentence = [id2word[idx] for idx in sentence_indices]\n",
    "    return ' '.join(generated_sentence)"
   ]
  },
  {
   "cell_type": "code",
   "execution_count": 120,
   "metadata": {},
   "outputs": [
    {
     "name": "stdout",
     "output_type": "stream",
     "text": [
      "Generated Sentence Indices: 子 曰 ： 咎 系 裘 生 巽 占 沮 便 荆 肥 木 他 腥 畜 苟 王 尧 祝 沮 图 乘 宾 佾 割 废 而 虽 诺 衣 口 封 莞 喟 诗 助 材 念 罔 损 道 宫 匡 质 桴 亡 礼 羊 列 鞟 善\n",
      "Generated Sentence Indices: 子 曰 ： 吉 享 冕 巽 给 锦 产 一 日 虐 虐 章 虐 愆 羹 请 母 由 久 。\n",
      "Generated Sentence Indices: 子 曰 ： 同 撤 证 踖 德 廉 忿 其 黄 玄 穆 本 挚 报 斯 釜 惜 壮 止 冯 问 乎 雌 狷 区 别 彬 棘 士 赉 尝 悲 余 贾 童 浸 且 予 细 族 肸 洁 鞟 , 袍 阼 亚 兕 独 各\n",
      "Generated Sentence Indices: 子 曰 ： 姓 虎 星 诱 侗 侗 舜 侮 为 修 宫 陶 饰 吉 探 均 施 则 弓 悾 亵 使 争 俭 利 绀 弓 用 兢 鮀 劝 孟 简 拖 崩 圃 费 色 颠 厩 民 诱 空 优 诔 火 观 悾 牡 讷\n",
      "Generated Sentence Indices: 子 曰 ： 首 忿 柴 矜 谋 物 澹 门 盍 他 诔 阈 躁 伊 馈 衣 迹 愆 洫 门 意 获 容 虐 虐 反 帝 虐 国 尚 志 甚 对 病 翼 萧 忿 没 目 失 卿 罢 萧 静 虐 希 虐 伐 本 憎\n"
     ]
    }
   ],
   "source": [
    "start_words = ['子', '曰','：']\n",
    "end_word = '。'\n",
    "\n",
    "max_length = 50 \n",
    "temperature = 2  \n",
    "for i in range(5):\n",
    "    generated_sentence = generate_sentence(model, start_words, end_word, max_length, word2id, id2word, temperature)\n",
    "    print(\"Generated Sentence Indices:\", generated_sentence)"
   ]
  },
  {
   "cell_type": "markdown",
   "metadata": {},
   "source": [
    "### (3) (c) Compare  the perplexity on two conditions"
   ]
  },
  {
   "cell_type": "code",
   "execution_count": 23,
   "metadata": {},
   "outputs": [],
   "source": [
    "class SkipGram(nn.Module):\n",
    "    def __init__(self, vocab_size, emb_size,word2id):\n",
    "        super(SkipGram, self).__init__()\n",
    "        self.vocab_size = vocab_size\n",
    "        self.emb_size = emb_size\n",
    "        self.emb_v = nn.Embedding(vocab_size, emb_size, sparse=True)\n",
    "        self.emb_u = nn.Embedding(vocab_size, emb_size, sparse=True)\n",
    "        self.word2id = word2id\n",
    "        initrange = 1.0 / self.emb_size \n",
    "        nn.init.uniform_(self.emb_v.weight.data, -initrange, initrange) \n",
    "        nn.init.constant_(self.emb_u.weight.data, 0) \n",
    "\n",
    "    def forward(self, center, outside, negative):\n",
    "\n",
    "        v_c = self.emb_v(center)\n",
    "        u_o = self.emb_u(outside)\n",
    "        u_n = self.emb_u(negative)\n",
    "        \n",
    "        ### YOUR CODE HERE ###\n",
    "        positive_dot_product = torch.mul(v_c, u_o).sum(dim=1)\n",
    "        positive_score = F.logsigmoid(torch.clamp(positive_dot_product, min=-10, max=10))\n",
    "\n",
    "        negative_dot_product = torch.bmm(u_n, v_c.unsqueeze(2)).squeeze(2)\n",
    "        negative_score = F.logsigmoid(torch.clamp(-negative_dot_product, min=-10, max=10))\n",
    "\n",
    "        loss = -torch.sum(positive_score + torch.sum(negative_score, dim=1))  # Scalar\n",
    "\n",
    "        return loss\n",
    "    \n",
    "    def save_embedding(self, id2word, file_name):\n",
    "        embedding = self.emb_v.weight.cpu().data.numpy()\n",
    "        with open(file_name, 'w') as f:\n",
    "            f.write('%d %d\\n' % (len(id2word), self.emb_size))\n",
    "            for wid, w in id2word.items():\n",
    "                e = ' '.join(map(lambda x: str(x), embedding[wid]))\n",
    "                f.write('%s %s\\n' % (w, e))"
   ]
  },
  {
   "cell_type": "code",
   "execution_count": 24,
   "metadata": {},
   "outputs": [],
   "source": [
    "# Re-use the code from lab with necessary modifications\n",
    "\n",
    "def a2_generate_data(words: List[str], window_size: int, k: int, corpus: CorpusReader):\n",
    "\n",
    "    ### YOUR CODE HERE ###\n",
    "    word_ids = [corpus.word2id[word] for word in words if word in corpus.word2id]  \n",
    "    result=[]\n",
    "    for i, center_word_id in enumerate(word_ids):\n",
    "        start = max(0, i - window_size)\n",
    "        end = min(len(word_ids), i + window_size + 1)\n",
    "        outside_word_ids = [word_ids[j] for j in range(start, end) if j != i]\n",
    "        for i in outside_word_ids:\n",
    "            negative_samples = corpus.getNegatives(center_word_id, k)\n",
    "            result.append((center_word_id,i,negative_samples))\n",
    "    return result\n",
    "    ### END YOUR CODE ###\n",
    "\n",
    "def a2_batchify(data: List, batch_size: int):\n",
    "    \"\"\" Group a stream into batches and yield them as torch tensors.\n",
    "    Args:\n",
    "        data: a list of tuples\n",
    "        batch_size: the batch size \n",
    "    Yields:\n",
    "        a tuple of three torch tensors: center, outside, negative\n",
    "    \"\"\"\n",
    "    assert batch_size < len(data) \n",
    "    result=[]\n",
    "    for i in range(0, len(data), batch_size):\n",
    "        batch = data[i:i + batch_size]\n",
    "        if i > len(data) - batch_size: \n",
    "            batch = batch + data[:i + batch_size - len(data)]\n",
    "        \n",
    "        ## YOUR CODE HERE ###\n",
    "        \n",
    "        center_ids = torch.tensor([item[0] for item in batch], dtype=torch.long)\n",
    "        outside_ids = torch.tensor([item[1] for item in batch], dtype=torch.long)\n",
    "        negative_ids = torch.tensor(np.vstack([item[2] for item in batch]), dtype=torch.long)\n",
    "\n",
    "        result.append((center_ids, outside_ids, negative_ids))\n",
    "    return result\n",
    "        ### END YOUR CODE ###\n"
   ]
  },
  {
   "cell_type": "code",
   "execution_count": 25,
   "metadata": {},
   "outputs": [
    {
     "name": "stdout",
     "output_type": "stream",
     "text": [
      "Total vocabulary: 1352\n",
      "['子', '曰', '：', '学', '而', '时', '习', '之', '，', '不', '亦', '说', '乎', '？', '有', '朋', '自', '远', '方', '来', '，', '不', '亦', '乐', '乎', '？', '人', '不', '知', '而', '不', '愠', '，', '不', '亦', '君', '子', '乎', '？', '有', '子', '曰', '：', '其', '为', '人', '也', '孝', '弟', '，', '而', '好', '犯', '上', '者', '，', '鲜', '矣', '；', '不', '好', '犯', '上', '而', '好', '作', '乱', '者', '，', '未', '之', '有', '也', '。', '君', '子', '务', '本', '，', '本', '立', '而', '道', '生', '。', '孝', '弟', '也', '者', '，', '其', '为', '仁', '之', '本', '与', '！', '子', '曰', '：', '巧', '言', '令', '色', '，', '鲜', '矣', '仁', '！', '曾', '子', '曰', '：', '吾', '日', '三', '省', '吾', '身', '：', '为', '人', '谋', '而', '不', '忠', '乎', '？', '与', '朋', '友', '交', '而', '不', '信', '乎', '？', '传', '不', '习', '乎', '？', '子', '曰', '：', '道', '千', '乘', '之', '国', '，', '敬', '事', '而', '信', '，', '节', '用', '而', '爱', '人', '，', '使', '民', '以', '时', '。', '子', '曰', '：', '弟', '子', '入', '则', '孝', '，', '出', '则', '弟', '，', '谨', '而', '信', '，', '泛', '爱', '众', '，', '而', '亲', '仁', '，', '行', '有', '余', '力', '，', '则', '以', '学', '文', '。', '子', '夏', '曰', '：', '贤', '贤', '易', '色', '；', '事', '父', '母', '，', '能', '竭', '其', '力', '；', '事', '君', '，', '能', '致', '其', '身', '；', '与', '朋', '友', '交', '，', '言', '而', '有', '信', '。', '虽', '曰', '未', '学', '，', '吾', '必', '谓', '之', '学', '矣', '。', '子', '曰', '：', '君', '子', '不', '重', '则', '不', '威', '，', '学', '则', '不', '固', '。', '主', '忠', '信', '，', '无', '友', '不', '如', '己', '者', '，', '过', '，', '则', '勿', '惮', '改', '。', '曾', '子', '曰', '：', '慎', '终', '追', '远', '，', '民', '德', '归', '厚', '矣', '。', '子', '禽', '问', '于', '子', '贡', '曰', '：', '夫', '子', '至', '于', '是', '邦', '也', '，', '必', '闻', '其', '政', '，', '求', '之', '与', '，', '抑', '与', '之', '与', '？', '子', '贡', '曰', '：', '夫', '子', '温', '、', '良', '、', '恭', '、', '俭', '、', '让', '以', '得', '之', '。', '夫', '子', '之', '求', '之', '也', '，', '其', '诸', '异', '乎', '人', '之', '求', '之', '与', '？', '子', '曰', '：', '父', '在', '，', '观', '其', '志', '；', '父', '没', '，', '观', '其', '行', '；', '三', '年', '无', '改', '于', '父', '之', '道', '，', '可', '谓', '孝', '矣', '。', '有', '子', '曰', '：', '礼', '之', '用', '，', '和', '为', '贵', '。', '先', '王', '之', '道', '，', '斯', '为', '美', '。', '小', '大', '由', '之', '，', '有', '所', '不', '行', '。', '知', '和', '而', '和', '，', '不', '以', '礼', '节', '之', '，', '亦', '不', '可', '行', '也', '。', '有', '子', '曰', '：', '信', '近', '于', '义', '，', '言', '可', '复', '也', '。', '恭', '近', '于', '礼', '，', '远', '耻', '辱', '也', '。', '因', '不', '失', '其', '亲', '，', '亦', '可', '宗', '也', '。', '子', '曰', '：', '君', '子', '食', '无', '求', '饱', '，', '居', '无', '求', '安', '，', '敏', '于', '事', '而', '慎', '于', '言', '，', '就', '有', '道', '而', '正', '焉', '，', '可', '谓', '好', '学', '也', '已', '。', '子', '贡', '曰', '：', '贫', '而', '无', '谄', '，', '富', '而', '无', '骄', '，', '何', '如', '？', '子', '曰', '：', '可', '也', '。', '未', '若', '贫', '而', '乐', '，', '富', '而', '好', '礼', '者', '也', '。', '子', '贡', '曰', '：', '《', '诗', '》', '云', '：', '如', '切', '如', '磋', '，', '如', '琢', '如', '磨', '，', '其', '斯', '之', '谓', '与', '？', '子', '曰', '：', '赐', '也', '，', '始', '可', '与', '言', '《', '诗', '》', '已', '矣', '，', '告', '诸', '往', '而', '知', '来', '者', '。', '子', '曰', '：', '不', '患', '人', '之', '不', '己', '知', '，', '患', '不', '知', '人', '也', '。', '子', '曰', '：', '为', '政', '以', '德', '，', '譬', '如', '北', '辰', '，', '居', '其', '所', '而', '众', '星', '共', '之', '。', '子', '曰', '：', '《', '诗', '》', '三', '百', '，', '一', '言', '以', '蔽', '之', '，', '曰', '：', '思', '无', '邪', '。', '子', '曰', '：', '道', '之', '以', '政', '，', '齐', '之', '以', '刑', '，', '民', '免', '而', '无', '耻', '。', '道', '之', '以', '德', '，', '齐', '之', '以', '礼', '，', '有', '耻', '且', '格', '。', '子', '曰', '：', '吾', '十', '有', '五', '而', '志', '于', '学', '，', '三', '十', '而', '立', '，', '四', '十', '而', '不', '惑', '，', '五', '十', '而', '知', '天', '命', '，', '六', '十', '而', '耳', '顺', '，', '七', '十', '而', '从', '心', '所', '欲', '，', '不', '逾', '矩', '。', '孟', '懿', '子', '问', '孝', '，', '子', '曰', '：', '无', '违', '。', '樊', '迟', '御', '，', '子', '告', '之', '曰', '：', '孟', '孙', '问', '孝', '于', '我', '，', '我', '对', '曰', '无', '违', '。', '樊', '迟', '曰', '：', '何', '谓', '也', '？', '子', '曰', '：', '生', '，', '事', '之', '以', '礼', '；', '死', '，', '葬', '之', '以', '礼', '，', '祭', '之', '以', '礼', '。', '孟', '武', '伯', '问', '孝', '。', '子', '曰', '：', '父', '母', '唯', '其', '疾', '之', '忧', '。', '子', '游', '问', '孝', '。', '子', '曰', '：', '今', '之', '孝', '者', '，', '是', '谓', '能', '养', '。', '至', '于', '犬', '马', '，', '皆', '能', '有', '养', '；', '不', '敬', '，', '何', '以', '别', '乎', '？', '子', '夏', '问', '孝', '。', '子', '曰', '：', '色', '难', '。', '有', '事', '，', '弟', '子', '服', '其', '劳', '；', '有', '酒', '食', '，', '先', '生', '馔', '，', '曾', '是', '以', '为', '孝', '乎', '？', '子', '曰', '：', '吾', '与', '回', '言', '终', '日', '，', '不', '违', '，', '如', '愚', '。', '退', '而', '省', '其', '私', '，', '亦', '足', '以', '发', '，', '回', '也', '不', '愚', '。', '子', '曰', '：', '视', '其', '所', '以', '，', '观', '其', '所', '由', '，', '察', '其', '所', '安', '，', '人', '焉', '廋', '哉', '？', '人', '焉', '廋', '哉', '？', '子', '曰', '：', '温', '故', '而', '知', '新', '，', '可', '以', '为', '师', '矣', '。', '子', '曰', '：', '君', '子', '不', '器', '。', '子', '贡', '问', '君', '子', '。', '子', '曰', '：', '先', '行', '其', '言', '而', '后', '从', '之', '。', '子', '曰', '：', '君', '子', '周', '而', '不', '比', '，', '小', '人', '比', '而', '不', '周', '。', '子', '曰', '：', '学', '而', '不', '思', '则', '罔', '，', '思', '而', '不', '学', '则', '殆', '。', '子', '曰', '：', '攻', '乎', '异', '端', '，', '斯', '害', '也', '已', '！', '子', '曰', '：', '由', '，', '诲', '女', '知', '之', '乎', '！', '知', '之', '为', '知', '之', '，', '不', '知', '为', '不', '知', '，', '是', '知', '也', '。', '子', '张', '学', '干', '禄', '。', '子', '曰', '：', '多', '闻', '阙', '疑', '，', '慎', '言', '其', '余', '，', '则', '寡', '尤', '；', '多', '见', '阙', '殆', '，', '慎', '行', '其', '余', '，', '则', '寡', '悔', '。', '言', '寡', '尤', '，', '行', '寡', '悔', '，', '禄', '在', '其', '中', '矣', '。', '哀', '公', '问', '曰', '：', '何', '为', '则', '民', '服', '？', '孔', '子', '对', '曰', '：', '举', '直', '错', '诸', '枉', '，', '则', '民', '服', '；', '举', '枉', '错', '诸', '直', '，', '则', '民', '不', '服', '。', '季', '康', '子', '问', '：', '使', '民', '敬', '、', '忠', '以', '劝', '，', '如', '之', '何', '？', '子', '曰', '：', '临', '之', '以', '庄', '，', '则', '敬', '；', '孝', '慈', '，', '则', '忠', '；', '举', '善', '而', '教', '不', '能', '，', '则', '劝', '。', '或', '谓', '孔', '子', '曰', '：', '子', '奚', '不', '为', '政', '？', '子', '曰', '：', '《', '书', '》', '云', '：', '孝', '乎', '惟', '孝', '，', '友', '于', '兄', '弟', '。', '施', '于', '有', '政', '，', '是', '亦', '为', '政', '，', '奚', '其', '为', '为', '政', '？', '子', '曰', '：', '人', '而', '无', '信', '，', '不', '知', '其', '可', '也', '。', '大', '车', '无', '輗', '，', '小', '车', '无', '軏', '，', '其', '何', '以', '行', '之', '哉', '？', '子', '张', '问', '：', '十', '世', '可', '知', '也', '？', '子', '曰', '：', '殷', '因', '于', '夏', '礼', '，', '所', '损', '益', '，', '可', '知', '也', '；', '周', '因', '于', '殷', '礼', '，', '所', '损', '益', '，', '可', '知', '也', '。', '其', '或', '继', '周', '者', '，', '虽', '百', '世', '，', '可', '知', '也', '。', '子', '曰', '：', '非', '其', '鬼', '而', '祭', '之', '，', '谄', '也', '；', '见', '义', '不', '为', '，', '无', '勇', '也', '。', '孔', '子', '谓', '季', '氏', '：', '八', '佾', '舞', '于', '庭', '，', '是', '可', '忍', '也', '，', '孰', '不', '可', '忍', '也', '？', '三', '家', '者', '以', '《', '雍', '》', '彻', '，', '子', '曰', '：', '相', '维', '辟', '公', '，', '天', '子', '穆', '穆', '，', '奚', '取', '于', '三', '家', '之', '堂', '？', '子', '曰', '：', '人', '而', '不', '仁', '，', '如', '礼', '何', '？', '人', '而', '不', '仁', '，', '如', '乐', '何', '？', '林', '放', '问', '礼', '之', '本', '，', '子', '曰', '：', '大', '哉', '问', '！', '礼', '，', '与', '其', '奢', '也', '，', '宁', '俭', '；', '丧', '，', '与', '其', '易', '也', '，', '宁', '戚', '。', '子', '曰', '：', '夷', '狄', '之', '有', '君', '，', '不', '如', '诸', '夏', '之', '亡', '也', '。', '季', '氏', '旅', '于', '泰', '山', '。', '子', '谓', '冉', '有', '曰', '：', '女', '弗', '能', '救', '与', '？', '对', '曰', '：', '不', '能', '。', '子', '曰', '：', '呜', '呼', '！', '曾', '谓', '泰', '山', '不', '如', '林', '放', '乎', '？', '子', '曰', '：', '君', '子', '无', '所', '争', '，', '必', '也', '射', '乎', '！', '揖', '让', '而', '升', '，', '下', '而', '饮', '。', '其', '争', '也', '君', '子', '。', '子', '夏', '问', '曰', '：', '巧', '笑', '倩', '兮', '，', '美', '目', '盼', '兮', '，', '素', '以', '为', '绚', '兮', '何', '谓', '也', '？', '子', '曰', '：', '绘', '事', '后', '素', '。', '曰', '：', '礼', '后', '乎', '？', '子', '曰', '：', '起', '予', '者', '商', '也', '，', '始', '可', '与', '言', '《', '诗', '》', '已', '矣', '。', '子', '曰', '：', '夏', '礼', '吾', '能', '言', '之', '，', '杞', '不', '足', '征', '也', '；', '殷', '礼', '吾', '能', '言', '之', '，', '宋', '不', '足', '征', '也', '。', '文', '献', '不', '足', '故', '也', '，', '足', '则', '吾', '能', '征', '之', '矣', '。', '子', '曰', '：', '禘', '自', '既', '灌', '而', '往', '者', '，', '吾', '不', '欲', '观', '之', '矣', '。', '或', '问', '禘', '之', '说', '。', '子', '曰', '：', '不', '知', '也', '。', '知', '其', '说', '者', '之', '于', '天', '下', '也', '，', '其', '如', '示', '诸', '斯', '乎', '！', '指', '其', '掌', '。', '祭', '如', '在', '，', '祭', '神', '如', '神', '在', '。', '子', '曰', '：', '吾', '不', '与', '祭', '，', '如', '不', '祭', '。', '王', '孙', '贾', '问', '曰', '：', '与', '其', '媚', '于', '奥', '，', '宁', '媚', '于', '灶', '，', '何', '谓', '也', '？', '子', '曰', '：', '不', '然', '，', '获', '罪', '于', '天', '，', '无', '所', '祷', '也', '。', '子', '曰', '：', '周', '监', '于', '二', '代', '，', '郁', '郁', '乎', '文', '哉', '！', '吾', '从', '周', '。', '子', '入', '太', '庙', '，', '每', '事', '问', '。', '或', '曰', '：', '孰', '谓', '鄹', '人', '之', '子', '知', '礼', '乎', '？', '入', '太', '庙', '，', '每', '事', '问', '。', '子', '闻', '之', '，', '曰', '：', '是', '礼', '也', '。', '子', '曰', '：', '射', '不', '主', '皮', '，', '为', '力', '不', '同', '科', '，', '古', '之', '道', '也', '。', '子', '贡', '欲', '去', '告', '朔', '之', '饩', '羊', '，', '子', '曰', '：', '赐', '也', '！', '尔', '爱', '其', '羊', '，', '我', '爱', '其', '礼', '。', '子', '曰', '：', '事', '君', '尽', '礼', '，', '人', '以', '为', '谄', '也', '。', '定', '公', '问', '：', '君', '使', '臣', '，', '臣', '事', '君', '，', '如', '之', '何', '？', '孔', '子', '对', '曰', '：', '君', '使', '臣', '以', '礼', '，', '臣', '事', '君', '以', '忠', '。', '子', '曰', '：', '《', '关', '雎', '》', '，', '乐', '而', '不', '淫', '，', '哀', '而', '不', '伤', '。', '哀', '公', '问', '社', '于', '宰', '我', '，', '宰', '我', '对', '曰', '：', '夏', '后', '氏', '以', '松', '，', '殷', '人', '以', '柏', '，', '周', '人', '以', '栗', '，', '曰', '使', '民', '战', '栗', '。', '子', '闻', '之', '，', '曰', '：', '成', '事', '不', '说', '，', '遂', '事', '不', '谏', '，', '既', '往', '不', '咎', '。', '子', '曰', '：', '管', '仲', '之', '器', '小', '哉', '！', '或', '曰', '：', '管', '仲', '俭', '乎', '？', '曰', '：', '管', '氏', '有', '三', '归', '，', '官', '事', '不', '摄', '，', '焉', '得', '俭', '？', '然', '则', '管', '仲', '知', '礼', '乎', '？', '曰', '：', '邦', '君', '树', '塞', '门', '，', '管', '氏', '亦', '树', '塞', '门', '；', '邦', '君', '为', '两', '君', '之', '好', '，', '有', '反', '坫', '。', '管', '氏', '亦', '有', '反', '坫', '，', '管', '氏', '而', '知', '礼', '，', '孰', '不', '知', '礼', '？', '子', '语', '鲁', '大', '师', '乐', '，', '曰', '：', '乐', '其', '可', '知', '也', '。', '始', '作', '，', '翕', '如', '也', '；', '从', '之', '，', '纯', '如', '也', '，', '皦', '如', '也', '，', '绎', '如', '也', '，', '以', '成', '。', '仪', '封', '人', '请', '见', '，', '曰', '：', '君', '子', '之', '至', '于', '斯', '也', '，', '吾', '未', '尝', '不', '得', '见', '也', '。', '从', '者', '见', '之', '。', '出', '曰', '：', '二', '三', '子', '何', '患', '于', '丧', '乎', '？', '天', '下', '之', '无', '道', '也', '久', '矣', '，', '天', '将', '以', '夫', '子', '为', '木', '铎', '。', '子', '谓', '《', '韶', '》', '：', '尽', '美', '矣', '，', '又', '尽', '善', '也', '。', '谓', '《', '武', '》', '：', '尽', '美', '矣', '，', '未', '尽', '善', '也', '。', '子', '曰', '：', '居', '上', '不', '宽', '，', '为', '礼', '不', '敬', '，', '临', '丧', '不', '哀', '，', '吾', '何', '以', '观', '之', '哉', '？', '子', '曰', '：', '里', '仁', '为', '美', '，', '择', '不', '处', '仁', '，', '焉', '得', '知', '？', '子', '曰', '：', '不', '仁', '者', '不', '可', '以', '久', '处', '约', '，', '不', '可', '以', '长', '处', '乐', '。', '仁', '者', '安', '仁', '，', '知', '者', '利', '仁', '。', '子', '曰', '：', '唯', '仁', '者', '能', '好', '人', '，', '能', '恶', '人', '。', '子', '曰', '：', '苟', '志', '于', '仁', '矣', '，', '无', '恶', '也', '。', '子', '曰', '：', '富', '与', '贵', '，', '是', '人', '之', '所', '欲', '也', '；', '不', '以', '其', '道', '得', '之', '，', '不', '处', '也', '。', '贫', '与', '贱', '，', '是', '人', '之', '所', '恶', '也', '；', '不', '以', '其', '道', '得', '之', '，', '不', '去', '也', '。', '君', '子', '去', '仁', '，', '恶', '乎', '成', '名', '？', '君', '子', '无', '终', '食', '之', '间', '违', '仁', '，', '造', '次', '必', '于', '是', '，', '颠', '沛', '必', '于', '是', '。', '子', '曰', '：', '我', '未', '见', '好', '仁', '者', '，', '恶', '不', '仁', '者', '。', '好', '仁', '者', '，', '无', '以', '尚', '之', '；', '恶', '不', '仁', '者', '，', '其', '为', '仁', '矣', '，', '不', '使', '不', '仁', '者', '加', '乎', '其', '身', '，', '有', '能', '一', '日', '用', '其', '力', '于', '仁', '矣', '乎', '？', '我', '未', '见', '力', '不', '足', '者', '。', '盖', '有', '之', '矣', '，', '我', '未', '之', '见', '也', '。', '子', '曰', '：', '人', '之', '过', '也', '，', '各', '于', '其', '党', '。', '观', '过', '，', '斯', '知', '仁', '矣', '。', '子', '曰', '：', '朝', '闻', '道', '，', '夕', '死', '可', '矣', '。', '子', '曰', '：', '士', '志', '于', '道', '，', '而', '耻', '恶', '衣', '恶', '食', '者', '，', '未', '足', '与', '议', '也', '。', '子', '曰', '：', '君', '子', '之', '于', '天', '下', '也', '，', '无', '适', '也', '，', '无', '莫', '也', '，', '义', '之', '与', '比', '。', '子', '曰', '：', '君', '子', '怀', '德', '，', '小', '人', '怀', '土', '；', '君', '子', '怀', '刑', '，', '小', '人', '怀', '惠', '。', '子', '曰', '：', '放', '于', '利', '而', '行', '，', '多', '怨', '。', '子', '曰', '：', '能', '以', '礼', '让', '为', '国', '乎', '？', '何', '有', '？', '不', '能', '以', '礼', '让', '为', '国', '，', '如', '礼', '何', '？', '子', '曰', '：', '不', '患', '无', '位', '，', '患', '所', '以', '立', '；', '不', '患', '莫', '己', '知', '，', '求', '为', '可', '知', '也', '。', '子', '曰', '：', '参', '乎', '！', '吾', '道', '一', '以', '贯', '之', '。', '曾', '子', '曰', '：', '唯', '。', '子', '出', '，', '门', '人', '问', '曰', '：', '何', '谓', '也', '？', '曾', '子', '曰', '：', '夫', '子', '之', '道', '，', '忠', '恕', '而', '已', '矣', '。', '子', '曰', '：', '君', '子', '喻', '于', '义', '，', '小', '人', '喻', '于', '利', '。', '子', '曰', '：', '见', '贤', '思', '齐', '焉', '，', '见', '不', '贤', '而', '内', '自', '省', '也', '。', '子', '曰', '：', '事', '父', '母', '几', '谏', '，', '见', '志', '不', '从', '，', '又', '敬', '不', '违', '，', '劳', '而', '不', '怨', '。', '子', '曰', '：', '父', '母', '在', '，', '不', '远', '游', '，', '游', '必', '有', '方', '。', '子', '曰', '：', '三', '年', '无', '改', '于', '父', '之', '道', '，', '可', '谓', '孝', '矣', '。', '子', '曰', '：', '父', '母', '之', '年', '，', '不', '可', '不', '知', '也', '。', '一', '则', '以', '喜', '，', '一', '则', '以', '惧', '。', '子', '曰', '：', '古', '者', '言', '之', '不', '出', '，', '耻', '躬', '之', '不', '逮', '也', '。', '子', '曰', '：', '以', '约', '失', '之', '者', '鲜', '矣', '。', '子', '曰', '：', '君', '子', '欲', '讷', '于', '言', '而', '敏', '于', '行', '。', '子', '曰', '：', '德', '不', '孤', '，', '必', '有', '邻', '。', '子', '游', '曰', '：', '事', '君', '数', '，', '斯', '辱', '矣', '；', '朋', '友', '数', '，', '斯', '疏', '矣', '。', '子', '谓', '公', '冶', '长', '：', '可', '妻', '也', '，', '虽', '在', '缧', '绁', '之', '中', '，', '非', '其', '罪', '也', '！', '以', '其', '子', '妻', '之', '。', '子', '谓', '南', '容', '：', '邦', '有', '道', '不', '废', '；', '邦', '无', '道', '免', '于', '刑', '戮', '。', '以', '其', '兄', '之', '子', '妻', '之', '。', '子', '谓', '子', '贱', '：', '君', '子', '哉', '若', '人', '！', '鲁', '无', '君', '子', '者', '，', '斯', '焉', '取', '斯', '？', '子', '贡', '问', '曰', '：', '赐', '也', '何', '如', '？', '子', '曰', '：', '女', '器', '也', '。', '曰', '：', '何', '器', '也', '？', '曰', '：', '瑚', '琏', '也', '。', '或', '曰', '：', '雍', '也', '仁', '而', '不', '佞', '。', '子', '曰', '：', '焉', '用', '佞', '？', '御', '人', '以', '口', '给', '，', '屡', '憎', '于', '人', '。', '不', '知', '其', '仁', '，', '焉', '用', '佞', '？', '子', '使', '漆', '雕', '开', '仕', '，', '对', '曰', '：', '吾', '斯', '之', '未', '能', '信', '。', '子', '说', '。', '子', '曰', '：', '道', '不', '行', '，', '乘', '桴', '浮', '于', '海', '，', '从', '我', '者', '其', '由', '与', '？', '子', '路', '闻', '之', '喜', '，', '子', '曰', '：', '由', '也', '好', '勇', '过', '我', '，', '无', '所', '取', '材', '。', '孟', '武', '伯', '问', '：', '子', '路', '仁', '乎', '？', '子', '曰', '：', '不', '知', '也', '。', '又', '问', '，', '子', '曰', '：', '由', '也', '，', '千', '乘', '之', '国', '，', '可', '使', '治', '其', '赋', '也', '，', '不', '知', '其', '仁', '也', '。', '求', '也', '何', '如', '？', '子', '曰', '：', '求', '也', '，', '千', '室', '之', '邑', '、', '百', '乘', '之', '家', '，', '可', '使', '为', '之', '宰', '也', '，', '不', '知', '其', '仁', '也', '。', '赤', '也', '何', '如', '？', '子', '曰', '：', '赤', '也', '，', '束', '带', '立', '于', '朝', '，', '可', '使', '与', '宾', '客', '言', '也', '，', '不', '知', '其', '仁', '也', '。', '子', '谓', '子', '贡', '曰', '：', '女', '与', '回', '也', '孰', '愈', '？', '对', '曰', '：', '赐', '也', '何', '敢', '望', '回', '？', '回', '也', '闻', '一', '以', '知', '十', '，', '赐', '也', '闻', '一', '以', '知', '二', '。', '子', '曰', '：', '弗', '如', '也', '，', '吾', '与', '女', '弗', '如', '也', '！', '宰', '予', '昼', '寝', '，', '子', '曰', '：', '朽', '木', '不', '可', '雕', '也', '，', '粪', '土', '之', '墙', '不', '可', '圬', '也', '，', '于', '予', '与', '何', '诛', '？', '子', '曰', '：', '始', '吾', '于', '人', '也', '，', '听', '其', '言', '而', '信', '其', '行', '；', '今', '吾', '于', '人', '也', '，', '听', '其', '言', '而', '观', '其', '行', '。', '于', '予', '与', '改', '是', '。', '子', '曰', '：', '吾', '未', '见', '刚', '者', '。', '或', '对', '曰', '：', '申', '枨', '。', '子', '曰', '：', '枨', '也', '欲', '，', '焉', '得', '刚', '？', '子', '贡', '曰', '：', '我', '不', '欲', '人', '之', '加', '诸', '我', '也', '，', '吾', '亦', '欲', '无', '加', '诸', '人', '。', '子', '曰', '：', '赐', '也', '，', '非', '尔', '所', '及', '也', '。', '子', '贡', '曰', '：', '夫', '子', '之', '文', '章', '，', '可', '得', '而', '闻', '也', '；', '夫', '子', '之', '言', '性', '与', '天', '道', '，', '不', '可', '得', '而', '闻', '也', '。', '子', '路', '有', '闻', '，', '未', '之', '能', '行', '，', '唯', '恐', '有', '闻', '。', '子', '贡', '问', '曰', '：', '孔', '文', '子', '何', '以', '谓', '之', '文', '也', '？', '子', '曰', '：', '敏', '而', '好', '学', '，', '不', '耻', '下', '问', '，', '是', '以', '谓', '之', '文', '也', '。', '子', '谓', '子', '产', '：', '有', '君', '子', '之', '道', '四', '焉', '：', '其', '行', '己', '也', '恭', '，', '其', '事', '上', '也', '敬', '，', '其', '养', '民', '也', '惠', '，', '其', '使', '民', '也', '义', '。', '子', '曰', '：', '晏', '平', '仲', '善', '与', '人', '交', '，', '久', '而', '敬', '之', '。', '子', '曰', '：', '臧', '文', '仲', '居', '蔡', '，', '山', '节', '藻', '棁', '，', '何', '如', '其', '知', '也', '？', '子', '张', '问', '曰', '：', '令', '尹', '子', '文', '三', '仕', '为', '令', '尹', '，', '无', '喜', '色', '，', '三', '已', '之', '无', '愠', '色', '，', '旧', '令', '尹', '之', '政', '必', '以', '告', '新', '令', '尹', '，', '何', '如', '？', '子', '曰', '：', '忠', '矣', '。', '曰', '：', '仁', '矣', '乎', '？', '曰', '：', '未', '知', '，', '焉', '得', '仁', '？', '崔', '子', '弑', '齐', '君', '，', '陈', '文', '子', '有', '马', '十', '乘', '，', '弃', '而', '违', '之', '。', '至', '于', '他', '邦', '，', '则', '曰', '：', '犹', '吾', '大', '夫', '崔', '子', '也', '。', '违', '之', '。', '之', '一', '邦', '，', '则', '又', '曰', '：', '犹', '吾', '大', '夫', '崔', '子', '也', '。', '违', '之', '，', '何', '如', '？', '子', '曰', '：', '清', '矣', '。', '曰', '：', '仁', '矣', '乎', '？', '曰', '：', '未', '知', '，', '焉', '得', '仁', '？', '季', '文', '子', '三', '思', '而', '后', '行', '，', '子', '闻', '之', '曰', '：', '再', '斯', '可', '矣', '。', '子', '曰', '：', '宁', '武', '子', '，', '邦', '有', '道', '则', '知', '，', '邦', '无', '道', '则', '愚', '。', '其', '知', '可', '及', '也', '，', '其', '愚', '不', '可', '及', '也', '。', '子', '在', '陈', '，', '曰', '：', '归', '与', '！', '归', '与', '！', '吾', '党', '之', '小', '子', '狂', '简', '，', '斐', '然', '成', '章', '，', '不', '知', '所', '以', '裁', '之', '。', '子', '曰', '：', '伯', '夷', '、', '叔', '齐', '不', '念', '旧', '恶', '，', '怨', '是', '用', '希', '。', '子', '曰', '：', '孰', '谓', '微', '生', '高', '直', '？', '或', '乞', '醯', '焉', '，', '乞', '诸', '其', '邻', '而', '与', '之', '。', '子', '曰', '：', '巧', '言', '、', '令', '色', '、', '足', '恭', '，', '左', '丘', '明', '耻', '之', '，', '丘', '亦', '耻', '之', '。', '匿', '怨', '而', '友', '其', '人', '，', '左', '丘', '明', '耻', '之', '，', '丘', '亦', '耻', '之', '。', '颜', '渊', '、', '季', '路', '侍', '，', '子', '曰', '：', '盍', '各', '言', '尔', '志', '？', '子', '路', '曰', '：', '愿', '车', '马', '衣', '轻', '裘', '，', '与', '朋', '友', '共', '，', '敝', '之', '而', '无', '憾', '。', '颜', '渊', '曰', '：', '愿', '无', '伐', '善', '，', '无', '施', '劳', '。', '子', '路', '曰', '：', '愿', '闻', '子', '之', '志', '。', '子', '曰', '：', '老', '者', '安', '之', '，', '朋', '友', '信', '之', '，', '少', '者', '怀', '之', '。', '子', '曰', '：', '已', '矣', '乎', '！', '吾', '未', '见', '能', '见', '其', '过', '而', '内', '自', '讼', '者', '也', '。', '子', '曰', '：', '十', '室', '之', '邑', '，', '必', '有', '忠', '信', '如', '丘', '者', '焉', '，', '不', '如', '丘', '之', '好', '学', '也', '。', '子', '曰', '：', '雍', '也', '可', '使', '南', '面', '。', '仲', '弓', '问', '子', '桑', '伯', '子', '，', '子', '曰', '：', '可', '也', '，', '简', '。', '仲', '弓', '曰', '：', '居', '敬', '而', '行', '简', '，', '以', '临', '其', '民', '，', '不', '亦', '可', '乎', '？', '居', '简', '而', '行', '简', '，', '无', '乃', '大', '简', '乎', '？', '子', '曰', '：', '雍', '之', '言', '然', '。', '哀', '公', '问', '：', '弟', '子', '孰', '为', '好', '学', '？', '孔', '子', '对', '曰', '：', '有', '颜', '回', '者', '好', '学', '，', '不', '迁', '怒', '，', '不', '贰', '过', '，', '不', '幸', '短', '命', '死', '矣', '，', '今', '也', '则', '亡', '，', '未', '闻', '好', '学', '者', '也', '。', '子', '华', '使', '于', '齐', '，', '冉', '子', '为', '其', '母', '请', '粟', '，', '子', '曰', '：', '与', '之', '釜', '。', '请', '益', '，', '曰', '：', '与', '之', '庾', '。', '冉', '子', '与', '之', '粟', '五', '秉', '。', '子', '曰', '：', '赤', '之', '适', '齐', '也', '，', '乘', '肥', '马', '，', '衣', '轻', '裘', '。', '吾', '闻', '之', '也', '，', '君', '子', '周', '急', '不', '继', '富', '。', '原', '思', '为', '之', '宰', '，', '与', '之', '粟', '九', '百', '，', '辞', '。', '子', '曰', '：', '毋', '，', '以', '与', '尔', '邻', '里', '乡', '党', '乎', '！', '子', '谓', '仲', '弓', '曰', '：', '犁', '牛', '之', '子', '骍', '且', '角', '，', '虽', '欲', '勿', '用', '，', '山', '川', '其', '舍', '诸', '？', '子', '曰', '：', '回', '也', '，', '其', '心', '三', '月', '不', '违', '仁', '，', '其', '余', '则', '日', '月', '至', '焉', '而', '已', '矣', '。', '季', '康', '子', '问', '：', '仲', '由', '可', '使', '从', '政', '也', '与', '？', '子', '曰', '：', '由', '也', '果', '，', '于', '从', '政', '乎', '何', '有', '？', '曰', '：', '赐', '也', '可', '使', '从', '政', '也', '与', '？', '曰', '：', '赐', '也', '达', '，', '于', '从', '政', '乎', '何', '有', '？', '曰', '：', '求', '也', '可', '使', '从', '政', '也', '与', '？', '曰', '：', '求', '也', '艺', '，', '于', '从', '政', '乎', '何', '有', '？', '季', '氏', '使', '闵', '子', '骞', '为', '费', '宰', '，', '闵', '子', '骞', '曰', '：', '善', '为', '我', '辞', '焉', '。', '如', '有', '复', '我', '者', '，', '则', '吾', '必', '在', '汶', '上', '矣', '。', '伯', '牛', '有', '疾', '，', '子', '问', '之', '，', '自', '牖', '执', '其', '手', '，', '曰', '：', '亡', '之', '，', '命', '矣', '夫', '！', '斯', '人', '也', '而', '有', '斯', '疾', '也', '！', '斯', '人', '也', '而', '有', '斯', '疾', '也', '！', '子', '曰', '：', '贤', '哉', '回', '也', '！', '一', '箪', '食', '，', '一', '瓢', '饮', '，', '在', '陋', '巷', '，', '人', '不', '堪', '其', '忧', '，', '回', '也', '不', '改', '其', '乐', '。', '贤', '哉', '，', '回', '也', '！', '冉', '求', '曰', '：', '非', '不', '说', '子', '之', '道', '，', '力', '不', '足', '也', '。', '子', '曰', '：', '力', '不', '足', '者', '，', '中', '道', '而', '废', '，', '今', '女', '画', '。', '子', '谓', '子', '夏', '曰', '：', '女', '为', '君', '子', '儒', '，', '无', '为', '小', '人', '儒', '。', '子', '游', '为', '武', '城', '宰', '，', '子', '曰', '：', '女', '得', '人', '焉', '尔', '乎', '？', '曰', '：', '有', '澹', '台', '灭', '明', '者', '，', '行', '不', '由', '径', '，', '非', '公', '事', '，', '未', '尝', '至', '于', '偃', '之', '室', '也', '。', '子', '曰', '：', '孟', '之', '反', '不', '伐', '，', '奔', '而', '殿', '，', '将', '入', '门', '，', '策', '其', '马', '曰', '：', '非', '敢', '后', '也', '，', '马', '不', '进', '也', '。', '子', '曰', '：', '不', '有', '祝', '鮀', '之', '佞', '，', '而', '有', '宋', '朝', '之', '美', '，', '难', '乎', '免', '于', '今', '之', '世', '矣', '。', '子', '曰', '：', '谁', '能', '出', '不', '由', '户', '？', '何', '莫', '由', '斯', '道', '也', '？', '子', '曰', '：', '质', '胜', '文', '则', '野', '，', '文', '胜', '质', '则', '史', '。', '文', '质', '彬', '彬', '，', '然', '后', '君', '子', '。', '子', '曰', '：', '人', '之', '生', '也', '直', '，', '罔', '之', '生', '也', '幸', '而', '免', '。', '子', '曰', '：', '知', '之', '者', '不', '如', '好', '之', '者', '，', '好', '之', '者', '不', '如', '乐', '之', '者', '。', '子', '曰', '：', '中', '人', '以', '上', '，', '可', '以', '语', '上', '也', '；', '中', '人', '以', '下', '，', '不', '可', '以', '语', '上', '也', '。', '樊', '迟', '问', '知', '，', '子', '曰', '：', '务', '民', '之', '义', '，', '敬', '鬼', '神', '而', '远', '之', '，', '可', '谓', '知', '矣', '。', '问', '仁', '，', '曰', '：', '仁', '者', '先', '难', '而', '后', '获', '，', '可', '谓', '仁', '矣', '。', '子', '曰', '：', '知', '者', '乐', '水', '，', '仁', '者', '乐', '山', '。', '知', '者', '动', '，', '仁', '者', '静', '。', '知', '者', '乐', '，', '仁', '者', '寿', '。', '子', '曰', '：', '齐', '一', '变', '至', '于', '鲁', '，', '鲁', '一', '变', '至', '于', '道', '。', '子', '曰', '：', '觚', '不', '觚', '，', '觚', '哉', '！', '觚', '哉', '！', '宰', '我', '问', '曰', '：', '仁', '者', '，', '虽', '告', '之', '曰', '：', '井', '有', '仁', '焉', '。', '其', '从', '之', '也', '？', '子', '曰', '：', '何', '为', '其', '然', '也', '？', '君', '子', '可', '逝', '也', '，', '不', '可', '陷', '也', '；', '可', '欺', '也', '，', '不', '可', '罔', '也', '。', '子', '曰', '：', '君', '子', '博', '学', '于', '文', '，', '约', '之', '以', '礼', '，', '亦', '可', '以', '弗', '畔', '矣', '夫', '。', '子', '见', '南', '子', '，', '子', '路', '不', '说', '，', '夫', '子', '矢', '之', '曰', '：', '予', '所', '否', '者', '，', '天', '厌', '之', '！', '天', '厌', '之', '！', '子', '曰', '：', '中', '庸', '之', '为', '德', '也', '，', '其', '至', '矣', '乎', '！', '民', '鲜', '久', '矣', '。', '子', '贡', '曰', '：', '如', '有', '博', '施', '于', '民', '而', '能', '济', '众', '，', '何', '如', '？', '可', '谓', '仁', '乎', '？', '子', '曰', '：', '何', '事', '于', '仁', '，', '必', '也', '圣', '乎', '！', '尧', '、', '舜', '其', '犹', '病', '诸', '！', '夫', '仁', '者', '，', '己', '欲', '立', '而', '立', '人', '，', '己', '欲', '达', '而', '达', '人', '。', '能', '近', '取', '譬', '，', '可', '谓', '仁', '之', '方', '也', '已', '。', '子', '曰', '：', '述', '而', '不', '作', '，', '信', '而', '好', '古', '，', '窃', '比', '于', '我', '老', '彭', '。', '子', '曰', '：', '默', '而', '识', '之', '，', '学', '而', '不', '厌', '，', '诲', '人', '不', '倦', '，', '何', '有', '于', '我', '哉', '？', '子', '曰', '：', '德', '之', '不', '修', '，', '学', '之', '不', '讲', '，', '闻', '义', '不', '能', '徙', '，', '不', '善', '不', '能', '改', '，', '是', '吾', '忧', '也', '。', '子', '之', '燕', '居', '，', '申', '申', '如', '也', '，', '夭', '夭', '如', '也', '。', '子', '曰', '：', '甚', '矣', '吾', '衰', '也', '！', '久', '矣', '吾', '不', '复', '梦', '见', '周', '公', '。', '子', '曰', '：', '志', '于', '道', '，', '据', '于', '德', '，', '依', '于', '仁', '，', '游', '于', '艺', '。', '子', '曰', '：', '自', '行', '束', '脩', '以', '上', '，', '吾', '未', '尝', '无', '诲', '焉', '。', '子', '曰', '：', '不', '愤', '不', '启', '，', '不', '悱', '不', '发', '，', '举', '一', '隅', '不', '以', '三', '隅', '反', '，', '则', '不', '复', '也', '。', '子', '食', '于', '有', '丧', '者', '之', '侧', '，', '未', '尝', '饱', '也', '。', '子', '于', '是', '日', '哭', '，', '则', '不', '歌', '。', '子', '谓', '颜', '渊', '曰', '：', '用', '之', '则', '行', '，', '舍', '之', '则', '藏', '，', '惟', '我', '与', '尔', '有', '是', '夫', '！', '子', '路', '曰', '：', '子', '行', '三', '军', '，', '则', '谁', '与', '？', '子', '曰', '：', '暴', '虎', '冯', '河', '，', '死', '而', '无', '悔', '者', '，', '吾', '不', '与', '也', '。', '必', '也', '临', '事', '而', '惧', '，', '好', '谋', '而', '成', '者', '也', '。', '子', '曰', '：', '富', '而', '可', '求', '也', '，', '虽', '执', '鞭', '之', '士', '，', '吾', '亦', '为', '之', '。', '如', '不', '可', '求', '，', '从', '吾', '所', '好', '。', '子', '之', '所', '慎', '：', '斋', '，', '战', '，', '疾', '。', '子', '在', '齐', '闻', '《', '韶', '》', '，', '三', '月', '不', '知', '肉', '味', '，', '曰', '：', '不', '图', '为', '乐', '之', '至', '於', '斯', '也', '。', '冉', '有', '曰', '：', '夫', '子', '为', '卫', '君', '乎', '？', '子', '贡', '曰', '：', '诺', '，', '吾', '将', '问', '之', '。', '入', '，', '曰', '：', '伯', '夷', '、', '叔', '齐', '何', '人', '也', '？', '曰', '：', '古', '之', '贤', '人', '也', '。', '曰', '：', '怨', '乎', '？', '曰', '：', '求', '仁', '而', '得', '仁', '，', '又', '何', '怨', '？', '出', '，', '曰', '：', '夫', '子', '不', '为', '也', '。', '子', '曰', '：', '饭', '疏', '食', '饮', '水', '，', '曲', '肱', '而', '枕', '之', '，', '乐', '亦', '在', '其', '中', '矣', '。', '不', '义', '而', '富', '且', '贵', '，', '于', '我', '如', '浮', '云', '。', '子', '曰', '：', '加', '我', '数', '年', '，', '五', '十', '以', '学', '《', '易', '》', '，', '可', '以', '无', '大', '过', '矣', '。', '子', '所', '雅', '言', '，', '《', '诗', '》', '、', '《', '书', '》', '、', '执', '礼', '，', '皆', '雅', '言', '也', '。', '叶', '公', '问', '孔', '子', '于', '子', '路', '，', '子', '路', '不', '对', '。', '子', '曰', '：', '女', '奚', '不', '曰', '：', '其', '为', '人', '也', '，', '发', '愤', '忘', '食', '，', '乐', '以', '忘', '忧', '，', '不', '知', '老', '之', '将', '至', '云', '尔', '。', '子', '曰', '：', '我', '非', '生', '而', '知', '之', '者', '，', '好', '古', '，', '敏', '以', '求', '之', '者', '也', '。', '子', '不', '语', '怪', '、', '力', '、', '乱', '、', '神', '。', '子', '曰', '：', '三', '人', '行', '，', '必', '有', '我', '师', '焉', '。', '择', '其', '善', '者', '而', '从', '之', '，', '其', '不', '善', '者', '而', '改', '之', '。', '子', '曰', '：', '天', '生', '德', '于', '予', '，', '桓', '魋', '其', '如', '予', '何', '？', '子', '曰', '：', '二', '三', '子', '以', '我', '为', '隐', '乎', '？', '吾', '无', '隐', '乎', '尔', '！', '吾', '无', '行', '而', '不', '与', '二', '三', '子', '者', '，', '是', '丘', '也', '。', '子', '以', '四', '教', '：', '文', '，', '行', '，', '忠', '，', '信', '。', '子', '曰', '：', '圣', '人', '，', '吾', '不', '得', '而', '见', '之', '矣', '；', '得', '见', '君', '子', '者', '斯', '可', '矣', '。', '子', '曰', '：', '善', '人', '，', '吾', '不', '得', '而', '见', '之', '矣', '，', '得', '见', '有', '恒', '者', '斯', '可', '矣', '。', '亡', '而', '为', '有', '，', '虚', '而', '为', '盈', '，', '约', '而', '为', '泰', '，', '难', '乎', '有', '恒', '矣', '。', '子', '钓', '而', '不', '纲', '，', '弋', '不', '射', '宿', '。', '子', '曰', '：', '盖', '有', '不', '知', '而', '作', '之', '者', '，', '我', '无', '是', '也', '。', '多', '闻', '，', '择', '其', '善', '者', '而', '从', '之', '；', '多', '见', '而', '识', '之', '，', '知', '之', '次', '也', '。', '互', '乡', '难', '与', '言', '，', '童', '子', '见', '，', '门', '人', '惑', '。', '子', '曰', '：', '与', '其', '进', '也', '，', '不', '与', '其', '退', '也', '，', '唯', '何', '甚', '？', '人', '洁', '己', '以', '进', '，', '与', '其', '洁', '也', '，', '不', '保', '其', '往', '也', '。', '子', '曰', '：', '仁', '远', '乎', '哉', '？', '我', '欲', '仁', '，', '斯', '仁', '至', '矣', '。', '陈', '司', '败', '问', '：', '昭', '公', '知', '礼', '乎', '？', '孔', '子', '曰', '：', '知', '礼', '。', '孔', '子', '退', '，', '揖', '巫', '马', '期', '而', '进', '之', '，', '曰', '：', '吾', '闻', '君', '子', '不', '党', '，', '君', '子', '亦', '党', '乎', '？', '君', '取', '于', '吴', '，', '为', '同', '姓', '，', '谓', '之', '吴', '孟', '子', '。', '君', '而', '知', '礼', '，', '孰', '不', '知', '礼', '？', '巫', '马', '期', '以', '告', '，', '子', '曰', '：', '丘', '也', '幸', '，', '苟', '有', '过', '，', '人', '必', '知', '之', '。', '子', '与', '人', '歌', '而', '善', '，', '必', '使', '反', '之', '，', '而', '后', '和', '之', '。', '子', '曰', '：', '文', '，', '莫', '吾', '犹', '人', '也', '。', '躬', '行', '君', '子', '，', '则', '吾', '未', '之', '有', '得', '。', '子', '曰', '：', '若', '圣', '与', '仁', '，', '则', '吾', '岂', '敢', '？', '抑', '为', '之', '不', '厌', '，', '诲', '人', '不', '倦', '，', '则', '可', '谓', '云', '尔', '已', '矣', '。', '公', '西', '华', '曰', '：', '正', '唯', '弟', '子', '不', '能', '学', '也', '。', '子', '疾', '病', '，', '子', '路', '请', '祷', '。', '子', '曰', '：', '有', '诸', '？', '子', '路', '对', '曰', '：', '有', '之', '。', '《', '诔', '》', '曰', '：', '祷', '尔', '于', '上', '下', '神', '祇', '。', '子', '曰', '：', '丘', '之', '祷', '久', '矣', '。', '子', '曰', '：', '奢', '则', '不', '孙', '，', '俭', '则', '固', '。', '与', '其', '不', '孙', '也', '，', '宁', '固', '。', '子', '曰', '：', '君', '子', '坦', '荡', '荡', '，', '小', '人', '长', '戚', '戚', '。', '子', '温', '而', '厉', '，', '威', '而', '不', '猛', '，', '恭', '而', '安', '。', '子', '曰', '：', '泰', '伯', '，', '其', '可', '谓', '至', '德', '也', '已', '矣', '。', '三', '以', '天', '下', '让', '，', '民', '无', '得', '而', '称', '焉', '。', '子', '曰', '：', '恭', '而', '无', '礼', '则', '劳', '；', '慎', '而', '无', '礼', '则', '葸', '；', '勇', '而', '无', '礼', '则', '乱', '；', '直', '而', '无', '礼', '则', '绞', '。', '君', '子', '笃', '于', '亲', '，', '则', '民', '兴', '于', '仁', '；', '故', '旧', '不', '遗', '，', '则', '民', '不', '偷', '。', '曾', '子', '有', '疾', '，', '召', '门', '弟', '子', '曰', '：', '启', '予', '足', '，', '启', '予', '手', '。', '《', '诗', '》', '云', '：', '战', '战', '兢', '兢', '，', '如', '临', '深', '渊', '，', '如', '履', '薄', '冰', '。', '而', '今', '而', '后', '，', '吾', '知', '免', '夫', '，', '小', '子', '！', '曾', '子', '有', '疾', '，', '孟', '敬', '子', '问', '之', '。', '曾', '子', '言', '曰', '：', '鸟', '之', '将', '死', '，', '其', '鸣', '也', '哀', '；', '人', '之', '将', '死', '，', '其', '言', '也', '善', '。', '君', '子', '所', '贵', '乎', '道', '者', '三', '：', '动', '容', '貌', '，', '斯', '远', '暴', '慢', '矣', '；', '正', '颜', '色', '，', '斯', '近', '信', '矣', '；', '出', '辞', '气', '，', '斯', '远', '鄙', '倍', '矣', '。', '笾', '豆', '之', '事', '，', '则', '有', '司', '存', '。', '曾', '子', '曰', '：', '以', '能', '问', '于', '不', '能', '；', '以', '多', '问', '于', '寡', '；', '有', '若', '无', '，', '实', '若', '虚', '，', '犯', '而', '不', '校', '。', '昔', '者', '吾', '友', '尝', '从', '事', '于', '斯', '矣', '。', '曾', '子', '曰', '：', '可', '以', '托', '六', '尺', '之', '孤', '，', '可', '以', '寄', '百', '里', '之', '命', '，', '临', '大', '节', '而', '不', '可', '夺', '也', '。', '君', '子', '人', '与', '？', '君', '子', '人', '也', '。', '曾', '子', '曰', '：', '士', '不', '可', '以', '不', '弘', '毅', '，', '任', '重', '而', '道', '远', '。', '仁', '以', '为', '己', '任', '，', '不', '亦', '重', '乎', '？', '死', '而', '后', '已', '，', '不', '亦', '远', '乎', '？', '子', '曰', '：', '兴', '于', '《', '诗', '》', '，', '立', '于', '礼', '，', '成', '于', '乐', '。', '子', '曰', '：', '民', '可', '，', '使', '由', '之', '；', '不', '可', '，', '使', '知', '之', '。', '子', '曰', '：', '好', '勇', '疾', '贫', '，', '乱', '也', '。', '人', '而', '不', '仁', '，', '疾', '之', '已', '甚', '，', '乱', '也', '。', '子', '曰', '：', '如', '有', '周', '公', '之', '才', '之', '美', '，', '使', '骄', '且', '吝', '，', '其', '余', '不', '足', '观', '也', '已', '。', '子', '曰', '：', '三', '年', '学', '，', '不', '至', '于', '谷', '，', '不', '易', '得', '也', '。', '子', '曰', '：', '笃', '信', '好', '学', '，', '守', '死', '善', '道', '。', '危', '邦', '不', '入', '，', '乱', '邦', '不', '居', '。', '天', '下', '有', '道', '则', '见', '，', '无', '道', '则', '隐', '。', '邦', '有', '道', '，', '贫', '且', '贱', '焉', '，', '耻', '也', '；', '邦', '无', '道', '，', '富', '且', '贵', '焉', '，', '耻', '也', '。', '子', '曰', '：', '不', '在', '其', '位', '，', '不', '谋', '其', '政', '。', '子', '曰', '：', '师', '挚', '之', '始', '，', '《', '关', '雎', '》', '之', '乱', '，', '洋', '洋', '乎', '盈', '耳', '哉', '！', '子', '曰', '：', '狂', '而', '不', '直', '，', '侗', '而', '不', '愿', '，', '悾', '悾', '而', '不', '信', '，', '吾', '不', '知', '之', '矣', '。', '子', '曰', '：', '学', '如', '不', '及', '，', '犹', '恐', '失', '之', '。', '子', '曰', '：', '巍', '巍', '乎', '！', '舜', '、', '禹', '之', '有', '天', '下', '也', '而', '不', '与', '焉', '。', '子', '曰', '：', '大', '哉', '尧', '之', '为', '君', '也', '！', '巍', '巍', '乎', '，', '唯', '天', '为', '大', '，', '唯', '尧', '则', '之', '。', '荡', '荡', '乎', '，', '民', '无', '能', '名', '焉', '。', '巍', '巍', '乎', '其', '有', '成', '功', '也', '，', '焕', '乎', '其', '有', '文', '章', '！', '舜', '有', '臣', '五', '人', '而', '天', '下', '治', '。', '武', '王', '曰', '：', '予', '有', '乱', '臣', '十', '人', '。', '孔', '子', '曰', '：', '才', '难', '，', '不', '其', '然', '乎', '？', '唐', '虞', '之', '际', '，', '于', '斯', '为', '盛', '；', '有', '妇', '人', '焉', '，', '九', '人', '而', '已', '。', '三', '分', '天', '下', '有', '其', '二', '，', '以', '服', '事', '殷', '。', '周', '之', '德', '，', '其', '可', '谓', '至', '德', '也', '已', '矣', '。', '子', '曰', '：', '禹', '，', '吾', '无', '间', '然', '矣', '。', '菲', '饮', '食', '而', '致', '孝', '乎', '鬼', '神', '，', '恶', '衣', '服', '而', '致', '美', '乎', '黼', '冕', '，', '卑', '宫', '室', '而', '尽', '力', '乎', '沟', '洫', '。', '禹', '，', '吾', '无', '间', '然', '矣', '。', '子', '罕', '言', '利', '，', '与', '命', '与', '仁', '。', '达', '巷', '党', '人', '曰', '：', '大', '哉', '孔', '子', '！', '博', '学', '而', '无', '所', '成', '名', '。', '子', '闻', '之', '，', '谓', '门', '弟', '子', '曰', '：', '吾', '何', '执', '？', '执', '御', '乎', '，', '执', '射', '乎', '？', '吾', '执', '御', '矣', '。', '子', '曰', '：', '麻', '冕', '，', '礼', '也', '；', '今', '也', '纯', '，', '俭', '，', '吾', '从', '众', '。', '拜', '下', '，', '礼', '也', '；', '今', '拜', '乎', '上', '，', '泰', '也', '；', '虽', '违', '众', '，', '吾', '从', '下', '。', '子', '绝', '四', '：', '毋', '意', '、', '毋', '必', '、', '毋', '固', '、', '毋', '我', '。', '子', '畏', '于', '匡', '，', '曰', '：', '文', '王', '既', '没', '，', '文', '不', '在', '兹', '乎', '？', '天', '之', '将', '丧', '斯', '文', '也', '，', '后', '死', '者', '不', '得', '与', '于', '斯', '文', '也', '；', '天', '之', '未', '丧', '斯', '文', '也', '，', '匡', '人', '其', '如', '予', '何', '？', '太', '宰', '问', '于', '子', '贡', '曰', '：', '夫', '子', '圣', '者', '与', '，', '何', '其', '多', '能', '也', '？', '子', '贡', '曰', '：', '固', '天', '纵', '之', '将', '圣', '，', '又', '多', '能', '也', '。', '子', '闻', '之', '，', '曰', '：', '太', '宰', '知', '我', '乎', '？', '吾', '少', '也', '贱', '，', '故', '多', '能', '鄙', '事', '。', '君', '子', '多', '乎', '哉', '？', '不', '多', '也', '。', '牢', '曰', '：', '子', '云', '：', '吾', '不', '试', '，', '故', '艺', '。', '子', '曰', '：', '吾', '有', '知', '乎', '哉', '？', '无', '知', '也', '。', '有', '鄙', '夫', '问', '于', '我', '，', '空', '空', '如', '也', '。', '我', '叩', '其', '两', '端', '而', '竭', '焉', '。', '子', '曰', '：', '凤', '鸟', '不', '至', '，', '河', '不', '出', '图', '，', '吾', '已', '矣', '夫', '！', '子', '见', '齐', '衰', '者', '、', '冕', '衣', '裳', '者', '与', '瞽', '者', '，', '见', '之', '，', '虽', '少', '，', '必', '作', '，', '过', '之', '必', '趋', '。', '颜', '渊', '喟', '然', '叹', '曰', '：', '仰', '之', '弥', '高', '，', '钻', '之', '弥', '坚', '。', '瞻', '之', '在', '前', '，', '忽', '焉', '在', '后', '。', '夫', '子', '循', '循', '然', '善', '诱', '人', '，', '博', '我', '以', '文', '，', '约', '我', '以', '礼', '，', '欲', '罢', '不', '能', '。', '既', '竭', '吾', '才', '，', '如', '有', '所', '立', '卓', '尔', '，', '虽', '欲', '从', '之', '，', '末', '由', '也', '已', '。', '子', '疾', '病', '，', '子', '路', '使', '门', '人', '为', '臣', '。', '病', '间', '，', '曰', '：', '久', '矣', '哉', '，', '由', '之', '行', '诈', '也', '！', '无', '臣', '而', '为', '有', '臣', '，', '吾', '谁', '欺', '？', '欺', '天', '乎', '？', '且', '予', '与', '其', '死', '于', '臣', '之', '手', '也', '，', '无', '宁', '死', '于', '二', '三', '子', '之', '手', '乎', '！', '且', '予', '纵', '不', '得', '大', '葬', '，', '予', '死', '于', '道', '路', '乎', '？', '子', '贡', '曰', '：', '有', '美', '玉', '于', '斯', '，', '韫', '椟', '而', '藏', '诸', '？', '求', '善', '贾', '而', '沽', '诸', '？', '子', '曰', '：', '沽', '之', '哉', '，', '沽', '之', '哉', '！', '我', '待', '贾', '者', '也', '。', '子', '欲', '居', '九', '夷', '。', '或', '曰', '：', '陋', '，', '如', '之', '何', '？', '子', '曰', '：', '君', '子', '居', '之', '，', '何', '陋', '之', '有', '！', '子', '曰', '：', '吾', '自', '卫', '反', '鲁', '，', '然', '后', '乐', '正', '，', '《', '雅', '》', '《', '颂', '》', '各', '得', '其', '所', '。', '子', '曰', '：', '出', '则', '事', '公', '卿', '，', '入', '则', '事', '父', '兄', '，', '丧', '事', '不', '敢', '不', '勉', '，', '不', '为', '酒', '困', '，', '何', '有', '于', '我', '哉', '？', '子', '在', '川', '上', '曰', '：', '逝', '者', '如', '斯', '夫', '！', '不', '舍', '昼', '夜', '。', '子', '曰', '：', '吾', '未', '见', '好', '德', '如', '好', '色', '者', '也', '。', '子', '曰', '：', '譬', '如', '为', '山', '，', '未', '成', '一', '篑', '，', '止', '，', '吾', '止', '也', '；', '譬', '如', '平', '地', '，', '虽', '覆', '一', '篑', '，', '进', '，', '吾', '往', '也', '。', '子', '曰', '：', '语', '之', '而', '不', '惰', '者', '，', '其', '回', '也', '与', '！', '子', '谓', '颜', '渊', '，', '曰', '：', '惜', '乎', '！', '吾', '见', '其', '进', '也', '，', '未', '见', '其', '止', '也', '。', '子', '曰', '：', '苗', '而', '不', '秀', '者', '有', '矣', '夫', '，', '秀', '而', '不', '实', '者', '有', '矣', '夫', '。', '子', '曰', '：', '后', '生', '可', '畏', '，', '焉', '知', '来', '者', '之', '不', '如', '今', '也', '？', '四', '十', '、', '五', '十', '而', '无', '闻', '焉', '，', '斯', '亦', '不', '足', '畏', '也', '已', '。', '子', '曰', '：', '法', '语', '之', '言', '，', '能', '无', '从', '乎', '？', '改', '之', '为', '贵', '。', '巽', '与', '之', '言', '，', '能', '无', '说', '乎', '？', '绎', '之', '为', '贵', '。', '说', '而', '不', '绎', '，', '从', '而', '不', '改', '，', '吾', '末', '如', '之', '何', '也', '已', '矣', '。', '子', '曰', '：', '主', '忠', '信', '。', '毋', '友', '不', '如', '己', '者', '，', '过', '，', '则', '勿', '惮', '改', '。', '子', '曰', '：', '三', '军', '可', '夺', '帅', '也', '，', '匹', '夫', '不', '可', '夺', '志', '也', '。', '子', '曰', '：', '衣', '敝', '缊', '袍', '，', '与', '衣', '狐', '貉', '者', '立', '而', '不', '耻', '者', '，', '其', '由', '也', '与', '！', '不', '忮', '不', '求', '，', '何', '用', '不', '臧', '？', '子', '路', '终', '身', '诵', '之', '，', '子', '曰', '：', '是', '道', '也', '，', '何', '足', '以', '臧', '？', '子', '曰', '：', '岁', '寒', '，', '然', '后', '知', '松', '柏', '之', '后', '凋', '也', '。', '子', '曰', '：', '知', '者', '不', '惑', '，', '仁', '者', '不', '忧', '，', '勇', '者', '不', '惧', '。', '子', '曰', '：', '可', '与', '共', '学', '，', '未', '可', '与', '适', '道', '；', '可', '与', '适', '道', '，', '未', '可', '与', '立', '；', '可', '与', '立', '，', '未', '可', '与', '权', '。', '唐', '棣', '之', '华', '，', '偏', '其', '反', '而', '。', '岂', '不', '尔', '思', '？', '室', '是', '远', '尔', '。', '子', '曰', '：', '未', '之', '思', '也', '，', '夫', '何', '远', '之', '有', '。', '孔', '子', '于', '乡', '党', '，', '恂', '恂', '如', '也', '，', '似', '不', '能', '言', '者', '；', '其', '在', '宗', '庙', '朝', '庭', '，', '便', '便', '言', '，', '唯', '谨', '尔', '。', '朝', '，', '与', '下', '大', '夫', '言', '，', '侃', '侃', '如', '也', '；', '与', '上', '大', '夫', '言', '，', '訚', '訚', '如', '也', '。', '君', '在', '，', '踧', '踖', '如', '也', '，', '与', '与', '如', '也', '。', '君', '召', '使', '摈', '，', '色', '勃', '如', '也', '，', '足', '躩', '如', '也', '。', '揖', '所', '与', '立', '，', '左', '右', '手', '，', '衣', '前', '后', '襜', '如', '也', '。', '趋', '进', '，', '翼', '如', '也', '。', '宾', '退', '，', '必', '复', '命', '曰', '：', '宾', '不', '顾', '矣', '。', '入', '公', '门', '，', '鞠', '躬', '如', '也', '，', '如', '不', '容', '。', '立', '不', '中', '门', '，', '行', '不', '履', '阈', '。', '过', '位', '，', '色', '勃', '如', '也', '，', '足', '躩', '如', '也', '，', '其', '言', '似', '不', '足', '者', '。', '摄', '齐', '升', '堂', '，', '鞠', '躬', '如', '也', '，', '屏', '气', '似', '不', '息', '者', '。', '出', '，', '降', '一', '等', '，', '逞', '颜', '色', '，', '怡', '怡', '如', '也', '；', '没', '阶', '，', '趋', '进', '，', '翼', '如', '也', '；', '复', '其', '位', '，', '踧', '踖', '如', '也', '。', '执', '圭', '，', '鞠', '躬', '如', '也', '，', '如', '不', '胜', '。', '上', '如', '揖', '，', '下', '如', '授', '。', '勃', '如', '战', '色', '，', '足', '蹜', '蹜', '如', '有', '循', '。', '享', '礼', '，', '有', '容', '色', '。', '私', '觌', '，', '愉', '愉', '如', '也', '。', '君', '子', '不', '以', '绀', '緅', '饰', '，', '红', '紫', '不', '以', '为', '亵', '服', '。', '当', '暑', '袗', '絺', '绤', '，', '必', '表', '而', '出', '之', '。', '缁', '衣', '羔', '裘', '，', '素', '衣', '麑', '裘', '，', '黄', '衣', '狐', '裘', '。', '亵', '裘', '长', '，', '短', '右', '袂', '。', '必', '有', '寝', '衣', '，', '长', '一', '身', '有', '半', '。', '狐', '貉', '之', '厚', '以', '居', '。', '去', '丧', '，', '无', '所', '不', '佩', '。', '非', '帷', '裳', '，', '必', '杀', '之', '。', '羔', '裘', '玄', '冠', '不', '以', '吊', '。', '吉', '月', '，', '必', '朝', '服', '而', '朝', '。', '齐', '，', '必', '有', '明', '衣', '，', '布', '。', '齐', '必', '变', '食', '，', '居', '必', '迁', '坐', '。', '食', '不', '厌', '精', '，', '脍', '不', '厌', '细', '。', '食', '饐', '而', '餲', '，', '鱼', '馁', '而', '肉', '败', '，', '不', '食', '；', '色', '恶', '，', '不', '食', '；', '臭', '恶', '，', '不', '食', '；', '失', '饪', '，', '不', '食', '；', '不', '时', '，', '不', '食', '；', '割', '不', '正', '，', '不', '食', '；', '不', '得', '其', '酱', '，', '不', '食', '。', '肉', '虽', '多', '，', '不', '使', '胜', '食', '气', '。', '唯', '酒', '无', '量', '，', '不', '及', '乱', '。', '沽', '酒', '市', '脯', '，', '不', '食', '。', '不', '撤', '姜', '食', '，', '不', '多', '食', '。', '祭', '于', '公', '，', '不', '宿', '肉', '。', '祭', '肉', '不', '出', '三', '日', '，', '出', '三', '日', '不', '食', '之', '矣', '。', '食', '不', '语', '，', '寝', '不', '言', '。', '虽', '疏', '食', '菜', '羹', '，', '瓜', '祭', '，', '必', '齐', '如', '也', '。', '席', '不', '正', '，', '不', '坐', '。', '乡', '人', '饮', '酒', '，', '杖', '者', '出', '，', '斯', '出', '矣', '。', '乡', '人', '傩', '，', '朝', '服', '而', '立', '于', '阼', '阶', '。', '问', '人', '于', '他', '邦', '，', '再', '拜', '而', '送', '之', '。', '康', '子', '馈', '药', '，', '拜', '而', '受', '之', '。', '曰', '：', '丘', '未', '达', '，', '不', '敢', '尝', '。', '厩', '焚', '，', '子', '退', '朝', '，', '曰', '：', '伤', '人', '乎', '？', '不', '问', '马', '。', '君', '赐', '食', '，', '必', '正', '席', '先', '尝', '之', '；', '君', '赐', '腥', '，', '必', '熟', '而', '荐', '之', '；', '君', '赐', '生', '，', '必', '畜', '之', '。', '侍', '食', '于', '君', '，', '君', '祭', '，', '先', '饭', '。', '疾', '，', '君', '视', '之', '，', '东', '首', '，', '加', '朝', '服', '，', '拖', '绅', '。', '君', '命', '召', '，', '不', '俟', '驾', '行', '矣', '。', '入', '太', '庙', '，', '每', '事', '问', '。', '朋', '友', '死', '，', '无', '所', '归', '，', '曰', '：', '于', '我', '殡', '。', '朋', '友', '之', '馈', '，', '虽', '车', '马', '，', '非', '祭', '肉', '，', '不', '拜', '。', '寝', '不', '尸', '，', '居', '不', '容', '。', '见', '齐', '衰', '者', '，', '虽', '狎', '，', '必', '变', '。', '见', '冕', '者', '与', '瞽', '者', '，', '虽', '亵', '，', '必', '以', '貌', '。', '凶', '服', '者', '式', '之', '，', '式', '负', '版', '者', '。', '有', '盛', '馔', '，', '必', '变', '色', '而', '作', '。', '迅', '雷', '风', '烈', '，', '必', '变', '。', '升', '车', '，', '必', '正', '立', '，', '执', '绥', '。', '车', '中', '不', '内', '顾', '，', '不', '疾', '言', '，', '不', '亲', '指', '。', '色', '斯', '举', '矣', '，', '翔', '而', '后', '集', '。', '曰', '：', '山', '梁', '雌', '雉', '，', '时', '哉', '时', '哉', '！', '子', '路', '共', '之', '，', '三', '嗅', '而', '作', '。', '子', '曰', '：', '先', '进', '于', '礼', '乐', '，', '野', '人', '也', '；', '后', '进', '于', '礼', '乐', '，', '君', '子', '也', '。', '如', '用', '之', '，', '则', '吾', '从', '先', '进', '。', '子', '曰', '：', '从', '我', '于', '陈', '、', '蔡', '者', '，', '皆', '不', '及', '门', '也', '。', '德', '行', '：', '颜', '渊', '，', '闵', '子', '骞', '，', '冉', '伯', '牛', '，', '仲', '弓', '。', '言', '语', '：', '宰', '我', '，', '子', '贡', '。', '政', '事', '：', '冉', '有', '，', '季', '路', '。', '文', '学', '：', '子', '游', '，', '子', '夏', '。', '子', '曰', '：', '回', '也', '非', '助', '我', '者', '也', '，', '于', '吾', '言', '无', '所', '不', '说', '。', '子', '曰', '：', '孝', '哉', '闵', '子', '骞', '！', '人', '不', '间', '于', '其', '父', '母', '昆', '弟', '之', '言', '。', '南', '容', '三', '复', '白', '圭', '，', '孔', '子', '以', '其', '兄', '之', '子', '妻', '之', '。', '季', '康', '子', '问', '：', '弟', '子', '孰', '为', '好', '学', '？', '孔', '子', '对', '曰', '：', '有', '颜', '回', '者', '好', '学', '，', '不', '幸', '短', '命', '死', '矣', '，', '今', '也', '则', '亡', '。', '颜', '渊', '死', '，', '颜', '路', '请', '子', '之', '车', '以', '为', '之', '椁', '。', '子', '曰', '：', '才', '不', '才', '，', '亦', '各', '言', '其', '子', '也', '。', '鲤', '也', '死', '，', '有', '棺', '而', '无', '椁', '，', '吾', '不', '徒', '行', '以', '为', '之', '椁', '。', '以', '吾', '从', '大', '夫', '之', '后', '，', '不', '可', '徒', '行', '也', '。', '颜', '渊', '死', '。', '子', '曰', '：', '噫', '！', '天', '丧', '予', '！', '天', '丧', '予', '！', '颜', '渊', '死', '，', '子', '哭', '之', '恸', '，', '从', '者', '曰', '：', '子', '恸', '矣', '！', '曰', '：', '有', '恸', '乎', '？', '非', '夫', '人', '之', '为', '恸', '而', '谁', '为', '？', '颜', '渊', '死', '，', '门', '人', '欲', '厚', '葬', '之', '，', '子', '曰', '：', '不', '可', '。', '门', '人', '厚', '葬', '之', '，', '子', '曰', '：', '回', '也', '视', '予', '犹', '父', '也', '，', '予', '不', '得', '视', '犹', '子', '也', '。', '非', '我', '也', '，', '夫', '二', '三', '子', '也', '！', '季', '路', '问', '事', '鬼', '神', '，', '子', '曰', '：', '未', '能', '事', '人', '，', '焉', '能', '事', '鬼', '？', '曰', '：', '敢', '问', '死', '。', '曰', '：', '未', '知', '生', '，', '焉', '知', '死', '？', '闵', '子', '侍', '侧', '，', '訚', '訚', '如', '也', '；', '子', '路', '，', '行', '行', '如', '也', '；', '冉', '有', '、', '子', '贡', '，', '侃', '侃', '如', '也', '。', '子', '乐', '。', '若', '由', '也', '，', '不', '得', '其', '死', '然', '。', '鲁', '人', '为', '长', '府', '，', '闵', '子', '骞', '曰', '：', '仍', '旧', '贯', '如', '之', '何', '？', '何', '必', '改', '作', '？', '子', '曰', '：', '夫', '人', '不', '言', '，', '言', '必', '有', '中', '。', '子', '曰', '：', '由', '之', '瑟', '奚', '为', '于', '丘', '之', '门', '？', '门', '人', '不', '敬', '子', '路', '，', '子', '曰', '：', '由', '也', '升', '堂', '矣', '，', '未', '入', '于', '室', '也', '。', '子', '贡', '问', '：', '师', '与', '商', '也', '孰', '贤', '？', '子', '曰', '：', '师', '也', '过', '，', '商', '也', '不', '及', '。', '曰', '：', '然', '则', '师', '愈', '与', '？', '子', '曰', '：', '过', '犹', '不', '及', '。', '季', '氏', '富', '于', '周', '公', '，', '而', '求', '也', '为', '之', '聚', '敛', '而', '附', '益', '之', '。', '子', '曰', '：', '非', '吾', '徒', '也', '，', '小', '子', '鸣', '鼓', '而', '攻', '之', '可', '也', '。', '柴', '也', '愚', '，', '参', '也', '鲁', '，', '师', '也', '辟', '，', '由', '也', '喭', '。', '子', '曰', '：', '回', '也', '其', '庶', '乎', '，', '屡', '空', '。', '赐', '不', '受', '命', '而', '货', '殖', '焉', '，', '亿', '则', '屡', '中', '。', '子', '张', '问', '善', '人', '之', '道', '，', '子', '曰', '：', '不', '践', '迹', '，', '亦', '不', '入', '于', '室', '。', '子', '曰', '：', '论', '笃', '是', '与', '，', '君', '子', '者', '乎', '，', '色', '庄', '者', '乎', '？', '子', '路', '问', '：', '闻', '斯', '行', '诸', '？', '子', '曰', '：', '有', '父', '兄', '在', '，', '如', '之', '何', '其', '闻', '斯', '行', '之', '？', '冉', '有', '问', '：', '闻', '斯', '行', '诸', '？', '子', '曰', '：', '闻', '斯', '行', '之', '。', '公', '西', '华', '曰', '：', '由', '也', '问', '闻', '斯', '行', '诸', '，', '子', '曰', '有', '父', '兄', '在', '；', '求', '也', '问', '闻', '斯', '行', '诸', '，', '子', '曰', '闻', '斯', '行', '之', '赤', '也', '惑', '，', '敢', '问', '。', '子', '曰', '：', '求', '也', '退', '，', '故', '进', '之', '；', '由', '也', '兼', '人', '，', '故', '退', '之', '。', '子', '畏', '于', '匡', '，', '颜', '渊', '后', '。', '子', '曰', '：', '吾', '以', '女', '为', '死', '矣', '！', '曰', '：', '子', '在', '，', '回', '何', '敢', '死', '！', '季', '子', '然', '问', '：', '仲', '由', '、', '冉', '求', '可', '谓', '大', '臣', '与', '？', '子', '曰', '：', '吾', '以', '子', '为', '异', '之', '问', '，', '曾', '由', '与', '求', '之', '问', '。', '所', '谓', '大', '臣', '者', '，', '以', '道', '事', '君', '，', '不', '可', '则', '止', '。', '今', '由', '与', '求', '也', '，', '可', '谓', '具', '臣', '矣', '。', '曰', '：', '然', '则', '从', '之', '者', '与', '？', '子', '曰', '：', '弑', '父', '与', '君', '，', '亦', '不', '从', '也', '。', '子', '路', '使', '子', '羔', '为', '费', '宰', '，', '子', '曰', '：', '贼', '夫', '人', '之', '子', '。', '子', '路', '曰', '：', '有', '民', '人', '焉', '，', '有', '社', '稷', '焉', '，', '何', '必', '读', '书', '然', '后', '为', '学', '。', '子', '曰', '：', '是', '故', '恶', '夫', '佞', '者', '。', '子', '路', '、', '曾', '皙', '、', '冉', '有', '、', '公', '西', '华', '侍', '坐', '，', '子', '曰', '：', '以', '吾', '一', '日', '长', '乎', '尔', '，', '毋', '吾', '以', '也', '。', '居', '则', '曰', '不', '吾', '知', '也', '如', '或', '知', '尔', '，', '则', '何', '以', '哉', '？', '子', '路', '率', '尔', '而', '对', '曰', '：', '千', '乘', '之', '国', '，', '摄', '乎', '大', '国', '之', '间', '，', '加', '之', '以', '师', '旅', '，', '因', '之', '以', '饥', '馑', '，', '由', '也', '为', '之', '，', '比', '及', '三', '年', '，', '可', '使', '有', '勇', '，', '且', '知', '方', '也', '。', '夫', '子', '哂', '之', '。', '求', '，', '尔', '何', '如', '？', '对', '曰', '：', '方', '六', '七', '十', '，', '如', '五', '六', '十', '，', '求', '也', '为', '之', '，', '比', '及', '三', '年', '，', '可', '使', '足', '民', '。', '如', '其', '礼', '乐', '，', '以', '俟', '君', '子', '。', '赤', '！', '尔', '何', '如', '？', '对', '曰', '：', '非', '曰', '能', '之', '，', '愿', '学', '焉', '。', '宗', '庙', '之', '事', '，', '如', '会', '同', '，', '端', '章', '甫', '，', '愿', '为', '小', '相', '焉', '。', '点', '，', '尔', '何', '如', '？', '鼓', '瑟', '希', '，', '铿', '尔', '，', '舍', '瑟', '而', '作', '，', '对', '曰', '：', '异', '乎', '三', '子', '者', '之', '撰', '。', '子', '曰', '：', '何', '伤', '乎', '？', '亦', '各', '言', '其', '志', '也', '。', '曰', '：', '暮', '春', '者', '，', '春', '服', '既', '成', '，', '冠', '者', '五', '六', '人', '，', '童', '子', '六', '七', '人', '，', '浴', '乎', '沂', '，', '风', '乎', '舞', '雩', '，', '咏', '而', '归', '。', '夫', '子', '喟', '然', '叹', '曰', '：', '吾', '与', '点', '也', '！', '三', '子', '者', '出', '，', '曾', '皙', '后', '。', '曾', '皙', '曰', '：', '夫', '三', '子', '者', '之', '言', '何', '如', '？', '子', '曰', '：', '亦', '各', '言', '其', '志', '也', '已', '矣', '。', '曰', '：', '夫', '子', '何', '哂', '由', '也', '？', '曰', '：', '为', '国', '以', '礼', '，', '其', '言', '不', '让', '，', '是', '故', '哂', '之', '。', '唯', '求', '则', '非', '邦', '也', '与', '？', '安', '见', '方', '六', '七', '十', '、', '如', '五', '六', '十', '而', '非', '邦', '也', '者', '？', '唯', '赤', '则', '非', '邦', '也', '与', '？', '宗', '庙', '会', '同', '，', '非', '诸', '侯', '而', '何', '？', '赤', '也', '为', '之', '小', '，', '孰', '能', '为', '之', '大', '？', '颜', '渊', '问', '仁', '，', '子', '曰', '：', '克', '己', '复', '礼', '为', '仁', '。', '一', '日', '克', '己', '复', '礼', '，', '天', '下', '归', '仁', '焉', '。', '为', '仁', '由', '己', '，', '而', '由', '人', '乎', '哉', '？', '颜', '渊', '曰', '：', '请', '问', '其', '目', '？', '子', '曰', '：', '非', '礼', '勿', '视', '，', '非', '礼', '勿', '听', '，', '非', '礼', '勿', '言', '，', '非', '礼', '勿', '动', '。', '颜', '渊', '曰', '：', '回', '虽', '不', '敏', '，', '请', '事', '斯', '语', '矣', '。', '仲', '弓', '问', '仁', '，', '子', '曰', '：', '出', '门', '如', '见', '大', '宾', '，', '使', '民', '如', '承', '大', '祭', '。', '己', '所', '不', '欲', '，', '勿', '施', '于', '人', '。', '在', '邦', '无', '怨', '，', '在', '家', '无', '怨', '。', '仲', '弓', '曰', '：', '雍', '虽', '不', '敏', '，', '请', '事', '斯', '语', '矣', '。', '司', '马', '牛', '问', '仁', '，', '子', '曰', '：', '仁', '者', '，', '其', '言', '也', '讱', '。', '曰', '：', '其', '言', '也', '讱', '，', '斯', '谓', '之', '仁', '已', '乎', '？', '子', '曰', '：', '为', '之', '难', '，', '言', '之', '得', '无', '讱', '乎', '？', '司', '马', '牛', '问', '君', '子', '，', '子', '曰', '：', '君', '子', '不', '忧', '不', '惧', '。', '曰', '：', '不', '忧', '不', '惧', '，', '斯', '谓', '之', '君', '子', '已', '乎', '？', '子', '曰', '：', '内', '省', '不', '疚', '，', '夫', '何', '忧', '何', '惧', '？', '司', '马', '牛', '忧', '曰', '：', '人', '皆', '有', '兄', '弟', '，', '我', '独', '亡', '。', '子', '夏', '曰', '：', '商', '闻', '之', '矣', '：', '死', '生', '有', '命', '，', '富', '贵', '在', '天', '。', '君', '子', '敬', '而', '无', '失', '，', '与', '人', '恭', '而', '有', '礼', '，', '四', '海', '之', '内', '皆', '兄', '弟', '也', '。', '君', '子', '何', '患', '乎', '无', '兄', '弟', '也', '？', '子', '张', '问', '明', '，', '子', '曰', '：', '浸', '润', '之', '谮', '，', '肤', '受', '之', '愬', '，', '不', '行', '焉', '，', '可', '谓', '明', '也', '已', '矣', '；', '浸', '润', '之', '谮', '、', '肤', '受', '之', '愬', '不', '行', '焉', '，', '可', '谓', '远', '也', '已', '矣', '。', '子', '贡', '问', '政', '，', '子', '曰', '：', '足', '食', '，', '足', '兵', '，', '民', '信', '之', '矣', '。', '子', '贡', '曰', '：', '必', '不', '得', '已', '而', '去', '，', '于', '斯', '三', '者', '何', '先', '？', '曰', '：', '去', '兵', '。', '子', '贡', '曰', '：', '必', '不', '得', '已', '而', '去', '，', '于', '斯', '二', '者', '何', '先', '？', '曰', '：', '去', '食', '。', '自', '古', '皆', '有', '死', '，', '民', '无', '信', '不', '立', '。', '棘', '子', '成', '曰', '：', '君', '子', '质', '而', '已', '矣', '，', '何', '以', '文', '为', '？', '子', '贡', '曰', '：', '惜', '乎', '，', '夫', '子', '之', '说', '君', '子', '也', '！', '驷', '不', '及', '舌', '。', '文', '犹', '质', '也', '，', '质', '犹', '文', '也', '。', '虎', '豹', '之', '鞟', '犹', '犬', '羊', '之', '鞟', '。', '哀', '公', '问', '于', '有', '若', '曰', '：', '年', '饥', '，', '用', '不', '足', '，', '如', '之', '何', '？', '有', '若', '对', '曰', '：', '盍', '彻', '乎', '？', '曰', '：', '二', '，', '吾', '犹', '不', '足', '，', '如', '之', '何', '其', '彻', '也', '？', '对', '曰', '：', '百', '姓', '足', '，', '君', '孰', '与', '不', '足', '？', '百', '姓', '不', '足', '，', '君', '孰', '与', '足', '？', '子', '张', '问', '崇', '德', '辨', '惑', '，', '子', '曰', '：', '主', '忠', '信', '，', '徙', '义', '，', '崇', '德', '也', '。', '爱', '之', '欲', '其', '生', '，', '恶', '之', '欲', '其', '死', '；', '既', '欲', '其', '生', '又', '欲', '其', '死', '，', '是', '惑', '也', '。', '诚', '不', '以', '富', '，', '亦', '只', '以', '异', '。', '齐', '景', '公', '问', '政', '于', '孔', '子', '，', '孔', '子', '对', '曰', '：', '君', '君', '，', '臣', '臣', '，', '父', '父', '，', '子', '子', '。', '公', '曰', '：', '善', '哉', '！', '信', '如', '君', '不', '君', '、', '臣', '不', '臣', '、', '父', '不', '父', '、', '子', '不', '子', '，', '虽', '有', '粟', '，', '吾', '得', '而', '食', '诸', '？', '子', '曰', '：', '片', '言', '可', '以', '折', '狱', '者', '，', '其', '由', '也', '与', '？', '子', '路', '无', '宿', '诺', '。', '子', '曰', '：', '听', '讼', '，', '吾', '犹', '人', '也', '。', '必', '也', '使', '无', '讼', '乎', '。', '子', '张', '问', '政', '，', '子', '曰', '：', '居', '之', '无', '倦', '，', '行', '之', '以', '忠', '。', '子', '曰', '：', '博', '学', '于', '文', '，', '约', '之', '以', '礼', '，', '亦', '可', '以', '弗', '畔', '矣', '夫', '。', '子', '曰', '：', '君', '子', '成', '人', '之', '美', '，', '不', '成', '人', '之', '恶', '；', '小', '人', '反', '是', '。', '季', '康', '子', '问', '政', '于', '孔', '子', '，', '孔', '子', '对', '曰', '：', '政', '者', '，', '正', '也', '。', '子', '帅', '以', '正', '，', '孰', '敢', '不', '正', '？', '季', '康', '子', '患', '盗', '，', '问', '于', '孔', '子', '。', '孔', '子', '对', '曰', '：', '苟', '子', '之', '不', '欲', '，', '虽', '赏', '之', '不', '窃', '。', '季', '康', '子', '问', '政', '于', '孔', '子', '曰', '：', '如', '杀', '无', '道', '以', '就', '有', '道', '，', '何', '如', '？', '孔', '子', '对', '曰', '：', '子', '为', '政', '，', '焉', '用', '杀', '？', '子', '欲', '善', '而', '民', '善', '矣', '。', '君', '子', '之', '德', '风', '，', '小', '人', '之', '德', '草', '，', '草', '上', '之', '风', '必', '偃', '。', '子', '张', '问', '：', '士', '何', '如', '斯', '可', '谓', '之', '达', '矣', '？', '子', '曰', '：', '何', '哉', '尔', '所', '谓', '达', '者', '？', '子', '张', '对', '曰', '：', '在', '邦', '必', '闻', '，', '在', '家', '必', '闻', '。', '子', '曰', '：', '是', '闻', '也', '，', '非', '达', '也', '。', '夫', '达', '也', '者', '，', '质', '直', '而', '好', '义', '，', '察', '言', '而', '观', '色', '，', '虑', '以', '下', '人', '。', '在', '邦', '必', '达', '，', '在', '家', '必', '达', '。', '夫', '闻', '也', '者', '，', '色', '取', '仁', '而', '行', '违', '，', '居', '之', '不', '疑', '。', '在', '邦', '必', '闻', '，', '在', '家', '必', '闻', '。', '樊', '迟', '从', '游', '于', '舞', '雩', '之', '下', '，', '曰', '：', '敢', '问', '崇', '德', '、', '修', '慝', '、', '辨', '惑', '。', '子', '曰', '：', '善', '哉', '问', '！', '先', '事', '后', '得', '，', '非', '崇', '德', '与', '？', '攻', '其', '恶', '，', '无', '攻', '人', '之', '恶', '，', '非', '修', '慝', '与', '？', '一', '朝', '之', '忿', '，', '忘', '其', '身', '，', '以', '及', '其', '亲', '，', '非', '惑', '与', '？', '樊', '迟', '问', '仁', '，', '子', '曰', '：', '爱', '人', '。', '问', '知', '，', '子', '曰', '：', '知', '人', '。', '樊', '迟', '未', '达', '，', '子', '曰', '：', '举', '直', '错', '诸', '枉', '，', '能', '使', '枉', '者', '直', '。', '樊', '迟', '退', '，', '见', '子', '夏', '，', '曰', '：', '乡', '也', '吾', '见', '于', '夫', '子', '而', '问', '知', '，', '子', '曰', '：', '举', '直', '错', '诸', '枉', '，', '能', '使', '枉', '者', '直', '，', '何', '谓', '也', '？', '子', '夏', '曰', '：', '富', '哉', '言', '乎', '！', '舜', '有', '天', '下', '，', '选', '于', '众', '，', '举', '皋', '陶', '，', '不', '仁', '者', '远', '矣', '。', '汤', '有', '天', '下', '，', '选', '于', '众', '，', '举', '伊', '尹', '，', '不', '仁', '者', '远', '矣', '。', '子', '贡', '问', '友', '，', '子', '曰', '：', '忠', '告', '而', '善', '道', '之', '，', '不', '可', '则', '止', '，', '毋', '自', '辱', '焉', '。', '曾', '子', '曰', '：', '君', '子', '以', '文', '会', '友', '，', '以', '友', '辅', '仁', '。', '子', '路', '问', '政', '，', '子', '曰', '：', '先', '之', '，', '劳', '之', '。', '请', '益', '，', '曰', '：', '无', '倦', '。', '仲', '弓', '为', '季', '氏', '宰', '，', '问', '政', '，', '子', '曰', '：', '先', '有', '司', '，', '赦', '小', '过', '，', '举', '贤', '才', '。', '曰', '：', '焉', '知', '贤', '才', '而', '举', '之', '？', '曰', '：', '举', '尔', '所', '知', '。', '尔', '所', '不', '知', '，', '人', '其', '舍', '诸', '？', '子', '路', '曰', '：', '卫', '君', '待', '子', '而', '为', '政', '，', '子', '将', '奚', '先', '？', '子', '曰', '：', '必', '也', '正', '名', '乎', '！', '子', '路', '曰', '：', '有', '是', '哉', '，', '子', '之', '迂', '也', '！', '奚', '其', '正', '？', '子', '曰', '：', '野', '哉', '由', '也', '！', '君', '子', '于', '其', '所', '不', '知', '，', '盖', '阙', '如', '也', '。', '名', '不', '正', '，', '则', '言', '不', '顺', '；', '言', '不', '顺', '，', '则', '事', '不', '成', '；', '事', '不', '成', '，', '则', '礼', '乐', '不', '兴', '；', '礼', '乐', '不', '兴', '，', '则', '刑', '罚', '不', '中', '；', '刑', '罚', '不', '中', '，', '则', '民', '无', '所', '措', '手', '足', '。', '故', '君', '子', '名', '之', '必', '可', '言', '也', '，', '言', '之', '必', '可', '行', '也', '。', '君', '子', '于', '其', '言', '，', '无', '所', '苟', '而', '已', '矣', '。', '樊', '迟', '请', '学', '稼', '，', '子', '曰', '：', '吾', '不', '如', '老', '农', '。', '请', '学', '为', '圃', '，', '曰', '：', '吾', '不', '如', '老', '圃', '。', '樊', '迟', '出', '，', '子', '曰', '：', '小', '人', '哉', '樊', '须', '也', '！', '上', '好', '礼', '，', '则', '民', '莫', '敢', '不', '敬', '；', '上', '好', '义', '，', '则', '民', '莫', '敢', '不', '服', '；', '上', '好', '信', '，', '则', '民', '莫', '敢', '不', '用', '情', '。', '夫', '如', '是', '，', '则', '四', '方', '之', '民', '襁', '负', '其', '子', '而', '至', '矣', '，', '焉', '用', '稼', '？', '子', '曰', '：', '诵', '《', '诗', '》', '三', '百', '，', '授', '之', '以', '政', '，', '不', '达', '；', '使', '于', '四', '方', '，', '不', '能', '专', '对', '；', '虽', '多', '，', '亦', '奚', '以', '为', '？', '子', '曰', '：', '其', '身', '正', '，', '不', '令', '而', '行', '；', '其', '身', '不', '正', '，', '虽', '令', '不', '从', '。', '子', '曰', '：', '鲁', '卫', '之', '政', '，', '兄', '弟', '也', '。', '子', '谓', '卫', '公', '子', '荆', '，', '善', '居', '室', '。', '始', '有', '，', '曰', '：', '苟', '合', '矣', '。', '少', '有', '，', '曰', '：', '苟', '完', '矣', '。', '富', '有', '，', '曰', '：', '苟', '美', '矣', '。', '子', '适', '卫', '，', '冉', '有', '仆', '，', '子', '曰', '：', '庶', '矣', '哉', '！', '冉', '有', '曰', '：', '既', '庶', '矣', '，', '又', '何', '加', '焉', '？', '曰', '：', '富', '之', '。', '曰', '：', '既', '富', '矣', '，', '又', '何', '加', '焉', '？', '曰', '：', '教', '之', '。', '子', '曰', '：', '苟', '有', '用', '我', '者', '，', '期', '月', '而', '已', '可', '也', '，', '三', '年', '有', '成', '。', '子', '曰', '：', '善', '人', '为', '邦', '百', '年', '，', '亦', '可', '以', '胜', '残', '去', '杀', '矣', '。', '诚', '哉', '是', '言', '也', '！', '子', '曰', '：', '如', '有', '王', '者', '，', '必', '世', '而', '后', '仁', '。', '子', '曰', '：', '苟', '正', '其', '身', '矣', '，', '于', '从', '政', '乎', '何', '有', '？', '不', '能', '正', '其', '身', '，', '如', '正', '人', '何', '？', '冉', '子', '退', '朝', '，', '子', '曰', '：', '何', '晏', '也', '？', '对', '曰', '：', '有', '政', '。', '子', '曰', '：', '其', '事', '也', '。', '如', '有', '政', '，', '虽', '不', '吾', '以', '，', '吾', '其', '与', '闻', '之', '。', '定', '公', '问', '：', '一', '言', '而', '可', '以', '兴', '邦', '，', '有', '诸', '？', '孔', '子', '对', '曰', '：', '言', '不', '可', '以', '若', '是', '，', '其', '几', '也', '。', '人', '之', '言', '曰', '：', '为', '君', '难', '，', '为', '臣', '不', '易', '。', '如', '知', '为', '君', '之', '难', '也', '，', '不', '几', '乎', '一', '言', '而', '兴', '邦', '乎', '？', '曰', '：', '一', '言', '而', '丧', '邦', '，', '有', '诸', '？', '孔', '子', '对', '曰', '：', '言', '不', '可', '以', '若', '是', '其', '几', '也', '。', '人', '之', '言', '曰', '：', '予', '无', '乐', '乎', '为', '君', '，', '唯', '其', '言', '而', '莫', '予', '违', '也', '。', '如', '其', '善', '而', '莫', '之', '违', '也', '，', '不', '亦', '善', '乎', '？', '如', '不', '善', '而', '莫', '之', '违', '也', '，', '不', '几', '乎', '一', '言', '而', '丧', '邦', '乎', '？', '叶', '公', '问', '政', '，', '子', '曰', '：', '近', '者', '说', '，', '远', '者', '来', '。', '子', '夏', '为', '莒', '父', '宰', '，', '问', '政', '，', '子', '曰', '：', '无', '欲', '速', '，', '无', '见', '小', '利', '。', '欲', '速', '则', '不', '达', '，', '见', '小', '利', '则', '大', '事', '不', '成', '。', '叶', '公', '语', '孔', '子', '曰', '：', '吾', '党', '有', '直', '躬', '者', '，', '其', '父', '攘', '羊', '，', '而', '子', '证', '之', '。', '孔', '子', '曰', '：', '吾', '党', '之', '直', '者', '异', '于', '是', '。', '父', '为', '子', '隐', '，', '子', '为', '父', '隐', '，', '直', '在', '其', '中', '矣', '。', '樊', '迟', '问', '仁', '，', '子', '曰', '：', '居', '处', '恭', '，', '执', '事', '敬', '，', '与', '人', '忠', '。', '虽', '之', '夷', '狄', '，', '不', '可', '弃', '也', '。', '子', '贡', '问', '曰', '：', '何', '如', '斯', '可', '谓', '之', '士', '矣', '？', '子', '曰', '：', '行', '己', '有', '耻', '，', '使', '于', '四', '方', '不', '辱', '君', '命', '，', '可', '谓', '士', '矣', '。', '曰', '：', '敢', '问', '其', '次', '。', '曰', '：', '宗', '族', '称', '孝', '焉', '，', '乡', '党', '称', '弟', '焉', '。', '曰', '：', '敢', '问', '其', '次', '。', '曰', '：', '言', '必', '信', '，', '行', '必', '果', '，', '硁', '硁', '然', '小', '人', '哉', '！', '抑', '亦', '可', '以', '为', '次', '矣', '。', '曰', '：', '今', '之', '从', '政', '者', '何', '如', '？', '子', '曰', '：', '噫', '！', '斗', '筲', '之', '人', '，', '何', '足', '算', '也', '！', '子', '曰', '：', '不', '得', '中', '行', '而', '与', '之', '，', '必', '也', '狂', '狷', '乎', '！', '狂', '者', '进', '取', '，', '狷', '者', '有', '所', '不', '为', '也', '。', '子', '曰', '：', '南', '人', '有', '言', '曰', '：', '人', '而', '无', '恒', '，', '不', '可', '以', '作', '巫', '医', '。', '善', '夫', '！', '不', '恒', '其', '德', '，', '或', '承', '之', '羞', '。', '子', '曰', '：', '不', '占', '而', '已', '矣', '。', '子', '曰', '：', '君', '子', '和', '而', '不', '同', '，', '小', '人', '同', '而', '不', '和', '。', '子', '贡', '问', '曰', '：', '乡', '人', '皆', '好', '之', '，', '何', '如', '？', '子', '曰', '：', '未', '可', '也', '。', '乡', '人', '皆', '恶', '之', '，', '何', '如', '？', '子', '曰', '：', '未', '可', '也', '。', '不', '如', '乡', '人', '之', '善', '者', '好', '之', '，', '其', '不', '善', '者', '恶', '之', '。', '子', '曰', '：', '君', '子', '易', '事', '而', '难', '说', '也', '，', '说', '之', '不', '以', '道', '不', '说', '也', '，', '及', '其', '使', '人', '也', '器', '之', '；', '小', '人', '难', '事', '而', '易', '说', '也', '，', '说', '之', '虽', '不', '以', '道', '说', '也', '，', '及', '其', '使', '人', '也', '求', '备', '焉', '。', '子', '曰', '：', '君', '子', '泰', '而', '不', '骄', '，', '小', '人', '骄', '而', '不', '泰', '。', '子', '曰', '：', '刚', '、', '毅', '、', '木', '、', '讷', '近', '仁', '。', '子', '路', '问', '曰', '：', '何', '如', '斯', '可', '谓', '之', '士', '矣', '？', '子', '曰', '：', '切', '切', '偲', '偲', '，', '怡', '怡', '如', '也', '，', '可', '谓', '士', '矣', '。', '朋', '友', '切', '切', '偲', '偲', '，', '兄', '弟', '怡', '怡', '。', '子', '曰', '：', '善', '人', '教', '民', '七', '年', '，', '亦', '可', '以', '即', '戎', '矣', '。', '子', '曰', '：', '以', '不', '教', '民', '战', '，', '是', '谓', '弃', '之', '。', '宪', '问', '耻', '，', '子', '曰', '：', '邦', '有', '道', '，', '谷', '；', '邦', '无', '道', '，', '谷', '，', '耻', '也', '。', '克', '、', '伐', '、', '怨', '、', '欲', '不', '行', '焉', '，', '可', '以', '为', '仁', '矣', '？', '子', '曰', '：', '可', '以', '为', '难', '矣', '，', '仁', '则', '吾', '不', '知', '也', '。', '子', '曰', '：', '士', '而', '怀', '居', '，', '不', '足', '以', '为', '士', '矣', '。', '子', '曰', '：', '邦', '有', '道', '，', '危', '言', '危', '行', '；', '邦', '无', '道', '，', '危', '行', '言', '孙', '。', '子', '曰', '：', '有', '德', '者', '必', '有', '言', '，', '有', '言', '者', '不', '必', '有', '德', '。', '仁', '者', '必', '有', '勇', '，', '勇', '者', '不', '必', '有', '仁', '。', '南', '宫', '适', '问', '于', '孔', '子', '曰', '：', '羿', '善', '射', '，', '奡', '荡', '舟', '，', '俱', '不', '得', '其', '死', '然', '；', '禹', '、', '稷', '躬', '稼', '而', '有', '天', '下', '。', '夫', '子', '不', '答', '。', '南', '宫', '适', '出', '，', '子', '曰', '：', '君', '子', '哉', '若', '人', '！', '尚', '德', '哉', '若', '人', '！', '子', '曰', '：', '君', '子', '而', '不', '仁', '者', '有', '矣', '夫', '，', '未', '有', '小', '人', '而', '仁', '者', '也', '。', '子', '曰', '：', '爱', '之', '，', '能', '勿', '劳', '乎', '？', '忠', '焉', '，', '能', '勿', '诲', '乎', '？', '子', '曰', '：', '为', '命', '，', '裨', '谌', '草', '创', '之', '，', '世', '叔', '讨', '论', '之', '，', '行', '人', '子', '羽', '修', '饰', '之', '，', '东', '里', '子', '产', '润', '色', '之', '。', '或', '问', '子', '产', '，', '子', '曰', '：', '惠', '人', '也', '。', '问', '子', '西', '，', '曰', '：', '彼', '哉', '，', '彼', '哉', '！', '问', '管', '仲', '，', '曰', '：', '人', '也', '。', '夺', '伯', '氏', '骈', '邑', '三', '百', '，', '饭', '疏', '食', '，', '没', '齿', '无', '怨', '言', '。', '子', '曰', '：', '贫', '而', '无', '怨', '难', '，', '富', '而', '无', '骄', '易', '。', '子', '曰', '：', '孟', '公', '绰', '为', '赵', '、', '魏', '老', '则', '优', '，', '不', '可', '以', '为', '滕', '、', '薛', '大', '夫', '。', '子', '路', '问', '成', '人', '，', '子', '曰', '：', '若', '臧', '武', '仲', '之', '知', '、', '公', '绰', '之', '不', '欲', '、', '卞', '庄', '子', '之', '勇', '、', '冉', '求', '之', '艺', '，', '文', '之', '以', '礼', '乐', '，', '亦', '可', '以', '为', '成', '人', '矣', '。', '曰', '：', '今', '之', '成', '人', '者', '何', '必', '然', '？', '见', '利', '思', '义', '，', '见', '危', '授', '命', '，', '久', '要', '不', '忘', '平', '生', '之', '言', '，', '亦', '可', '以', '为', '成', '人', '矣', '。', '子', '问', '公', '叔', '文', '子', '于', '公', '明', '贾', '曰', '：', '信', '乎', '，', '夫', '子', '不', '言', '，', '不', '笑', '，', '不', '取', '乎', '？', '公', '明', '贾', '对', '曰', '：', '以', '告', '者', '过', '也', '。', '夫', '子', '时', '然', '后', '言', '，', '人', '不', '厌', '其', '言', '；', '乐', '然', '后', '笑', '，', '人', '不', '厌', '其', '笑', '；', '义', '然', '后', '取', '，', '人', '不', '厌', '其', '取', '。', '子', '曰', '：', '其', '然', '？', '岂', '其', '然', '乎', '？', '子', '曰', '：', '臧', '武', '仲', '以', '防', '求', '为', '后', '于', '鲁', '，', '虽', '曰', '不', '要', '君', '，', '吾', '不', '信', '也', '。', '子', '曰', '：', '晋', '文', '公', '谲', '而', '不', '正', '，', '齐', '桓', '公', '正', '而', '不', '谲', '。', '子', '路', '曰', '：', '桓', '公', '杀', '公', '子', '纠', '，', '召', '忽', '死', '之', '，', '管', '仲', '不', '死', '，', '曰', '未', '仁', '乎', '？', '子', '曰', '：', '桓', '公', '九', '合', '诸', '侯', '不', '以', '兵', '车', '，', '管', '仲', '之', '力', '也', '。', '如', '其', '仁', '，', '如', '其', '仁', '！', '子', '贡', '曰', '：', '管', '仲', '非', '仁', '者', '与', '？', '桓', '公', '杀', '公', '子', '纠', '，', '不', '能', '死', '，', '又', '相', '之', '。', '子', '曰', '：', '管', '仲', '相', '桓', '公', '霸', '诸', '侯', '，', '一', '匡', '天', '下', '，', '民', '到', '于', '今', '受', '其', '赐', '。', '微', '管', '仲', '，', '吾', '其', '被', '发', '左', '衽', '矣', '。', '岂', '若', '匹', '夫', '匹', '妇', '之', '为', '谅', '也', '，', '自', '经', '于', '沟', '渎', '而', '莫', '之', '知', '也', '。', '公', '叔', '文', '子', '之', '臣', '大', '夫', '僎', '与', '文', '子', '同', '升', '诸', '公', '，', '子', '闻', '之', ',', '曰', '：', '可', '以', '为', '文', '矣', '。', '子', '言', '卫', '灵', '公', '之', '无', '道', '也', '，', '康', '子', '曰', '：', '夫', '如', '是', '，', '奚', '而', '不', '丧', '？', '孔', '子', '曰', '：', '仲', '叔', '圉', '治', '宾', '客', '，', '祝', '鮀', '治', '宗', '庙', '，', '王', '孙', '贾', '治', '军', '旅', '，', '夫', '如', '是', '，', '奚', '其', '丧', '？', '子', '曰', '：', '其', '言', '之', '不', '怍', '，', '则', '为', '之', '也', '难', '。', '陈', '成', '子', '弑', '简', '公', '，', '孔', '子', '沐', '浴', '而', '朝', '，', '告', '于', '哀', '公', '曰', '：', '陈', '恒', '弑', '其', '君', '，', '请', '讨', '之', '。', '公', '曰', '：', '告', '夫', '三', '子', '。', ',', '孔', '子', '曰', '：', '以', '吾', '从', '大', '夫', '之', '后', '，', '不', '敢', '不', '告', '也', '，', '君', '曰', '告', '夫', '三', '子', '者', '！', '之', '三', '子', '告', '，', '不', '可', '。', '孔', '子', '曰', '：', '以', '吾', '从', '大', '夫', '之', '后', '，', '不', '敢', '不', '告', '也', '。', '子', '路', '问', '事', '君', '，', '子', '曰', '：', '勿', '欺', '也', '，', '而', '犯', '之', '。', '子', '曰', '：', '君', '子', '上', '达', '，', '小', '人', '下', '达', '。', '子', '曰', '：', '古', '之', '学', '者', '为', '己', '，', '今', '之', '学', '者', '为', '人', '。', '蘧', '伯', '玉', '使', '人', '于', '孔', '子', '，', '孔', '子', '与', '之', '坐', '而', '问', '焉', '，', '曰', '：', '夫', '子', '何', '为', '？', '对', '曰', '：', '夫', '子', '欲', '寡', '其', '过', '而', '未', '能', '也', '。', '使', '者', '出', '，', '子', '曰', '：', '使', '乎', '！', '使', '乎', '！', '子', '曰', '：', '不', '在', '其', '位', '，', '不', '谋', '其', '政', '。', '曾', '子', '曰', '：', '君', '子', '思', '不', '出', '其', '位', '。', '子', '曰', '：', '君', '子', '耻', '其', '言', '而', '过', '其', '行', '。', '子', '曰', '：', '君', '子', '道', '者', '三', '，', '我', '无', '能', '焉', '：', '仁', '者', '不', '忧', '，', '知', '者', '不', '惑', '，', '勇', '者', '不', '惧', '。', '子', '贡', '曰', '：', '夫', '子', '自', '道', '也', '。', '子', '贡', '方', '人', '，', '子', '曰', '：', '赐', '也', '贤', '乎', '哉', '？', '夫', '我', '则', '不', '暇', '。', '子', '曰', '：', '不', '患', '人', '之', '不', '己', '知', '，', '患', '其', '不', '能', '也', '。', '子', '曰', '：', '不', '逆', '诈', '，', '不', '亿', '不', '信', '，', '抑', '亦', '先', '觉', '者', '，', '是', '贤', '乎', '！', '微', '生', '亩', '谓', '孔', '子', '曰', '：', '丘', '何', '为', '是', '栖', '栖', '者', '与', '？', '无', '乃', '为', '佞', '乎', '？', '孔', '子', '曰', '：', '非', '敢', '为', '佞', '也', '，', '疾', '固', '也', '。', '子', '曰', '：', '骥', '不', '称', '其', '力', '，', '称', '其', '德', '也', '。', '或', '曰', '：', '以', '德', '报', '怨', '，', '何', '如', '？', '子', '曰', '：', '何', '以', '报', '德', '？', '以', '直', '报', '怨', '，', '以', '德', '报', '德', '。', '子', '曰', '：', '莫', '我', '知', '也', '夫', '！', '子', '贡', '曰', '：', '何', '为', '其', '莫', '知', '子', '也', '？', '子', '曰', '：', '不', '怨', '天', '，', '不', '尤', '人', '，', '下', '学', '而', '上', '达', '。', '知', '我', '者', '其', '天', '乎', '！', '公', '伯', '寮', '愬', '子', '路', '于', '季', '孙', '。', '子', '服', '景', '伯', '以', '告', '，', '曰', '：', '夫', '子', '固', '有', '惑', '志', '于', '公', '伯', '寮', '，', '吾', '力', '犹', '能', '肆', '诸', '市', '朝', '。', '子', '曰', '：', '道', '之', '将', '行', '也', '与', '，', '命', '也', '；', '道', '之', '将', '废', '也', '与', '，', '命', '也', '。', '公', '伯', '寮', '其', '如', '命', '何', '？', '子', '曰', '：', '贤', '者', '辟', '世', '，', '其', '次', '辟', '地', '，', '其', '次', '辟', '色', '，', '其', '次', '辟', '言', '。', '子', '曰', '：', '作', '者', '七', '人', '矣', '。', '子', '路', '宿', '于', '石', '门', '，', '晨', '门', '曰', '：', '奚', '自', '？', '子', '路', '曰', '：', '自', '孔', '氏', '。', '曰', '：', '是', '知', '其', '不', '可', '而', '为', '之', '者', '与', '？', '子', '击', '磬', '于', '卫', '，', '有', '荷', '蒉', '而', '过', '孔', '氏', '之', '门', '者', '，', '曰', '：', '有', '心', '哉', '，', '击', '磬', '乎', '！', '既', '而', '曰', '：', '鄙', '哉', '，', '硁', '硁', '乎', '！', '莫', '己', '知', '也', '，', '斯', '已', '而', '已', '矣', '。', '深', '则', '厉', '，', '浅', '则', '揭', '。', '子', '曰', '：', '果', '哉', '！', '末', '之', '难', '矣', '。', '子', '张', '曰', '：', '《', '书', '》', '云', '，', '高', '宗', '谅', '阴', '，', '三', '年', '不', '言', '。', '何', '谓', '也', '？', '子', '曰', '：', '何', '必', '高', '宗', '，', '古', '之', '人', '皆', '然', '。', '君', '薨', '，', '百', '官', '总', '己', '以', '听', '于', '冢', '宰', '三', '年', '。', '子', '曰', '：', '上', '好', '礼', '，', '则', '民', '易', '使', '也', '。', '子', '路', '问', '君', '子', '，', '子', '曰', '：', '修', '己', '以', '敬', '。', '曰', '：', '如', '斯', '而', '已', '乎', '？', '曰', '：', '修', '己', '以', '安', '人', '。', '曰', '：', '如', '斯', '而', '已', '乎', '？', '曰', '：', '修', '己', '以', '安', '百', '姓', '。', '修', '己', '以', '安', '百', '姓', '，', '尧', '、', '舜', '其', '犹', '病', '诸', '！', '原', '壤', '夷', '俟', '，', '子', '曰', '：', '幼', '而', '不', '孙', '弟', '，', '长', '而', '无', '述', '焉', '，', '老', '而', '不', '死', '，', '是', '为', '贼', '！', '以', '杖', '叩', '其', '胫', '。', '阙', '党', '童', '子', '将', '命', '，', '或', '问', '之', '曰', '：', '益', '者', '与', '？', '子', '曰', '：', '吾', '见', '其', '居', '于', '位', '也', '，', '见', '其', '与', '先', '生', '并', '行', '也', '。', '非', '求', '益', '者', '也', '，', '欲', '速', '成', '者', '也', '。', '卫', '灵', '公', '问', '陈', '于', '孔', '子', '，', '孔', '子', '对', '曰', '：', '俎', '豆', '之', '事', '，', '则', '尝', '闻', '之', '矣', '；', '军', '旅', '之', '事', '，', '未', '之', '学', '也', '。', '明', '日', '遂', '行', '。', '在', '陈', '绝', '粮', '，', '从', '者', '病', '莫', '能', '兴', '。', '子', '路', '愠', '见', '曰', '：', '君', '子', '亦', '有', '穷', '乎', '？', '子', '曰', '：', '君', '子', '固', '穷', '，', '小', '人', '穷', '斯', '滥', '矣', '。', '子', '曰', '：', '赐', '也', '，', '女', '以', '予', '为', '多', '学', '而', '识', '之', '者', '与', '？', '对', '曰', '：', '然', '，', '非', '与', '？', '曰', '：', '非', '也', '，', '予', '一', '以', '贯', '之', '。', '子', '曰', '：', '由', '，', '知', '德', '者', '鲜', '矣', '。', '子', '曰', '：', '无', '为', '而', '治', '者', '其', '舜', '也', '与', '！', '夫', '何', '为', '哉', '？', '恭', '己', '正', '南', '面', '而', '已', '矣', '。', '子', '张', '问', '行', '，', '子', '曰', '：', '言', '忠', '信', '，', '行', '笃', '敬', '，', '虽', '蛮', '貊', '之', '邦', '行', '矣', '；', '言', '不', '忠', '信', '，', '行', '不', '笃', '敬', '，', '虽', '州', '里', '行', '乎', '哉', '？', '立', '则', '见', '其', '参', '于', '前', '也', '；', '在', '舆', '则', '见', '其', '倚', '于', '衡', '也', '，', '夫', '然', '后', '行', '。', '子', '张', '书', '诸', '绅', '。', '子', '曰', '：', '直', '哉', '史', '鱼', '！', '邦', '有', '道', '如', '矢', '，', '邦', '无', '道', '如', '矢', '。', '君', '子', '哉', '蘧', '伯', '玉', '！', '邦', '有', '道', '则', '仕', '，', '邦', '无', '道', '则', '可', '卷', '而', '怀', '之', '。', '子', '曰', '：', '可', '与', '言', '而', '不', '与', '之', '言', '，', '失', '人', '；', '不', '可', '与', '言', '而', '与', '之', '言', '，', '失', '言', '。', '知', '者', '不', '失', '人', '亦', '不', '失', '言', '。', '子', '曰', '：', '志', '士', '仁', '人', '无', '求', '生', '以', '害', '仁', '，', '有', '杀', '身', '以', '成', '仁', '。', '子', '贡', '问', '为', '仁', '，', '子', '曰', '：', '工', '欲', '善', '其', '事', '，', '必', '先', '利', '其', '器', '。', '居', '是', '邦', '也', '，', '事', '其', '大', '夫', '之', '贤', '者', '，', '友', '其', '士', '之', '仁', '者', '。', '颜', '渊', '问', '为', '邦', '，', '子', '曰', '：', '行', '夏', '之', '时', '，', '乘', '殷', '之', '辂', '，', '服', '周', '之', '冕', '，', '乐', '则', '《', '韶', '》', '《', '舞', '》', '；', '放', '郑', '声', '，', '远', '佞', '人', '。', '郑', '声', '淫', '，', '佞', '人', '殆', '。', '子', '曰', '：', '人', '无', '远', '虑', '，', '必', '有', '近', '忧', '。', '子', '曰', '：', '已', '矣', '乎', '！', '吾', '未', '见', '好', '德', '如', '好', '色', '者', '也', '。', '子', '曰', '：', '臧', '文', '仲', '其', '窃', '位', '者', '与', '！', '知', '柳', '下', '惠', '之', '贤', '而', '不', '与', '立', '也', '。', '子', '曰', '：', '躬', '自', '厚', '而', '薄', '责', '于', '人', '，', '则', '远', '怨', '矣', '。', '子', '曰', '：', '不', '曰', '如', '之', '何', '、', '如', '之', '何', '者', '，', '吾', '末', '如', '之', '何', '也', '已', '矣', '。', '子', '曰', '：', '群', '居', '终', '日', '，', '言', '不', '及', '义', '，', '好', '行', '小', '慧', '，', '难', '矣', '哉', '！', '子', '曰', '：', '君', '子', '义', '以', '为', '质', '，', '礼', '以', '行', '之', '，', '孙', '以', '出', '之', '，', '信', '以', '成', '之', '。', '君', '子', '哉', '！', '子', '曰', '：', '君', '子', '病', '无', '能', '焉', '，', '不', '病', '人', '之', '不', '己', '知', '也', '。', '子', '曰', '：', '君', '子', '疾', '没', '世', '而', '名', '不', '称', '焉', '。', '子', '曰', '：', '君', '子', '求', '诸', '己', '，', '小', '人', '求', '诸', '人', '。', '子', '曰', '：', '君', '子', '矜', '而', '不', '争', '，', '群', '而', '不', '党', '。', '子', '曰', '：', '君', '子', '不', '以', '言', '举', '人', '，', '不', '以', '人', '废', '言', '。', '子', '贡', '问', '曰', '：', '有', '一', '言', '而', '可', '以', '终', '身', '行', '之', '者', '乎', '？', '子', '曰', '：', '其', '恕', '乎', '！', '己', '所', '不', '欲', '，', '勿', '施', '于', '人', '。', '子', '曰', '：', '吾', '之', '于', '人', '也', '，', '谁', '毁', '谁', '誉', '？', '如', '有', '所', '誉', '者', '，', '其', '有', '所', '试', '矣', '。', '斯', '民', '也', '，', '三', '代', '之', '所', '以', '直', '道', '而', '行', '也', '。', '子', '曰', '：', '吾', '犹', '及', '史', '之', '阙', '文', '也', '，', '有', '马', '者', '借', '人', '乘', '之', '，', '今', '亡', '矣', '夫', '！', '子', '曰', '：', '巧', '言', '乱', '德', '，', '小', '不', '忍', '，', '则', '乱', '大', '谋', '。', '子', '曰', '：', '众', '恶', '之', '，', '必', '察', '焉', '；', '众', '好', '之', '，', '必', '察', '焉', '。', '子', '曰', '：', '人', '能', '弘', '道', '，', '非', '道', '弘', '人', '。', '子', '曰', '：', '过', '而', '不', '改', '，', '是', '谓', '过', '矣', '。', '子', '曰', '：', '吾', '尝', '终', '日', '不', '食', '、', '终', '夜', '不', '寝', '以', '思', '，', '无', '益', '，', '不', '如', '学', '也', '。', '子', '曰', '：', '君', '子', '谋', '道', '不', '谋', '食', '。', '耕', '也', '馁', '在', '其', '中', '矣', '，', '学', '也', '禄', '在', '其', '中', '矣', '。', '君', '子', '忧', '道', '不', '忧', '贫', '。', '子', '曰', '：', '知', '及', '之', '，', '仁', '不', '能', '守', '之', '，', '虽', '得', '之', '，', '必', '失', '之', '；', '知', '及', '之', '，', '仁', '能', '守', '之', '，', '不', '庄', '以', '莅', '之', '，', '则', '民', '不', '敬', '；', '知', '及', '之', '，', '仁', '能', '守', '之', '，', '庄', '以', '莅', '之', '，', '动', '之', '不', '以', '礼', '，', '未', '善', '也', '。', '子', '曰', '：', '君', '子', '不', '可', '小', '知', '而', '可', '大', '受', '也', '，', '小', '人', '不', '可', '大', '受', '而', '可', '小', '知', '也', '。', '子', '曰', '：', '民', '之', '于', '仁', '也', '，', '甚', '于', '水', '火', '。', '水', '火', '，', '吾', '见', '蹈', '而', '死', '者', '矣', '，', '未', '见', '蹈', '仁', '而', '死', '者', '也', '。', '子', '曰', '：', '当', '仁', '不', '让', '于', '师', '。', '子', '曰', '：', '君', '子', '贞', '而', '不', '谅', '。', '子', '曰', '：', '事', '君', '，', '敬', '其', '事', '而', '后', '其', '食', '。', '子', '曰', '：', '有', '教', '无', '类', '。', '子', '曰', '：', '道', '不', '同', '，', '不', '相', '为', '谋', '。', '子', '曰', '：', '辞', '达', '而', '已', '矣', '。', '师', '冕', '见', '，', '及', '阶', '，', '子', '曰', '：', '阶', '也', '。', '及', '席', '，', '子', '曰', '：', '席', '也', '。', '皆', '坐', '，', '子', '告', '之', '曰', '：', '某', '在', '斯', '，', '某', '在', '斯', '。', '师', '冕', '出', '。', '子', '张', '问', '曰', '：', '与', '师', '言', '之', '道', '与', '？', '子', '曰', '：', '然', '，', '固', '相', '师', '之', '道', '也', '。', '季', '氏', '将', '伐', '颛', '臾', '，', '冉', '有', '、', '季', '路', '见', '于', '孔', '子', '，', '曰', '：', '季', '氏', '将', '有', '事', '于', '颛', '臾', '。', '孔', '子', '曰', '：', '求', '，', '无', '乃', '尔', '是', '过', '与', '？', '夫', '颛', '臾', '，', '昔', '者', '先', '王', '以', '为', '东', '蒙', '主', '，', '且', '在', '邦', '域', '之', '中', '矣', '，', '是', '社', '稷', '之', '臣', '也', '。', '何', '以', '伐', '为', '？', '冉', '有', '曰', '：', '夫', '子', '欲', '之', '，', '吾', '二', '臣', '者', '皆', '不', '欲', '也', '。', '孔', '子', '曰', '：', '求', '，', '周', '任', '有', '言', '曰', '：', '陈', '力', '就', '列', '，', '不', '能', '者', '止', '。', '危', '而', '不', '持', '，', '颠', '而', '不', '扶', '，', '则', '将', '焉', '用', '彼', '相', '矣', '？', '且', '尔', '言', '过', '矣', '，', '虎', '兕', '出', '于', '柙', '，', '龟', '玉', '毁', '于', '椟', '中', '，', '是', '谁', '之', '过', '与', '？', '冉', '有', '曰', '：', '今', '夫', '颛', '臾', '固', '而', '近', '于', '费', '，', '今', '不', '取', '，', '后', '世', '必', '为', '子', '孙', '忧', '。', '孔', '子', '曰', '：', '求', '，', '君', '子', '疾', '夫', '舍', '曰', '欲', '之', '而', '必', '为', '之', '辞', '。', '丘', '也', '闻', '，', '有', '国', '有', '家', '者', '，', '不', '患', '寡', '而', '患', '不', '均', '，', '不', '患', '贫', '而', '患', '不', '安', '。', '盖', '均', '无', '贫', '，', '和', '无', '寡', '，', '安', '无', '倾', '。', '夫', '如', '是', '，', '故', '远', '人', '不', '服', '则', '修', '文', '德', '以', '来', '之', '，', '既', '来', '之', '，', '则', '安', '之', '。', '今', '由', '与', '求', '也', '相', '夫', '子', '，', '远', '人', '不', '服', '而', '不', '能', '来', '也', '，', '邦', '分', '崩', '离', '析', '而', '不', '能', '守', '也', '，', '而', '谋', '动', '干', '戈', '于', '邦', '内', '。', '吾', '恐', '季', '孙', '之', '忧', '不', '在', '颛', '臾', '，', '而', '在', '萧', '墙', '之', '内', '也', '。', '孔', '子', '曰', '：', '天', '下', '有', '道', '，', '则', '礼', '乐', '征', '伐', '自', '天', '子', '出', '；', '天', '下', '无', '道', '，', '则', '礼', '乐', '征', '伐', '自', '诸', '侯', '出', '。', '自', '诸', '侯', '出', '，', '盖', '十', '世', '希', '不', '失', '矣', '；', '自', '大', '夫', '出', '，', '五', '世', '希', '不', '失', '矣', '；', '陪', '臣', '执', '国', '命', '，', '三', '世', '希', '不', '失', '矣', '。', '天', '下', '有', '道', '，', '则', '政', '不', '在', '大', '夫', '；', '天', '下', '有', '道', '，', '则', '庶', '人', '不', '议', '。', '孔', '子', '曰', '：', '禄', '之', '去', '公', '室', '五', '世', '矣', '，', '政', '逮', '于', '大', '夫', '四', '世', '矣', '，', '故', '夫', '三', '桓', '之', '子', '孙', '微', '矣', '。', '孔', '子', '曰', '：', '益', '者', '三', '友', '，', '损', '者', '三', '友', '。', '友', '直', '、', '友', '谅', '、', '友', '多', '闻', '，', '益', '矣', '；', '友', '便', '辟', '、', '友', '善', '柔', '、', '友', '便', '佞', '，', '损', '矣', '。', '孔', '子', '曰', '：', '益', '者', '三', '乐', '，', '损', '者', '三', '乐', '。', '乐', '节', '礼', '乐', '、', '乐', '道', '人', '之', '善', '、', '乐', '多', '贤', '友', '，', '益', '矣', '；', '乐', '骄', '乐', '、', '乐', '佚', '游', '、', '乐', '宴', '乐', '，', '损', '矣', '。', '孔', '子', '曰', '：', '侍', '于', '君', '子', '有', '三', '愆', '：', '言', '未', '及', '之', '而', '言', '谓', '之', '躁', '，', '言', '及', '之', '而', '不', '言', '谓', '之', '隐', '，', '未', '见', '颜', '色', '而', '言', '谓', '之', '瞽', '。', '孔', '子', '曰', '：', '君', '子', '有', '三', '戒', '：', '少', '之', '时', '，', '血', '气', '未', '定', '，', '戒', '之', '在', '色', '；', '及', '其', '壮', '也', '，', '血', '气', '方', '刚', '，', '戒', '之', '在', '斗', '；', '及', '其', '老', '也', '，', '血', '气', '既', '衰', '，', '戒', '之', '在', '得', '。', '孔', '子', '曰', '：', '君', '子', '有', '三', '畏', '：', '畏', '天', '命', '，', '畏', '大', '人', '，', '畏', '圣', '人', '之', '言', '。', '小', '人', '不', '知', '天', '命', '而', '不', '畏', '也', '，', '狎', '大', '人', '，', '侮', '圣', '人', '之', '言', '。', '孔', '子', '曰', '：', '生', '而', '知', '之', '者', '上', '也', '，', '学', '而', '知', '之', '者', '次', '也', '；', '困', '而', '学', '之', '又', '其', '次', '也', '。', '困', '而', '不', '学', '，', '民', '斯', '为', '下', '矣', '。', '孔', '子', '曰', '：', '君', '子', '有', '九', '思', '：', '视', '思', '明', '，', '听', '思', '聪', '，', '色', '思', '温', '，', '貌', '思', '恭', '，', '言', '思', '忠', '，', '事', '思', '敬', '，', '疑', '思', '问', '，', '忿', '思', '难', '，', '见', '得', '思', '义', '。', '孔', '子', '曰', '：', '见', '善', '如', '不', '及', '，', '见', '不', '善', '如', '探', '汤', '；', '吾', '见', '其', '人', '矣', '。', '吾', '闻', '其', '语', '矣', '。', '隐', '居', '以', '求', '其', '志', '，', '行', '义', '以', '达', '其', '道', '；', '吾', '闻', '其', '语', '矣', '，', '未', '见', '其', '人', '也', '。', '齐', '景', '公', '有', '马', '千', '驷', '，', '死', '之', '日', '，', '民', '无', '德', '而', '称', '焉', '；', '伯', '夷', '、', '叔', '齐', '饿', '于', '首', '阳', '之', '下', '，', '民', '到', '于', '今', '称', '之', '。', '其', '斯', '之', '谓', '与', '？', '陈', '亢', '问', '于', '伯', '鱼', '曰', '：', '子', '亦', '有', '异', '闻', '乎', '？', '对', '曰', '：', '未', '也', '。', '尝', '独', '立', '，', '鲤', '趋', '而', '过', '庭', '，', '曰', '：', '学', '《', '诗', '》', '乎', '？', '对', '曰', '：', '未', '也', '。', '不', '学', '《', '诗', '》', '，', '无', '以', '言', '。', '鲤', '退', '而', '学', '《', '诗', '》', '。', '他', '日', '，', '又', '独', '立', '，', '鲤', '趋', '而', '过', '庭', '，', '曰', '：', '学', '《', '礼', '》', '乎', '？', '对', '曰', '：', '未', '也', '。', '不', '学', '《', '礼', '》', '，', '无', '以', '立', '。', '鲤', '退', '而', '学', '《', '礼', '》', '。', '闻', '斯', '二', '者', '。', '陈', '亢', '退', '而', '喜', '曰', '：', '问', '一', '得', '三', '，', '闻', '《', '诗', '》', '，', '闻', '《', '礼', '》', '，', '又', '闻', '君', '子', '之', '远', '其', '子', '也', '。', '邦', '君', '之', '妻', '，', '君', '称', '之', '曰', '夫', '人', '，', '夫', '人', '自', '称', '曰', '小', '童', '；', '邦', '人', '称', '之', '曰', '君', '夫', '人', '，', '称', '诸', '异', '邦', '曰', '寡', '小', '君', '；', '异', '邦', '人', '称', '之', '亦', '曰', '君', '夫', '人', '。', '阳', '货', '欲', '见', '孔', '子', '，', '孔', '子', '不', '见', '，', '归', '孔', '子', '豚', '。', '孔', '子', '时', '其', '亡', '也', '而', '往', '拜', '之', '，', '遇', '诸', '涂', '。', '谓', '孔', '子', '曰', '：', '来', '，', '予', '与', '尔', '言', '。', '曰', '：', '怀', '其', '宝', '而', '迷', '其', '邦', '，', '可', '谓', '仁', '乎', '？', '曰', '：', '不', '可', '。', '好', '从', '事', '而', '亟', '失', '时', '，', '可', '谓', '知', '乎', '？', '曰', '：', '不', '可', '！', '日', '月', '逝', '矣', '，', '岁', '不', '我', '与', '！', '孔', '子', '曰', '：', '诺', '，', '吾', '将', '仕', '矣', '。', '子', '曰', '：', '性', '相', '近', '也', '，', '习', '相', '远', '也', '。', '子', '曰', '：', '唯', '上', '知', '与', '下', '愚', '不', '移', '。', '子', '之', '武', '城', '，', '闻', '弦', '歌', '之', '声', '。', '夫', '子', '莞', '尔', '而', '笑', '，', '曰', '：', '割', '鸡', '焉', '用', '牛', '刀', '？', '子', '游', '对', '曰', '：', '昔', '者', '偃', '也', '闻', '诸', '夫', '子', '曰', '：', '君', '子', '学', '道', '则', '爱', '人', '，', '小', '人', '学', '道', '则', '易', '使', '也', '。', '子', '曰', '：', '二', '三', '子', '，', '偃', '之', '言', '是', '也', '！', '前', '言', '戏', '之', '耳', '。', '公', '山', '弗', '扰', '以', '费', '畔', '，', '召', '，', '子', '欲', '往', '。', '子', '路', '不', '说', '，', '曰', '：', '末', '之', '也', '已', '，', '何', '必', '公', '山', '氏', '之', '之', '也', '？', '子', '曰', '：', '夫', '召', '我', '者', '而', '岂', '徒', '哉', '？', '如', '有', '用', '我', '者', '，', '吾', '其', '为', '东', '周', '乎', '！', '子', '张', '问', '仁', '于', '孔', '子', '，', '孔', '子', '曰', '：', '能', '行', '五', '者', '于', '天', '下', '为', '仁', '矣', '。', '请', '问', '之', '，', '曰', '：', '恭', '、', '宽', '、', '信', '、', '敏', '、', '惠', '。', '恭', '则', '不', '侮', '，', '宽', '则', '得', '众', '，', '信', '则', '人', '任', '焉', '，', '敏', '则', '有', '功', '，', '惠', '则', '足', '以', '使', '人', '。', '佛', '肸', '召', '，', '子', '欲', '往', '。', '子', '路', '曰', '：', '昔', '者', '由', '也', '闻', '诸', '夫', '子', '曰', '：', '亲', '于', '其', '身', '为', '不', '善', '者', '，', '君', '子', '不', '入', '也', '。', '佛', '肸', '以', '中', '牟', '畔', '，', '子', '之', '往', '也', '，', '如', '之', '何', '？', '子', '曰', '：', '然', '，', '有', '是', '言', '也', '。', '不', '曰', '坚', '乎', '，', '磨', '而', '不', '磷', '；', '不', '曰', '白', '乎', '，', '涅', '而', '不', '缁', '。', '吾', '岂', '匏', '瓜', '也', '哉', '？', '焉', '能', '系', '而', '不', '食', '？', '子', '曰', '：', '由', '也', '，', '女', '闻', '六', '言', '六', '蔽', '矣', '乎', '？', '对', '曰', '：', '未', '也', '。', '居', '！', '吾', '语', '女', '。', '好', '仁', '不', '好', '学', '，', '其', '蔽', '也', '愚', '；', '好', '知', '不', '好', '学', '，', '其', '蔽', '也', '荡', '；', '好', '信', '不', '好', '学', '，', '其', '蔽', '也', '贼', '；', '好', '直', '不', '好', '学', '，', '其', '蔽', '也', '绞', '；', '好', '勇', '不', '好', '学', '，', '其', '蔽', '也', '乱', '；', '好', '刚', '不', '好', '学', '，', '其', '蔽', '也', '狂', '。', '子', '曰', '：', '小', '子', '何', '莫', '学', '夫', '《', '诗', '》', '？', '《', '诗', '》', '可', '以', '兴', '，', '可', '以', '观', '，', '可', '以', '群', '，', '可', '以', '怨', '。', '迩', '之', '事', '父', '，', '远', '之', '事', '君', '，', '多', '识', '于', '鸟', '兽', '草', '木', '之', '名', '。', '子', '谓', '伯', '鱼', '曰', '：', '女', '为', '《', '周', '南', '》', '、', '《', '召', '南', '》', '矣', '乎', '？', '人', '而', '不', '为', '《', '周', '南', '》', '、', '《', '召', '南', '》', '，', '其', '犹', '正', '墙', '面', '而', '立', '也', '与', '！', '子', '曰', '：', '礼', '云', '礼', '云', '，', '玉', '帛', '云', '乎', '哉', '？', '乐', '云', '乐', '云', '，', '钟', '鼓', '云', '乎', '哉', '？', '子', '曰', '：', '色', '厉', '而', '内', '荏', '，', '譬', '诸', '小', '人', '，', '其', '犹', '穿', '窬', '之', '盗', '也', '与', '？', '子', '曰', '：', '乡', '愿', '，', '德', '之', '贼', '也', '。', '子', '曰', '：', '道', '听', '而', '涂', '说', '，', '德', '之', '弃', '也', '。', '子', '曰', '：', '鄙', '夫', '可', '与', '事', '君', '也', '与', '哉', '？', '其', '未', '得', '之', '也', '，', '患', '得', '之', '；', '既', '得', '之', '，', '患', '失', '之', '。', '苟', '患', '失', '之', '，', '无', '所', '不', '至', '矣', '。', '子', '曰', '：', '古', '者', '民', '有', '三', '疾', '，', '今', '也', '或', '是', '之', '亡', '也', '。', '古', '之', '狂', '也', '肆', '，', '今', '之', '狂', '也', '荡', '；', '古', '之', '矜', '也', '廉', '，', '今', '之', '矜', '也', '忿', '戾', '；', '古', '之', '愚', '也', '直', '，', '今', '之', '愚', '也', '诈', '而', '已', '矣', '。', '子', '曰', '：', '巧', '言', '令', '色', '，', '鲜', '矣', '仁', '。', '子', '曰', '：', '恶', '紫', '之', '夺', '朱', '也', '，', '恶', '郑', '声', '之', '乱', '雅', '乐', '也', '，', '恶', '利', '口', '之', '覆', '邦', '家', '者', '。', '子', '曰', '：', '予', '欲', '无', '言', '。', '子', '贡', '曰', '：', '子', '如', '不', '言', '，', '则', '小', '子', '何', '述', '焉', '？', '子', '曰', '：', '天', '何', '言', '哉', '？', '四', '时', '行', '焉', '，', '百', '物', '生', '焉', '，', '天', '何', '言', '哉', '？', '孺', '悲', '欲', '见', '孔', '子', '，', '孔', '子', '辞', '以', '疾', '。', '将', '命', '者', '出', '户', '，', '取', '瑟', '而', '歌', '，', '使', '之', '闻', '之', '。', '宰', '我', '问', '：', '三', '年', '之', '丧', '，', '期', '已', '久', '矣', '！', '君', '子', '三', '年', '不', '为', '礼', '，', '礼', '必', '坏', '；', '三', '年', '不', '为', '乐', '，', '乐', '必', '崩', '。', '旧', '谷', '既', '没', '，', '新', '谷', '既', '升', '，', '钻', '燧', '改', '火', '，', '期', '可', '已', '矣', '。', '子', '曰', '：', '食', '夫', '稻', '，', '衣', '夫', '锦', '，', '于', '女', '安', '乎', '？', '曰', '：', '安', '！', '女', '安', '则', '为', '之', '！', '夫', '君', '子', '之', '居', '丧', '，', '食', '旨', '不', '甘', '，', '闻', '乐', '不', '乐', '，', '居', '处', '不', '安', '，', '故', '不', '为', '也', '。', '今', '女', '安', '，', '则', '为', '之', '！', '宰', '我', '出', '，', '子', '曰', '：', '予', '之', '不', '仁', '也', '！', '子', '生', '三', '年', '，', '然', '后', '免', '于', '父', '母', '之', '怀', '。', '夫', '三', '年', '之', '丧', '，', '天', '下', '之', '通', '丧', '也', '，', '予', '也', '有', '三', '年', '之', '爱', '于', '其', '父', '母', '乎', '！', '子', '曰', '：', '饱', '食', '终', '日', '，', '无', '所', '用', '心', '，', '难', '矣', '哉', '！', '不', '有', '博', '弈', '者', '乎', '？', '为', '之', '犹', '贤', '乎', '已', '。', '子', '路', '曰', '：', '君', '子', '尚', '勇', '乎', '？', '子', '曰', '：', '君', '子', '义', '以', '为', '上', '。', '君', '子', '有', '勇', '而', '无', '义', '为', '乱', '，', '小', '人', '有', '勇', '而', '无', '义', '为', '盗', '。', '子', '贡', '曰', '：', '君', '子', '亦', '有', '恶', '乎', '？', '子', '曰', '：', '有', '恶', '。', '恶', '称', '人', '之', '恶', '者', '，', '恶', '居', '下', '流', '而', '讪', '上', '者', '，', '恶', '勇', '而', '无', '礼', '者', '，', '恶', '果', '敢', '而', '窒', '者', '。', '曰', '：', '赐', '也', '亦', '有', '恶', '乎', '？', '恶', '徼', '以', '为', '知', '者', '，', '恶', '不', '孙', '以', '为', '勇', '者', '，', '恶', '讦', '以', '为', '直', '者', '。', '子', '曰', '：', '唯', '女', '子', '与', '小', '人', '为', '难', '养', '也', '，', '近', '之', '则', '不', '逊', '，', '远', '之', '则', '怨', '。', '子', '曰', '：', '年', '四', '十', '而', '见', '恶', '焉', '，', '其', '终', '也', '已', '。', '微', '子', '去', '之', '，', '箕', '子', '为', '之', '奴', '，', '比', '干', '谏', '而', '死', '。', '孔', '子', '曰', '：', '殷', '有', '三', '仁', '焉', '。', '柳', '下', '惠', '为', '士', '师', '，', '三', '黜', '。', '人', '曰', '：', '子', '未', '可', '以', '去', '乎', '？', '曰', '：', '直', '道', '而', '事', '人', '，', '焉', '往', '而', '不', '三', '黜', '？', '枉', '道', '而', '事', '人', '，', '何', '必', '去', '父', '母', '之', '邦', '？', '齐', '景', '公', '待', '孔', '子', '曰', '：', '若', '季', '氏', '，', '则', '吾', '不', '能', '。', '以', '季', '、', '孟', '之', '间', '待', '之', '，', '曰', '：', '吾', '老', '矣', '，', '不', '能', '用', '也', '。', '孔', '子', '行', '。', '齐', '人', '归', '女', '乐', '，', '季', '桓', '子', '受', '之', '，', '三', '日', '不', '朝', '，', '孔', '子', '行', '。', '楚', '狂', '接', '舆', '歌', '而', '过', '孔', '子', '曰', '：', '凤', '兮', '凤', '兮', '，', '何', '德', '之', '衰', '？', '往', '者', '不', '可', '谏', '，', '来', '者', '犹', '可', '追', '。', '已', '而', '已', '而', '，', '今', '之', '从', '政', '者', '殆', '而', '！', '孔', '子', '下', '，', '欲', '与', '之', '言', '，', '趋', '而', '辟', '之', '，', '不', '得', '与', '之', '言', '。', '长', '沮', '、', '桀', '溺', '耦', '而', '耕', '，', '孔', '子', '过', '之', '，', '使', '子', '路', '问', '津', '焉', '。', '长', '沮', '曰', '：', '夫', '执', '舆', '者', '为', '谁', '？', '子', '路', '曰', '：', '为', '孔', '丘', '。', '曰', '：', '是', '鲁', '孔', '丘', '与', '？', '曰', '：', '是', '也', '。', '曰', '：', '是', '知', '津', '矣', '。', '问', '于', '桀', '溺', '，', '桀', '溺', '曰', '：', '子', '为', '谁', '？', '曰', '：', '为', '仲', '由', '。', '曰', '：', '是', '鲁', '孔', '丘', '之', '徒', '与', '？', '对', '曰', '：', '然', '。', '曰', '：', '滔', '滔', '者', '天', '下', '皆', '是', '也', '，', '而', '谁', '以', '易', '之', '？', '且', '而', '与', '其', '从', '辟', '人', '之', '士', '也', '，', '岂', '若', '从', '辟', '世', '之', '士', '？', '耰', '而', '不', '辍', '。', '子', '路', '行', '以', '告', '，', '夫', '子', '怃', '然', '曰', '：', '鸟', '兽', '不', '可', '与', '同', '群', '，', '吾', '非', '斯', '人', '之', '徒', '与', '而', '谁', '与', '？', '天', '下', '有', '道', '，', '丘', '不', '与', '易', '也', '。', '子', '路', '从', '而', '后', '，', '遇', '丈', '人', '，', '以', '杖', '荷', '蓧', '。', '子', '路', '问', '曰', '：', '子', '见', '夫', '子', '乎', '？', '丈', '人', '曰', '：', '四', '体', '不', '勤', '，', '五', '谷', '不', '分', '，', '孰', '为', '夫', '子', '？', '植', '其', '杖', '而', '芸', '，', '子', '路', '拱', '而', '立', '。', '止', '子', '路', '宿', '，', '杀', '鸡', '为', '黍', '而', '食', '之', '，', '见', '其', '二', '子', '焉', '。', '明', '日', '，', '子', '路', '行', '以', '告', '，', '子', '曰', '：', '隐', '者', '也', '。', '使', '子', '路', '反', '见', '之', '，', '至', '则', '行', '矣', '。', '子', '路', '曰', '：', '不', '仕', '无', '义', '。', '长', '幼', '之', '节', '不', '可', '废', '也', '，', '君', '臣', '之', '义', '如', '之', '何', '其', '废', '之', '？', '欲', '洁', '其', '身', '而', '乱', '大', '伦', '。', '君', '子', '之', '仕', '也', '，', '行', '其', '义', '也', '，', '道', '之', '不', '行', '已', '知', '之', '矣', '。', '逸', '民', '：', '伯', '夷', '、', '叔', '齐', '、', '虞', '仲', '、', '夷', '逸', '、', '朱', '张', '、', '柳', '下', '惠', '、', '少', '连', '。', '子', '曰', '：', '不', '降', '其', '志', '，', '不', '辱', '其', '身', '，', '伯', '夷', '、', '叔', '齐', '与', '！', '谓', '：', '柳', '下', '惠', '、', '少', '连', '降', '志', '辱', '身', '矣', '，', '言', '中', '伦', '，', '行', '中', '虑', '，', '其', '斯', '而', '已', '矣', '。', '谓', '：', '虞', '仲', '、', '夷', '逸', '隐', '居', '放', '言', '，', '身', '中', '清', '，', '废', '中', '权', '。', '我', '则', '异', '于', '是', '，', '无', '可', '无', '不', '可', '。', '太', '师', '挚', '适', '齐', '，', '亚', '饭', '干', '适', '楚', '，', '三', '饭', '缭', '适', '蔡', '，', '四', '饭', '缺', '适', '秦', '，', '鼓', '方', '叔', '入', '于', '河', '，', '播', '鼗', '武', '入', '于', '汉', '，', '少', '师', '阳', '、', '击', '磬', '襄', '入', '于', '海', '。', '周', '公', '谓', '鲁', '公', '曰', '：', '君', '子', '不', '施', '其', '亲', '，', '不', '使', '大', '臣', '怨', '乎', '不', '以', '，', '故', '旧', '无', '大', '故', '则', '不', '弃', '也', '，', '无', '求', '备', '于', '一', '人', '。', '周', '有', '八', '士', '：', '伯', '达', '、', '伯', '适', '、', '仲', '突', '、', '仲', '忽', '、', '叔', '夜', '、', '叔', '夏', '、', '季', '随', '、', '季', '騧', '。', '子', '张', '曰', '：', '士', '见', '危', '致', '命', '，', '见', '得', '思', '义', '，', '祭', '思', '敬', '，', '丧', '思', '哀', '，', '其', '可', '已', '矣', '。', '子', '张', '曰', '：', '执', '德', '不', '弘', '，', '信', '道', '不', '笃', '，', '焉', '能', '为', '有', '？', '焉', '能', '为', '亡', '？', '子', '夏', '之', '门', '人', '问', '交', '于', '子', '张', '，', '子', '张', '曰', '：', '子', '夏', '云', '何', '？', '对', '曰', '：', '子', '夏', '曰', '：', '可', '者', '与', '之', '，', '其', '不', '可', '者', '拒', '之', '。', '子', '张', '曰', '：', '异', '乎', '吾', '所', '闻', '。', '君', '子', '尊', '贤', '而', '容', '众', '，', '嘉', '善', '而', '矜', '不', '能', '。', '我', '之', '大', '贤', '与', '，', '于', '人', '何', '所', '不', '容', '？', '我', '之', '不', '贤', '与', '，', '人', '将', '拒', '我', '，', '如', '之', '何', '其', '拒', '人', '也', '？', '子', '夏', '曰', '：', '虽', '小', '道', '必', '有', '可', '观', '者', '焉', '，', '致', '远', '恐', '泥', '，', '是', '以', '君', '子', '不', '为', '也', '。', '子', '夏', '曰', '：', '日', '知', '其', '所', '亡', '，', '月', '无', '忘', '其', '所', '能', '，', '可', '谓', '好', '学', '也', '已', '矣', '。', '子', '夏', '曰', '：', '博', '学', '而', '笃', '志', '，', '切', '问', '而', '近', '思', '，', '仁', '在', '其', '中', '矣', '。', '子', '夏', '曰', '：', '百', '工', '居', '肆', '以', '成', '其', '事', '，', '君', '子', '学', '以', '致', '其', '道', '。', '子', '夏', '曰', '：', '小', '人', '之', '过', '也', '必', '文', '。', '子', '夏', '曰', '：', '君', '子', '有', '三', '变', '：', '望', '之', '俨', '然', '，', '即', '之', '也', '温', '，', '听', '其', '言', '也', '厉', '。', '子', '夏', '曰', '：', '君', '子', '信', '而', '后', '劳', '其', '民', '，', '未', '信', '，', '则', '以', '为', '厉', '己', '也', '；', '信', '而', '后', '谏', '，', '未', '信', '，', '则', '以', '为', '谤', '己', '也', '。', '子', '夏', '曰', '：', '大', '德', '不', '逾', '闲', '，', '小', '德', '出', '入', '可', '也', '。', '子', '游', '曰', '：', '子', '夏', '之', '门', '人', '小', '子', '，', '当', '洒', '扫', '应', '对', '进', '退', '则', '可', '矣', '。', '抑', '末', '也', '，', '本', '之', '则', '无', '，', '如', '之', '何', '？', '子', '夏', '闻', '之', '，', '曰', '：', '噫', '，', '言', '游', '过', '矣', '！', '君', '子', '之', '道', '，', '孰', '先', '传', '焉', '？', '孰', '后', '倦', '焉', '？', '譬', '诸', '草', '木', '，', '区', '以', '别', '矣', '。', '君', '子', '之', '道', '焉', '可', '诬', '也', '？', '有', '始', '有', '卒', '者', '，', '其', '惟', '圣', '人', '乎', '！', '子', '夏', '曰', '：', '仕', '而', '优', '则', '学', '，', '学', '而', '优', '则', '仕', '。', '子', '游', '曰', '：', '丧', '致', '乎', '哀', '而', '止', '。', '子', '游', '曰', '：', '吾', '友', '张', '也', '为', '难', '能', '也', '，', '然', '而', '未', '仁', '。', '曾', '子', '曰', '：', '堂', '堂', '乎', '张', '也', '，', '难', '与', '并', '为', '仁', '矣', '。', '曾', '子', '曰', '：', '吾', '闻', '诸', '夫', '子', '，', '人', '未', '有', '自', '致', '者', '也', '，', '必', '也', '亲', '丧', '乎', '！', '曾', '子', '曰', '：', '吾', '闻', '诸', '夫', '子', '，', '孟', '庄', '子', '之', '孝', '也', '，', '其', '他', '可', '能', '也', '；', '其', '不', '改', '父', '之', '臣', '与', '父', '之', '政', '，', '是', '难', '能', '也', '。', '孟', '氏', '使', '阳', '肤', '为', '士', '师', '，', '问', '于', '曾', '子', '。', '曾', '子', '曰', '：', '上', '失', '其', '道', '，', '民', '散', '久', '矣', '。', '如', '得', '其', '情', '，', '则', '哀', '矜', '而', '勿', '喜', '！', '子', '贡', '曰', '：', '纣', '之', '不', '善', '，', '不', '如', '是', '之', '甚', '也', '。', '是', '以', '君', '子', '恶', '居', '下', '流', '，', '天', '下', '之', '恶', '皆', '归', '焉', '。', '子', '贡', '曰', '：', '君', '子', '之', '过', '也', '，', '如', '日', '月', '之', '食', '焉', '。', '过', '也', '，', '人', '皆', '见', '之', '；', '更', '也', '，', '人', '皆', '仰', '之', '。', '卫', '公', '孙', '朝', '问', '于', '子', '贡', '曰', '：', '仲', '尼', '焉', '学', '？', '子', '贡', '曰', '：', '文', '武', '之', '道', '未', '坠', '于', '地', '，', '在', '人', '。', '贤', '者', '识', '其', '大', '者', '，', '不', '贤', '者', '识', '其', '小', '者', '，', '莫', '不', '有', '文', '武', '之', '道', '焉', '，', '夫', '子', '焉', '不', '学', '？', '而', '亦', '何', '常', '师', '之', '有', '？', '叔', '孙', '武', '叔', '语', '大', '夫', '于', '朝', '曰', '：', '子', '贡', '贤', '于', '仲', '尼', '。', '子', '服', '景', '伯', '以', '告', '子', '贡', '，', '子', '贡', '曰', '：', '譬', '之', '宫', '墙', '，', '赐', '之', '墙', '也', '及', '肩', '，', '窥', '见', '室', '家', '之', '好', '；', '夫', '子', '之', '墙', '数', '仞', '，', '不', '得', '其', '门', '而', '入', '，', '不', '见', '宗', '庙', '之', '美', '、', '百', '官', '之', '富', '。', '得', '其', '门', '者', '或', '寡', '矣', '，', '夫', '子', '之', '云', '不', '亦', '宜', '乎', '！', '叔', '孙', '武', '叔', '毁', '仲', '尼', '，', '子', '贡', '曰', '：', '无', '以', '为', '也', '，', '仲', '尼', '不', '可', '毁', '也', '。', '他', '人', '之', '贤', '者', '，', '丘', '陵', '也', '，', '犹', '可', '逾', '也', '；', '仲', '尼', '，', '日', '月', '也', '，', '无', '得', '而', '逾', '焉', '。', '人', '虽', '欲', '自', '绝', '，', '其', '何', '伤', '于', '日', '月', '乎', '？', '多', '见', '其', '不', '知', '量', '也', '。', '陈', '子', '禽', '谓', '子', '贡', '曰', '：', '子', '为', '恭', '也', '，', '仲', '尼', '岂', '贤', '于', '子', '乎', '？', '子', '贡', '曰', '：', '君', '子', '一', '言', '以', '为', '知', '，', '一', '言', '以', '为', '不', '知', '，', '言', '不', '可', '不', '慎', '也', '。', '夫', '子', '之', '不', '可', '及', '也', '，', '犹', '天', '之', '不', '可', '阶', '而', '升', '也', '。', '夫', '子', '之', '得', '邦', '家', '者', '，', '所', '谓', '立', '之', '斯', '立', '，', '道', '之', '斯', '行', '，', '绥', '之', '斯', '来', '，', '动', '之', '斯', '和', '。', '其', '生', '也', '荣', '，', '其', '死', '也', '哀', '，', '如', '之', '何', '其', '可', '及', '也', '？', '尧', '曰', '：', '咨', '！', '尔', '舜', '，', '天', '之', '历', '数', '在', '尔', '躬', '，', '允', '执', '其', '中', '。', '四', '海', '困', '穷', '，', '天', '禄', '永', '终', '。', '舜', '亦', '以', '命', '禹', '。', '曰', '：', '予', '小', '子', '履', '，', '敢', '用', '玄', '牡', '，', '敢', '昭', '告', '于', '皇', '皇', '后', '帝', '：', '有', '罪', '不', '敢', '赦', '，', '帝', '臣', '不', '蔽', '，', '简', '在', '帝', '心', '。', '朕', '躬', '有', '罪', '，', '无', '以', '万', '方', '；', '万', '方', '有', '罪', '，', '罪', '在', '朕', '躬', '。', '周', '有', '大', '赉', '，', '善', '人', '是', '富', '。', '虽', '有', '周', '亲', '，', '不', '如', '仁', '人', '。', '百', '姓', '有', '过', '，', '在', '予', '一', '人', '。', '谨', '权', '量', '，', '审', '法', '度', '，', '修', '废', '官', '，', '四', '方', '之', '政', '行', '焉', '。', '兴', '灭', '国', '，', '继', '绝', '世', '，', '举', '逸', '民', '，', '天', '下', '之', '民', '归', '心', '焉', '。', '所', '重', '：', '民', '、', '食', '、', '丧', '、', '祭', '。', '宽', '则', '得', '众', '，', '信', '则', '民', '任', '焉', '，', '敏', '则', '有', '功', '，', '公', '则', '说', '。', '子', '张', '问', '于', '孔', '子', '曰', '：', '何', '如', '斯', '可', '以', '从', '政', '矣', '？', '子', '曰', '：', '尊', '五', '美', '，', '屏', '四', '恶', '，', '斯', '可', '以', '从', '政', '矣', '。', '子', '张', '曰', '：', '何', '谓', '五', '美', '？', '子', '曰', '：', '君', '子', '惠', '而', '不', '费', '，', '劳', '而', '不', '怨', '，', '欲', '而', '不', '贪', '，', '泰', '而', '不', '骄', '，', '威', '而', '不', '猛', '。', '子', '张', '曰', '：', '何', '谓', '惠', '而', '不', '费', '？', '子', '曰', '：', '因', '民', '之', '所', '利', '而', '利', '之', '，', '斯', '不', '亦', '惠', '而', '不', '费', '乎', '？', '择', '可', '劳', '而', '劳', '之', '，', '又', '谁', '怨', '？', '欲', '仁', '而', '得', '仁', '，', '又', '焉', '贪', '？', '君', '子', '无', '众', '寡', '，', '无', '小', '大', '，', '无', '敢', '慢', '，', '斯', '不', '亦', '泰', '而', '不', '骄', '乎', '？', '君', '子', '正', '其', '衣', '冠', '，', '尊', '其', '瞻', '视', '，', '俨', '然', '人', '望', '而', '畏', '之', '，', '斯', '不', '亦', '威', '而', '不', '猛', '乎', '？', '子', '张', '曰', '：', '何', '谓', '四', '恶', '？', '子', '曰', '：', '不', '教', '而', '杀', '谓', '之', '虐', '；', '不', '戒', '视', '成', '谓', '之', '暴', '；', '慢', '令', '致', '期', '谓', '之', '贼', '；', '犹', '之', '与', '人', '也', '，', '出', '纳', '之', '吝', '谓', '之', '有', '司', '。', '孔', '子', '曰', '：', '不', '知', '命', '，', '无', '以', '为', '君', '子', '也', '；', '不', '知', '礼', '，', '无', '以', '立', '也', '；', '不', '知', '言', '，', '无', '以', '知', '人', '也', '。']\n"
     ]
    }
   ],
   "source": [
    "\n",
    "emb_size=50\n",
    "k=5\n",
    "window_size=1\n",
    "a2_corpus = CorpusReader(inputFileName=\"lunyu_20chapters.txt\", min_count=1)\n",
    "with open('lunyu_20chapters.txt', 'r', encoding='utf-8') as file:\n",
    "    a2_raw_data = file.read()\n",
    "a2_raw_data=a2_raw_data.replace('\\n','')\n",
    "print(list(a2_raw_data))\n",
    "data = list(a2_generate_data(list(a2_raw_data), window_size, k, corpus=a2_corpus))\n",
    "# print(data)\n",
    "dataloader = a2_batchify(data,batch_size)"
   ]
  },
  {
   "cell_type": "code",
   "execution_count": 33,
   "metadata": {},
   "outputs": [
    {
     "name": "stdout",
     "output_type": "stream",
     "text": [
      "perplexity of pretrained embeddings:\n",
      "64.01287841796875\n",
      "perplexity of randomly initialized embeddings:\n",
      "63.99871826171875\n"
     ]
    }
   ],
   "source": [
    "def calculate_perplexity(model, dataloader, device):\n",
    "    model.eval()  \n",
    "    total_loss = 0.0\n",
    "    total_words = 0\n",
    "    count=0\n",
    "    with torch.no_grad():  \n",
    "        for center, outside, negative in dataloader:\n",
    "            center, outside, negative = center.to(device), outside.to(device), negative.to(device)\n",
    "            \n",
    "            loss = model(center, outside, negative)\n",
    "            \n",
    "            total_loss += loss.sum().item() \n",
    "            count+=1\n",
    "            # if count%300==0:\n",
    "            #     print(\"total_loss:\",total_loss)\n",
    "            total_words += center.size(0)  \n",
    "            \n",
    "    average_loss = total_loss / total_words  \n",
    "    perplexity = torch.exp(torch.tensor(average_loss, device=device)) \n",
    "    \n",
    "    return perplexity.item()\n",
    "\n",
    "\n",
    "def load_embeddings(file_name):\n",
    "    with open(file_name, 'r') as f:\n",
    "        vocab_size, emb_size = map(int, f.readline().split())\n",
    "        embeddings_matrix = np.zeros((vocab_size, emb_size), dtype=np.float32)\n",
    "        word_to_idx = {}\n",
    "        for idx, line in enumerate(f):\n",
    "            parts = line.strip().split()\n",
    "            word = parts[0]\n",
    "            vec = np.array(parts[1:], dtype=np.float32)\n",
    "            embeddings_matrix[idx, :] = vec\n",
    "            word_to_idx[word] = idx\n",
    "    return embeddings_matrix, vocab_size, emb_size\n",
    "\n",
    "device = torch.device('cpu')\n",
    "\n",
    "import torch\n",
    "import time\n",
    "\n",
    "def generate_random_embeddings(vocab_size, emb_size):\n",
    "    torch.manual_seed(int(time.time())) \n",
    "    embeddings = torch.empty(vocab_size, emb_size)\n",
    "    embeddings.uniform_(-1.0 / emb_size, 1.0 / emb_size)\n",
    "    return embeddings\n",
    "\n",
    "skipgram_embeddings, vocab_size, emb_size = load_embeddings(f'embeddings_{emb_size}_{k}_{window_size}.txt')\n",
    "min_val, max_val = skipgram_embeddings.min(), skipgram_embeddings.max()\n",
    "embeddings_norm = (skipgram_embeddings - min_val) / (max_val - min_val)\n",
    "target_min, target_max = -1.0 / emb_size, 1.0 / emb_size\n",
    "embeddings_scaled = (embeddings_norm * (target_max - target_min)) + target_min\n",
    "skipgram_model = SkipGram(vocab_size, emb_size, a2_corpus.word2id).to(device)\n",
    "skipgram_embeddings_tensor = torch.tensor(embeddings_scaled, dtype=torch.float)\n",
    "skipgram_model.emb_v.weight.data.copy_(skipgram_embeddings_tensor)\n",
    "skipgram_model.emb_u.weight.data.copy_(skipgram_embeddings_tensor)\n",
    "\n",
    "print(\"perplexity of pretrained embeddings:\")\n",
    "print(calculate_perplexity(skipgram_model,dataloader,device))\n",
    "\n",
    "random_embeddings = generate_random_embeddings(vocab_size, emb_size)\n",
    "random_model = SkipGram(vocab_size, 50, a2_corpus.word2id).to(device)\n",
    "random_embeddings_tensor = random_embeddings.clone().detach()\n",
    "random_model.emb_v.weight.data.copy_(random_embeddings_tensor)\n",
    "random_model.emb_u.weight.data.copy_(random_embeddings_tensor)\n",
    "\n",
    "print(\"perplexity of randomly initialized embeddings:\")\n",
    "print(calculate_perplexity(random_model,dataloader,device))"
   ]
  }
 ],
 "metadata": {
  "kernelspec": {
   "display_name": "python3.9",
   "language": "python",
   "name": "python3"
  },
  "language_info": {
   "codemirror_mode": {
    "name": "ipython",
    "version": 3
   },
   "file_extension": ".py",
   "mimetype": "text/x-python",
   "name": "python",
   "nbconvert_exporter": "python",
   "pygments_lexer": "ipython3",
   "version": "3.11.8"
  }
 },
 "nbformat": 4,
 "nbformat_minor": 2
}
