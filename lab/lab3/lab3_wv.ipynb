{
 "cells": [
  {
   "cell_type": "markdown",
   "metadata": {},
   "source": [
    "# CS310 Natural Language Processing\n",
    "# Lab 3: Word Vectors\n",
    "\n",
    "Install `scikit-learn`, `matplotlib`, and `gensim` first\n",
    "\n",
    "```bash\n",
    "pip install -U scikit-learn matplotlib gensim\n",
    "```"
   ]
  },
  {
   "cell_type": "code",
   "execution_count": 57,
   "metadata": {},
   "outputs": [],
   "source": [
    "import itertools\n",
    "from typing import List\n",
    "from collections import Counter\n",
    "\n",
    "import matplotlib.pyplot as plt\n",
    "import numpy as np\n",
    "from sklearn.decomposition import TruncatedSVD"
   ]
  },
  {
   "cell_type": "markdown",
   "metadata": {},
   "source": [
    "## T1. Latent Semantic Analysis (LSA) - A word-document based approach\n",
    "\n",
    "We are working on the first ten chapters of 《论语》 (The Analects of Confucius) in this lab. The text is in Chinese (with punctuations).\n",
    "\n",
    "First, load the corpus data from the folder `lunyu` into a list of documents. We read all lines from the ten TXT files and combine them into a list of strings, `documents`. Each line of text is considered as a *document*.\n",
    "\n",
    "The file names are in the format of `text_ch1.txt`, `text_ch2.txt`, ..., `text_ch10.txt`."
   ]
  },
  {
   "cell_type": "code",
   "execution_count": 58,
   "metadata": {},
   "outputs": [
    {
     "name": "stdout",
     "output_type": "stream",
     "text": [
      "267\n",
      "['子曰： 学而时习之，不亦说乎？有朋自远方来，不亦乐乎？人不知而不愠，不亦君子乎？', '有子曰： 其为人也孝弟，而好犯上者，鲜矣；不好犯上而好作乱者，未之有也。君子务本，本立而道生。孝弟也者，其为仁之本与！', '子曰： 巧言令色，鲜矣仁！']\n"
     ]
    }
   ],
   "source": [
    "documents = []\n",
    "for i in range(1, 11):\n",
    "    with open(f\"lunyu/text_ch{i}.txt\", \"r\") as f:\n",
    "        for line in f:\n",
    "            documents.append(line.strip())\n",
    "\n",
    "# Test result\n",
    "print(len(documents))\n",
    "print(documents[:3])"
   ]
  },
  {
   "cell_type": "markdown",
   "metadata": {},
   "source": [
    "**Clean the data**\n",
    "\n",
    "Replace spaces `' '` with empty string `''`"
   ]
  },
  {
   "cell_type": "code",
   "execution_count": 59,
   "metadata": {},
   "outputs": [
    {
     "data": {
      "text/plain": [
       "['子曰：学而时习之，不亦说乎？有朋自远方来，不亦乐乎？人不知而不愠，不亦君子乎？',\n",
       " '有子曰：其为人也孝弟，而好犯上者，鲜矣；不好犯上而好作乱者，未之有也。君子务本，本立而道生。孝弟也者，其为仁之本与！',\n",
       " '子曰：巧言令色，鲜矣仁！']"
      ]
     },
     "execution_count": 59,
     "metadata": {},
     "output_type": "execute_result"
    }
   ],
   "source": [
    "### START TODO ###\n",
    "documents = [document.replace(' ', '') for document in documents]\n",
    "### END TODO ###\n",
    "documents[:3]\n"
   ]
  },
  {
   "cell_type": "markdown",
   "metadata": {},
   "source": [
    "Concatenate all documents into a single string `words`, whose length is the number of tokens in the corpus."
   ]
  },
  {
   "cell_type": "code",
   "execution_count": 60,
   "metadata": {},
   "outputs": [],
   "source": [
    "### START TODO ###\n",
    "words: str = ''.join(documents)\n",
    "### END TODO ###"
   ]
  },
  {
   "cell_type": "code",
   "execution_count": 61,
   "metadata": {},
   "outputs": [
    {
     "name": "stdout",
     "output_type": "stream",
     "text": [
      "8664\n"
     ]
    }
   ],
   "source": [
    "# Test result\n",
    "print(len(words))\n",
    "\n",
    "# You are expected to see the following output:\n",
    "# 8664"
   ]
  },
  {
   "cell_type": "markdown",
   "metadata": {},
   "source": [
    "**Build vocabulary**\n",
    "\n",
    "Use `collections.Counter` to build a vocabulary of characters (字) from the cleaned data. Yes, we do not use word segmentation here. "
   ]
  },
  {
   "cell_type": "code",
   "execution_count": 62,
   "metadata": {},
   "outputs": [],
   "source": [
    "from collections import Counter\n",
    "\n",
    "### START TODO ###\n",
    "vocab = Counter(words)\n",
    "### END TODO ###"
   ]
  },
  {
   "cell_type": "code",
   "execution_count": 63,
   "metadata": {},
   "outputs": [
    {
     "name": "stdout",
     "output_type": "stream",
     "text": [
      "[('，', 738), ('。', 405), ('子', 402), ('：', 339), ('曰', 318), ('不', 272), ('也', 254), ('之', 251), ('而', 155), ('？', 126)]\n"
     ]
    }
   ],
   "source": [
    "# Test result\n",
    "print(vocab.most_common(10))\n",
    "\n",
    "# You are expected to see the following output:\n",
    "# [('，', 738), ('。', 405), ('子', 402), ('：', 339), ('曰', 318), ..."
   ]
  },
  {
   "cell_type": "markdown",
   "metadata": {},
   "source": [
    "**Build `word2index`**\n",
    "\n",
    "Use the vocabulary to build a `word2index` dictionary, which maps each character to an integer index.\n",
    "\n",
    "The order of indices should be the descending order of character frequency, i.e., the most frequent character has index 0, the second most frequent character has index 1, and so on.\n",
    "\n",
    "For example: \n",
    "```python\n",
    ">>> word2index['，']\n",
    ">>> 0\n",
    ">>> word2index['。']\n",
    ">>> 1\n",
    "```"
   ]
  },
  {
   "cell_type": "code",
   "execution_count": 64,
   "metadata": {},
   "outputs": [],
   "source": [
    "### START TODO ###\n",
    "word2index = {char: idx for idx, (char, _) in enumerate(vocab.most_common())}\n",
    "### END TODO ###"
   ]
  },
  {
   "cell_type": "code",
   "execution_count": 65,
   "metadata": {},
   "outputs": [
    {
     "name": "stdout",
     "output_type": "stream",
     "text": [
      "[('，', 0), ('。', 1), ('子', 2), ('：', 3), ('曰', 4), ('不', 5), ('也', 6), ('之', 7), ('而', 8), ('？', 9)]\n"
     ]
    }
   ],
   "source": [
    "# Test result\n",
    "print(list(itertools.islice(word2index.items(), 10)))\n",
    "\n",
    "# You are expected to see the following output:\n",
    "# [('，', 0), ('。', 1), ('子', 2), ('：', 3), ('曰', 4), ('不', 5), ('也', 6), ('之', 7), ('而', 8), ('？', 9)]"
   ]
  },
  {
   "cell_type": "markdown",
   "metadata": {},
   "source": [
    "**Initialize word-document matrix**\n",
    "\n",
    "Use `numpy.zeros()` to initialize a word-document matrix `A` with shape `(vocab-size, num-documents)`."
   ]
  },
  {
   "cell_type": "code",
   "execution_count": 66,
   "metadata": {},
   "outputs": [
    {
     "name": "stdout",
     "output_type": "stream",
     "text": [
      "(986, 267)\n",
      "[[0. 0. 0. ... 0. 0. 0.]\n",
      " [0. 0. 0. ... 0. 0. 0.]\n",
      " [0. 0. 0. ... 0. 0. 0.]\n",
      " ...\n",
      " [0. 0. 0. ... 0. 0. 0.]\n",
      " [0. 0. 0. ... 0. 0. 0.]\n",
      " [0. 0. 0. ... 0. 0. 0.]]\n"
     ]
    }
   ],
   "source": [
    "import numpy as np\n",
    "\n",
    "### START TODO ###\n",
    "vocab_size = len(vocab) \n",
    "num_documents = len(documents) \n",
    "A = np.zeros((vocab_size, num_documents))\n",
    "### END TODO ###\n",
    "\n",
    "# Test result\n",
    "print(A.shape)\n",
    "print(A)\n",
    "# You should see a matrix of all zeros with the shape of (vocab_size, num_documents)"
   ]
  },
  {
   "cell_type": "markdown",
   "metadata": {},
   "source": [
    "**Fill in the entries of word-document matrix**\n",
    "\n",
    "`A[i, j]` is the frequency of word `i` in document `j`. For simplicity, you can go through each document and count the frequency of each word that has appeared in the document.\n",
    "\n",
    "You may need the `word2index` dictionary to convert a word to its index, so that the correct row index `i` can be found. The column index `j` is the document index in the list `documents`."
   ]
  },
  {
   "cell_type": "code",
   "execution_count": 67,
   "metadata": {},
   "outputs": [],
   "source": [
    "# Assert A is all zeros; if not, run the previous cell to reset A\n",
    "assert np.all(A == 0)\n",
    "            \n",
    "### START TODO ###\n",
    "for i, d in enumerate(documents): \n",
    "    for character in d:  \n",
    "        if character in word2index: \n",
    "            w = word2index[character]  \n",
    "            A[w, i] += 1  \n",
    "### END TODO ###"
   ]
  },
  {
   "cell_type": "code",
   "execution_count": 68,
   "metadata": {},
   "outputs": [
    {
     "name": "stdout",
     "output_type": "stream",
     "text": [
      "[[3. 5. 1. 0. 3.]\n",
      " [0. 2. 0. 0. 1.]\n",
      " [2. 2. 1. 1. 1.]\n",
      " [1. 1. 1. 2. 1.]\n",
      " [1. 1. 1. 1. 1.]]\n"
     ]
    }
   ],
   "source": [
    "# Test result\n",
    "print(A[:5, :5])\n",
    "\n",
    "# You are expected to see the following output:\n",
    "# [[3. 5. 1. 0. 3.]\n",
    "#  [0. 2. 0. 0. 1.]\n",
    "#  [2. 2. 1. 1. 1.]\n",
    "#  [1. 1. 1. 2. 1.]\n",
    "#  [1. 1. 1. 1. 1.]]"
   ]
  },
  {
   "cell_type": "markdown",
   "metadata": {},
   "source": [
    "**Compute probabilities from the matrix**\n",
    "\n",
    "What is the total number of occurrences of the character \"学\" in the corpus?\n",
    "\n",
    "*Hint*: Use `numpy.sun()` on the correct subset of the matrix `A`."
   ]
  },
  {
   "cell_type": "code",
   "execution_count": 69,
   "metadata": {},
   "outputs": [
    {
     "name": "stdout",
     "output_type": "stream",
     "text": [
      "25.0\n"
     ]
    }
   ],
   "source": [
    "### START TODO ###\n",
    "index_of_char = word2index.get(\"学\") \n",
    "count = np.sum(A[index_of_char, :]) if index_of_char is not None else 0  \n",
    "### END TODO ###\n",
    "\n",
    "\n",
    "# Test result\n",
    "print(count)\n",
    "# You are expected to see the following output:\n",
    "# 25.0"
   ]
  },
  {
   "cell_type": "markdown",
   "metadata": {},
   "source": [
    "What is the expected count of the character \"学\" in the first document -- \"子曰：学而时习之，不亦说乎？有朋自远方来，不亦乐乎？人不知而不愠，不亦君子乎？\" (`documents[0]`)?\n",
    "\n",
    "*Hint*: First, compute the global unigram probability of `学`, then multiply it by the number of words in the first document."
   ]
  },
  {
   "cell_type": "code",
   "execution_count": 70,
   "metadata": {},
   "outputs": [
    {
     "name": "stdout",
     "output_type": "stream",
     "text": [
      "0.11253462603878117\n"
     ]
    }
   ],
   "source": [
    "### START TODO ###\n",
    "index_of_学 = word2index[\"学\"]\n",
    "total_occurrences_of_学 = np.sum(A[index_of_学, :])\n",
    "total_number_of_characters = np.sum(A)\n",
    "global_unigram_probability_of_学 = total_occurrences_of_学 / total_number_of_characters\n",
    "\n",
    "prob = global_unigram_probability_of_学\n",
    "\n",
    "num_chars_in_first_doc=len(documents[0])\n",
    "expected_count = prob * num_chars_in_first_doc\n",
    "### END TODO ###\n",
    "\n",
    "\n",
    "# Test result\n",
    "print(expected_count)\n",
    "# You are expected to see the following output:\n",
    "# 0.11253462603878117"
   ]
  },
  {
   "cell_type": "markdown",
   "metadata": {},
   "source": [
    "What is the *pointwise mutual information* (PMI) of the character \"学\", or \"surprise\" in `document[0]`? What about in document[1]?\n",
    "\n",
    "Complete the implementation of the function `PMI(word, doc, A, word2index, n_words, documents)`\n",
    "\n",
    "*Hint*: \n",
    "- Use the formula for PMI: $\\log(\\frac{\\text{observed count}}{\\text{expected count}})$\n",
    "- Handle the case when the observed count is 0, where the PMI is undefined. In this case, return 0.\n",
    "- The $[]_+$ operation means that we want to keep the PMI value positive. You can use `max()` to achieve this."
   ]
  },
  {
   "cell_type": "code",
   "execution_count": 71,
   "metadata": {},
   "outputs": [
    {
     "name": "stdout",
     "output_type": "stream",
     "text": [
      "2.1844943176829794\n",
      "0\n"
     ]
    }
   ],
   "source": [
    "### START TODO ###\n",
    "def PMI(word: str, doc: int, \n",
    "    A: np.ndarray, word2index: dict, \n",
    "    n_words: int, documents: List[str]) -> float:\n",
    "    \"\"\" Compute the pointwise mutual information of a word in a document.\n",
    "    Args:\n",
    "        word: The word to compute PMI for.\n",
    "        doc: The document index.\n",
    "        A: The word-document count matrix.\n",
    "        word2index: The word to index mapping.\n",
    "        n_words: The number of words in the corpus.\n",
    "        documents: The list of documents.\n",
    "    \"\"\"\n",
    "    \"\"\" Compute the pointwise mutual information of a word in a document.\"\"\"\n",
    "    if word not in word2index:\n",
    "        return 0  \n",
    "    \n",
    "    observed_count = A[word2index[word], doc]\n",
    "    \n",
    "    if observed_count == 0:\n",
    "        return 0  \n",
    "    \n",
    "    word_total_count = np.sum(A[word2index[word], :])\n",
    "    doc_length = len(documents[doc])\n",
    "    expected_count = (word_total_count * doc_length) / n_words\n",
    "\n",
    "    pmi = max(0, np.log(observed_count / expected_count))\n",
    "    return pmi\n",
    "### END TODO ###\n",
    "\n",
    "# Test result\n",
    "print(PMI('学', 0, A, word2index, len(words), documents))\n",
    "print(PMI('学', 1, A, word2index, len(words), documents))\n",
    "# You are expected to see the following output:\n",
    "# 2.1844943176829794\n",
    "# 0"
   ]
  },
  {
   "cell_type": "markdown",
   "metadata": {},
   "source": [
    "**Implement LSA using Truncated SVD**\n",
    "\n",
    "Use [sklearn.decomposition.TruncatedSVD](https://scikit-learn.org/stable/modules/generated/sklearn.decomposition.TruncatedSVD.html). (Check the documentation for more details)\n",
    "\n",
    "\n",
    "Set the number of components to 2, and fit the model with the word-document matrix `A`.\n",
    "\n",
    "Save the dimension reduced matrix to `M`."
   ]
  },
  {
   "cell_type": "code",
   "execution_count": 72,
   "metadata": {},
   "outputs": [],
   "source": [
    "### START TODO ###\n",
    "n_components = 2  \n",
    "svd = TruncatedSVD(n_components=n_components) \n",
    "M = svd.fit_transform(A) \n",
    "### END TODO ###"
   ]
  },
  {
   "cell_type": "code",
   "execution_count": 73,
   "metadata": {},
   "outputs": [
    {
     "name": "stdout",
     "output_type": "stream",
     "text": [
      "(986, 2)\n",
      "[1.41745292 0.49414623]\n"
     ]
    }
   ],
   "source": [
    "# Test result\n",
    "print(M.shape)\n",
    "print(M[word2index['学'],:])\n",
    "\n",
    "# You are expected to see the following output:\n",
    "# (986, 2)\n",
    "# [1.41745292 0.4941003 ]"
   ]
  },
  {
   "cell_type": "markdown",
   "metadata": {},
   "source": [
    "Plot some words in the 2D space."
   ]
  },
  {
   "cell_type": "code",
   "execution_count": 74,
   "metadata": {},
   "outputs": [
    {
     "data": {
      "image/png": "[encoded data removed]",
      "text/plain": [
       "<Figure size 600x600 with 1 Axes>"
      ]
     },
     "metadata": {},
     "output_type": "display_data"
    }
   ],
   "source": [
    "words = ['学', '习', '曰', '子', '人', '仁']\n",
    "words_pinyin = ['xue', 'xi', 'yue', 'zi', 'ren1', 'ren2']\n",
    "\n",
    "plt.figure(figsize=(6, 6))\n",
    "for i, word in enumerate(words):\n",
    "    plt.scatter(M[word2index[word], 0], M[word2index[word], 1])\n",
    "    plt.text(M[word2index[word], 0], M[word2index[word], 1], words_pinyin[i])\n",
    "plt.show()"
   ]
  },
  {
   "cell_type": "markdown",
   "metadata": {},
   "source": [
    "## T2. Play with Pretrained Word Vectors\n",
    "\n",
    "Checkout the `gensim` library and its `downloader` API here: https://radimrehurek.com/gensim/downloader.html"
   ]
  },
  {
   "cell_type": "code",
   "execution_count": 75,
   "metadata": {},
   "outputs": [],
   "source": [
    "def load_embedding_model():\n",
    "    \"\"\" Load Pretrained Vectors\n",
    "        Return:\n",
    "            wv_from_bin: All embeddings, each lengh 200 (or 300 if using Google News)\n",
    "    \"\"\"\n",
    "    import gensim.downloader as api\n",
    "    wv_from_bin = api.load(\"glove-wiki-gigaword-200\") # file size 252.1MB, vocab size 400k, dim 200\n",
    "    # You can also try \"word2vec-google-news-300\", which is much larger 1600+MB\n",
    "    print(\"Loaded vocab size %i\" % len(list(wv_from_bin.index_to_key)))\n",
    "    return wv_from_bin\n",
    "\n",
    "\n",
    "# Run this to get the full corpora information\n",
    "# import gensim.downloader as api\n",
    "# api.info()"
   ]
  },
  {
   "cell_type": "code",
   "execution_count": 76,
   "metadata": {},
   "outputs": [
    {
     "name": "stdout",
     "output_type": "stream",
     "text": [
      "Loaded vocab size 400000\n"
     ]
    }
   ],
   "source": [
    "# -----------------------------------\n",
    "# Run Cell to Load Word Vectors\n",
    "# Note: This will take a couple minutes\n",
    "# -----------------------------------\n",
    "wv_from_bin = load_embedding_model()"
   ]
  },
  {
   "cell_type": "markdown",
   "metadata": {},
   "source": [
    "Play with word analogy task using the `most_similar` method of the `KeyedVectors` class."
   ]
  },
  {
   "cell_type": "code",
   "execution_count": 77,
   "metadata": {},
   "outputs": [
    {
     "name": "stdout",
     "output_type": "stream",
     "text": [
      "[('grandmother', 0.7608445286750793),\n",
      " ('granddaughter', 0.7200808525085449),\n",
      " ('daughter', 0.7168302536010742),\n",
      " ('mother', 0.7151536345481873),\n",
      " ('niece', 0.7005682587623596),\n",
      " ('father', 0.6659888029098511),\n",
      " ('aunt', 0.6623408794403076),\n",
      " ('grandson', 0.6618767380714417),\n",
      " ('grandparents', 0.6446609497070312),\n",
      " ('wife', 0.6445354223251343)]\n"
     ]
    }
   ],
   "source": [
    "import pprint\n",
    "\n",
    "# Run this cell to answer the analogy -- man : grandfather :: woman : x\n",
    "pprint.pprint(wv_from_bin.most_similar(positive=['woman', 'grandfather'], negative=['man']))"
   ]
  },
  {
   "cell_type": "markdown",
   "metadata": {},
   "source": [
    "Follow the above example and try any other analogy tasks you like.\n",
    "\n",
    "For instance, China: Beijing = Japan: ?"
   ]
  },
  {
   "cell_type": "code",
   "execution_count": 78,
   "metadata": {},
   "outputs": [
    {
     "name": "stdout",
     "output_type": "stream",
     "text": [
      "[('brother', 0.7270498871803284),\n",
      " ('father', 0.6531276702880859),\n",
      " ('cousin', 0.6404421329498291),\n",
      " ('son', 0.6370454430580139),\n",
      " ('uncle', 0.6317039728164673),\n",
      " ('sons', 0.6011109352111816),\n",
      " ('friend', 0.5927498936653137),\n",
      " ('nephew', 0.5820999145507812),\n",
      " ('mother', 0.5816723704338074),\n",
      " ('daughter', 0.561065137386322)]\n"
     ]
    }
   ],
   "source": [
    "### START TODO ###\n",
    "pprint.pprint(wv_from_bin.most_similar(positive=['man', 'sister'], negative=['woman']))\n",
    "### END TODO ###"
   ]
  }
 ],
 "metadata": {
  "kernelspec": {
   "display_name": "pytorch-nightly",
   "language": "python",
   "name": "python3"
  },
  "language_info": {
   "codemirror_mode": {
    "name": "ipython",
    "version": 3
   },
   "file_extension": ".py",
   "mimetype": "text/x-python",
   "name": "python",
   "nbconvert_exporter": "python",
   "pygments_lexer": "ipython3",
   "version": "3.9.18"
  }
 },
 "nbformat": 4,
 "nbformat_minor": 2
}
